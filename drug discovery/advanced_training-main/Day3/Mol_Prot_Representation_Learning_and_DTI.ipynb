{
  "nbformat": 4,
  "nbformat_minor": 0,
  "metadata": {
    "colab": {
      "name": "Mol/Prot Representation Learning and DTI",
      "provenance": [],
      "collapsed_sections": [
        "DlzcRTJjNqZo"
      ],
      "toc_visible": true
    },
    "kernelspec": {
      "name": "python3",
      "display_name": "Python 3"
    },
    "accelerator": "GPU"
  },
  "cells": [
    {
      "cell_type": "markdown",
      "metadata": {
        "id": "IHlVB1dLXd6h"
      },
      "source": [
        "Author: Sooheon Kim \n",
        "\n",
        "\n",
        "KAICD\n",
        "\n",
        "2020/11"
      ]
    },
    {
      "cell_type": "markdown",
      "metadata": {
        "id": "yhegnQy4lrsf"
      },
      "source": [
        "# Agenda\n",
        "\n",
        "이 노트북 완성하면 배워가실 것:\n",
        "\n",
        "1. Molecule dataset 만들어 활용\n",
        "2. 분자 그래프를 처리할 수 있는 GNN\n",
        "3. 사전학습된 GNN 활용하여 embedding 진행\n",
        "    - Pooling 개념\n",
        "4. 사전학습된 Transformer 활용하여 embedding 진행\n",
        "5. Mol/Prot Embedding을 융합하여 Co-attentive pooled embeddings 생성\n",
        "    - 이를 활용한 interaction prediction\n",
        "\n",
        "\n",
        "이 교육에서 다루지 *않는* 부분:\n",
        "\n",
        "1. Training loop 형성, dataset split등 학습 과정 detail"
      ]
    },
    {
      "cell_type": "markdown",
      "metadata": {
        "id": "DlzcRTJjNqZo"
      },
      "source": [
        "# Env"
      ]
    },
    {
      "cell_type": "code",
      "metadata": {
        "id": "mMQftyKvdPbt",
        "outputId": "66d07920-b2b8-4439-bf49-c8bd66361146",
        "colab": {
          "base_uri": "https://localhost:8080/",
          "height": 0
        }
      },
      "source": [
        "!nvidia-smi"
      ],
      "execution_count": 104,
      "outputs": [
        {
          "output_type": "stream",
          "text": [
            "Tue Nov 10 11:51:25 2020       \n",
            "+-----------------------------------------------------------------------------+\n",
            "| NVIDIA-SMI 455.32.00    Driver Version: 418.67       CUDA Version: 10.1     |\n",
            "|-------------------------------+----------------------+----------------------+\n",
            "| GPU  Name        Persistence-M| Bus-Id        Disp.A | Volatile Uncorr. ECC |\n",
            "| Fan  Temp  Perf  Pwr:Usage/Cap|         Memory-Usage | GPU-Util  Compute M. |\n",
            "|                               |                      |               MIG M. |\n",
            "|===============================+======================+======================|\n",
            "|   0  Tesla T4            Off  | 00000000:00:04.0 Off |                    0 |\n",
            "| N/A   81C    P0    46W /  70W |   6501MiB / 15079MiB |      3%      Default |\n",
            "|                               |                      |                 ERR! |\n",
            "+-------------------------------+----------------------+----------------------+\n",
            "                                                                               \n",
            "+-----------------------------------------------------------------------------+\n",
            "| Processes:                                                                  |\n",
            "|  GPU   GI   CI        PID   Type   Process name                  GPU Memory |\n",
            "|        ID   ID                                                   Usage      |\n",
            "|=============================================================================|\n",
            "|  No running processes found                                                 |\n",
            "+-----------------------------------------------------------------------------+\n"
          ],
          "name": "stdout"
        }
      ]
    },
    {
      "cell_type": "code",
      "metadata": {
        "id": "kpt0-OnPirSL",
        "outputId": "81ca7566-7c2d-42f9-b5a2-ab83155522a7",
        "colab": {
          "base_uri": "https://localhost:8080/",
          "height": 0
        }
      },
      "source": [
        "!pip install dgl-cu101 dgllife ogb seaborn transformers nx_altair"
      ],
      "execution_count": 105,
      "outputs": [
        {
          "output_type": "stream",
          "text": [
            "Requirement already satisfied: dgl-cu101 in /usr/local/lib/python3.6/dist-packages (0.5.2)\n",
            "Requirement already satisfied: dgllife in /usr/local/lib/python3.6/dist-packages (0.2.6)\n",
            "Requirement already satisfied: ogb in /usr/local/lib/python3.6/dist-packages (1.2.3)\n",
            "Requirement already satisfied: seaborn in /usr/local/lib/python3.6/dist-packages (0.11.0)\n",
            "Requirement already satisfied: transformers in /usr/local/lib/python3.6/dist-packages (3.4.0)\n",
            "Requirement already satisfied: nx_altair in /usr/local/lib/python3.6/dist-packages (0.1.6)\n",
            "Requirement already satisfied: requests>=2.19.0 in /usr/local/lib/python3.6/dist-packages (from dgl-cu101) (2.23.0)\n",
            "Requirement already satisfied: numpy>=1.14.0 in /usr/local/lib/python3.6/dist-packages (from dgl-cu101) (1.18.5)\n",
            "Requirement already satisfied: networkx>=2.1 in /usr/local/lib/python3.6/dist-packages (from dgl-cu101) (2.5)\n",
            "Requirement already satisfied: scipy>=1.1.0 in /usr/local/lib/python3.6/dist-packages (from dgl-cu101) (1.4.1)\n",
            "Requirement already satisfied: pandas in /usr/local/lib/python3.6/dist-packages (from dgllife) (1.1.4)\n",
            "Requirement already satisfied: joblib in /usr/local/lib/python3.6/dist-packages (from dgllife) (0.17.0)\n",
            "Requirement already satisfied: tqdm in /usr/local/lib/python3.6/dist-packages (from dgllife) (4.41.1)\n",
            "Requirement already satisfied: hyperopt in /usr/local/lib/python3.6/dist-packages (from dgllife) (0.1.2)\n",
            "Requirement already satisfied: scikit-learn>=0.22.2 in /usr/local/lib/python3.6/dist-packages (from dgllife) (0.22.2.post1)\n",
            "Requirement already satisfied: torch>=1.2.0 in /usr/local/lib/python3.6/dist-packages (from ogb) (1.7.0+cu101)\n",
            "Requirement already satisfied: outdated>=0.2.0 in /usr/local/lib/python3.6/dist-packages (from ogb) (0.2.0)\n",
            "Requirement already satisfied: urllib3>=1.24.0 in /usr/local/lib/python3.6/dist-packages (from ogb) (1.24.3)\n",
            "Requirement already satisfied: six>=1.12.0 in /usr/local/lib/python3.6/dist-packages (from ogb) (1.15.0)\n",
            "Requirement already satisfied: matplotlib>=2.2 in /usr/local/lib/python3.6/dist-packages (from seaborn) (3.2.2)\n",
            "Requirement already satisfied: regex!=2019.12.17 in /usr/local/lib/python3.6/dist-packages (from transformers) (2019.12.20)\n",
            "Requirement already satisfied: dataclasses; python_version < \"3.7\" in /usr/local/lib/python3.6/dist-packages (from transformers) (0.7)\n",
            "Requirement already satisfied: sacremoses in /usr/local/lib/python3.6/dist-packages (from transformers) (0.0.43)\n",
            "Requirement already satisfied: sentencepiece!=0.1.92 in /usr/local/lib/python3.6/dist-packages (from transformers) (0.1.94)\n",
            "Requirement already satisfied: filelock in /usr/local/lib/python3.6/dist-packages (from transformers) (3.0.12)\n",
            "Requirement already satisfied: packaging in /usr/local/lib/python3.6/dist-packages (from transformers) (20.4)\n",
            "Requirement already satisfied: protobuf in /usr/local/lib/python3.6/dist-packages (from transformers) (3.12.4)\n",
            "Requirement already satisfied: tokenizers==0.9.2 in /usr/local/lib/python3.6/dist-packages (from transformers) (0.9.2)\n",
            "Requirement already satisfied: altair in /usr/local/lib/python3.6/dist-packages (from nx_altair) (4.1.0)\n",
            "Requirement already satisfied: chardet<4,>=3.0.2 in /usr/local/lib/python3.6/dist-packages (from requests>=2.19.0->dgl-cu101) (3.0.4)\n",
            "Requirement already satisfied: idna<3,>=2.5 in /usr/local/lib/python3.6/dist-packages (from requests>=2.19.0->dgl-cu101) (2.10)\n",
            "Requirement already satisfied: certifi>=2017.4.17 in /usr/local/lib/python3.6/dist-packages (from requests>=2.19.0->dgl-cu101) (2020.6.20)\n",
            "Requirement already satisfied: decorator>=4.3.0 in /usr/local/lib/python3.6/dist-packages (from networkx>=2.1->dgl-cu101) (4.4.2)\n",
            "Requirement already satisfied: pytz>=2017.2 in /usr/local/lib/python3.6/dist-packages (from pandas->dgllife) (2018.9)\n",
            "Requirement already satisfied: python-dateutil>=2.7.3 in /usr/local/lib/python3.6/dist-packages (from pandas->dgllife) (2.8.1)\n",
            "Requirement already satisfied: pymongo in /usr/local/lib/python3.6/dist-packages (from hyperopt->dgllife) (3.11.0)\n",
            "Requirement already satisfied: future in /usr/local/lib/python3.6/dist-packages (from hyperopt->dgllife) (0.16.0)\n",
            "Requirement already satisfied: typing-extensions in /usr/local/lib/python3.6/dist-packages (from torch>=1.2.0->ogb) (3.7.4.3)\n",
            "Requirement already satisfied: littleutils in /usr/local/lib/python3.6/dist-packages (from outdated>=0.2.0->ogb) (0.2.2)\n",
            "Requirement already satisfied: pyparsing!=2.0.4,!=2.1.2,!=2.1.6,>=2.0.1 in /usr/local/lib/python3.6/dist-packages (from matplotlib>=2.2->seaborn) (2.4.7)\n",
            "Requirement already satisfied: cycler>=0.10 in /usr/local/lib/python3.6/dist-packages (from matplotlib>=2.2->seaborn) (0.10.0)\n",
            "Requirement already satisfied: kiwisolver>=1.0.1 in /usr/local/lib/python3.6/dist-packages (from matplotlib>=2.2->seaborn) (1.3.1)\n",
            "Requirement already satisfied: click in /usr/local/lib/python3.6/dist-packages (from sacremoses->transformers) (7.1.2)\n",
            "Requirement already satisfied: setuptools in /usr/local/lib/python3.6/dist-packages (from protobuf->transformers) (50.3.2)\n",
            "Requirement already satisfied: jinja2 in /usr/local/lib/python3.6/dist-packages (from altair->nx_altair) (2.11.2)\n",
            "Requirement already satisfied: toolz in /usr/local/lib/python3.6/dist-packages (from altair->nx_altair) (0.11.1)\n",
            "Requirement already satisfied: jsonschema in /usr/local/lib/python3.6/dist-packages (from altair->nx_altair) (2.6.0)\n",
            "Requirement already satisfied: entrypoints in /usr/local/lib/python3.6/dist-packages (from altair->nx_altair) (0.3)\n",
            "Requirement already satisfied: MarkupSafe>=0.23 in /usr/local/lib/python3.6/dist-packages (from jinja2->altair->nx_altair) (1.1.1)\n"
          ],
          "name": "stdout"
        }
      ]
    },
    {
      "cell_type": "code",
      "metadata": {
        "id": "Q-m7LeGoi5Py",
        "outputId": "52180157-d00a-4a19-aff7-0260ff5ab01c",
        "colab": {
          "base_uri": "https://localhost:8080/",
          "height": 0
        }
      },
      "source": [
        "%%bash\n",
        "MINICONDA_INSTALLER_SCRIPT=Miniconda3-4.5.4-Linux-x86_64.sh\n",
        "MINICONDA_PREFIX=/opt/\n",
        "wget https://repo.continuum.io/miniconda/$MINICONDA_INSTALLER_SCRIPT\n",
        "chmod +x $MINICONDA_INSTALLER_SCRIPT\n",
        "sudo ./$MINICONDA_INSTALLER_SCRIPT -b -f -p $MINICONDA_PREFIX\n",
        "conda install --channel defaults conda python=3.6 --yes\n",
        "conda update --channel defaults --all --yes\n",
        "conda install -c rdkit rdkit --yes"
      ],
      "execution_count": 106,
      "outputs": [
        {
          "output_type": "stream",
          "text": [
            "PREFIX=/opt\n",
            "installing: python-3.6.5-hc3d631a_2 ...\n",
            "installing: ca-certificates-2018.03.07-0 ...\n",
            "installing: conda-env-2.6.0-h36134e3_1 ...\n",
            "installing: libgcc-ng-7.2.0-hdf63c60_3 ...\n",
            "installing: libstdcxx-ng-7.2.0-hdf63c60_3 ...\n",
            "installing: libffi-3.2.1-hd88cf55_4 ...\n",
            "installing: ncurses-6.1-hf484d3e_0 ...\n",
            "installing: openssl-1.0.2o-h20670df_0 ...\n",
            "installing: tk-8.6.7-hc745277_3 ...\n",
            "installing: xz-5.2.4-h14c3975_4 ...\n",
            "installing: yaml-0.1.7-had09818_2 ...\n",
            "installing: zlib-1.2.11-ha838bed_2 ...\n",
            "installing: libedit-3.1.20170329-h6b74fdf_2 ...\n",
            "installing: readline-7.0-ha6073c6_4 ...\n",
            "installing: sqlite-3.23.1-he433501_0 ...\n",
            "installing: asn1crypto-0.24.0-py36_0 ...\n",
            "installing: certifi-2018.4.16-py36_0 ...\n",
            "installing: chardet-3.0.4-py36h0f667ec_1 ...\n",
            "installing: idna-2.6-py36h82fb2a8_1 ...\n",
            "installing: pycosat-0.6.3-py36h0a5515d_0 ...\n",
            "installing: pycparser-2.18-py36hf9f622e_1 ...\n",
            "installing: pysocks-1.6.8-py36_0 ...\n",
            "installing: ruamel_yaml-0.15.37-py36h14c3975_2 ...\n",
            "installing: six-1.11.0-py36h372c433_1 ...\n",
            "installing: cffi-1.11.5-py36h9745a5d_0 ...\n",
            "installing: setuptools-39.2.0-py36_0 ...\n",
            "installing: cryptography-2.2.2-py36h14c3975_0 ...\n",
            "installing: wheel-0.31.1-py36_0 ...\n",
            "installing: pip-10.0.1-py36_0 ...\n",
            "installing: pyopenssl-18.0.0-py36_0 ...\n",
            "installing: urllib3-1.22-py36hbe7ace6_0 ...\n",
            "installing: requests-2.18.4-py36he2e5f8d_1 ...\n",
            "installing: conda-4.5.4-py36_0 ...\n",
            "unlinking: ca-certificates-2020.10.14-0\n",
            "unlinking: certifi-2020.6.20-pyhd3eb1b0_3\n",
            "unlinking: cffi-1.14.3-py36he30daa8_0\n",
            "unlinking: chardet-3.0.4-py36_1003\n",
            "unlinking: conda-4.9.1-py36h06a4308_0\n",
            "unlinking: cryptography-3.1.1-py36h1ba5d50_0\n",
            "unlinking: idna-2.10-py_0\n",
            "unlinking: libedit-3.1.20191231-h14c3975_1\n",
            "unlinking: libffi-3.3-he6710b0_2\n",
            "unlinking: libgcc-ng-9.1.0-hdf63c60_0\n",
            "unlinking: libstdcxx-ng-9.1.0-hdf63c60_0\n",
            "unlinking: ncurses-6.2-he6710b0_1\n",
            "unlinking: openssl-1.1.1h-h7b6447c_0\n",
            "unlinking: pip-20.2.4-py36h06a4308_0\n",
            "unlinking: pycosat-0.6.3-py36h7b6447c_0\n",
            "unlinking: pycparser-2.20-py_2\n",
            "unlinking: pyopenssl-19.1.0-py_1\n",
            "unlinking: pysocks-1.7.1-py36_0\n",
            "unlinking: python-3.6.12-hcff3b4d_2\n",
            "unlinking: readline-8.0-h7b6447c_0\n",
            "unlinking: requests-2.24.0-py_0\n",
            "unlinking: ruamel_yaml-0.15.87-py36h7b6447c_1\n",
            "unlinking: setuptools-50.3.1-py36h06a4308_1\n",
            "unlinking: six-1.15.0-py_0\n",
            "unlinking: sqlite-3.33.0-h62c20be_0\n",
            "unlinking: tk-8.6.10-hbc83047_0\n",
            "unlinking: urllib3-1.25.11-py_0\n",
            "unlinking: wheel-0.35.1-py_0\n",
            "unlinking: xz-5.2.5-h7b6447c_0\n",
            "unlinking: yaml-0.2.5-h7b6447c_0\n",
            "unlinking: zlib-1.2.11-h7b6447c_3\n",
            "installation finished.\n",
            "Solving environment: ...working... done\n",
            "\n",
            "## Package Plan ##\n",
            "\n",
            "  environment location: /opt\n",
            "\n",
            "  added / updated specs: \n",
            "    - conda\n",
            "    - python=3.6\n",
            "\n",
            "\n",
            "The following packages will be UPDATED:\n",
            "\n",
            "    ca-certificates: 2018.03.07-0            --> 2020.10.14-0           \n",
            "    certifi:         2018.4.16-py36_0        --> 2020.6.20-pyhd3eb1b0_3 \n",
            "    cffi:            1.11.5-py36h9745a5d_0   --> 1.14.3-py36he30daa8_0  \n",
            "    conda:           4.5.4-py36_0            --> 4.9.1-py36h06a4308_0   \n",
            "    cryptography:    2.2.2-py36h14c3975_0    --> 3.1.1-py36h1ba5d50_0   \n",
            "    libedit:         3.1.20170329-h6b74fdf_2 --> 3.1.20191231-h14c3975_1\n",
            "    libffi:          3.2.1-hd88cf55_4        --> 3.3-he6710b0_2         \n",
            "    libgcc-ng:       7.2.0-hdf63c60_3        --> 9.1.0-hdf63c60_0       \n",
            "    libstdcxx-ng:    7.2.0-hdf63c60_3        --> 9.1.0-hdf63c60_0       \n",
            "    ncurses:         6.1-hf484d3e_0          --> 6.2-he6710b0_1         \n",
            "    openssl:         1.0.2o-h20670df_0       --> 1.1.1h-h7b6447c_0      \n",
            "    python:          3.6.5-hc3d631a_2        --> 3.6.12-hcff3b4d_2      \n",
            "    readline:        7.0-ha6073c6_4          --> 8.0-h7b6447c_0         \n",
            "    sqlite:          3.23.1-he433501_0       --> 3.33.0-h62c20be_0      \n",
            "    tk:              8.6.7-hc745277_3        --> 8.6.10-hbc83047_0      \n",
            "    xz:              5.2.4-h14c3975_4        --> 5.2.5-h7b6447c_0       \n",
            "\n",
            "Preparing transaction: ...working... done\n",
            "Verifying transaction: ...working... done\n",
            "Executing transaction: ...working... done\n",
            "Collecting package metadata (current_repodata.json): ...working... done\n",
            "Solving environment: ...working... done\n",
            "\n",
            "## Package Plan ##\n",
            "\n",
            "  environment location: /opt\n",
            "\n",
            "\n",
            "The following packages will be downloaded:\n",
            "\n",
            "    package                    |            build\n",
            "    ---------------------------|-----------------\n",
            "    chardet-3.0.4              |        py36_1003         180 KB\n",
            "    idna-2.10                  |             py_0          50 KB\n",
            "    pip-20.2.4                 |   py36h06a4308_0         1.8 MB\n",
            "    pycosat-0.6.3              |   py36h7b6447c_0          82 KB\n",
            "    pycparser-2.20             |             py_2          94 KB\n",
            "    pyopenssl-19.1.0           |             py_1          48 KB\n",
            "    pysocks-1.7.1              |           py36_0          30 KB\n",
            "    requests-2.24.0            |             py_0          56 KB\n",
            "    ruamel_yaml-0.15.87        |   py36h7b6447c_1         244 KB\n",
            "    setuptools-50.3.1          |   py36h06a4308_1         723 KB\n",
            "    six-1.15.0                 |             py_0          13 KB\n",
            "    urllib3-1.25.11            |             py_0          99 KB\n",
            "    wheel-0.35.1               |             py_0          37 KB\n",
            "    yaml-0.2.5                 |       h7b6447c_0          75 KB\n",
            "    zlib-1.2.11                |       h7b6447c_3         103 KB\n",
            "    ------------------------------------------------------------\n",
            "                                           Total:         3.6 MB\n",
            "\n",
            "The following packages will be REMOVED:\n",
            "\n",
            "  asn1crypto-0.24.0-py36_0\n",
            "  blas-1.0-mkl\n",
            "  bzip2-1.0.8-h7b6447c_0\n",
            "  cairo-1.14.12-h8948797_3\n",
            "  conda-env-2.6.0-h36134e3_1\n",
            "  fontconfig-2.13.0-h9420a91_0\n",
            "  freetype-2.10.4-h5ab3b9f_0\n",
            "  glib-2.66.1-h92f7085_0\n",
            "  icu-58.2-he6710b0_3\n",
            "  intel-openmp-2020.2-254\n",
            "  jpeg-9b-h024ee3a_2\n",
            "  lcms2-2.11-h396b838_0\n",
            "  libboost-1.73.0-h37e3b65_11\n",
            "  libpng-1.6.37-hbc83047_0\n",
            "  libtiff-4.1.0-h2733197_1\n",
            "  libuuid-1.0.3-h1bed415_2\n",
            "  libxcb-1.14-h7b6447c_0\n",
            "  libxml2-2.9.10-hb55368b_3\n",
            "  lz4-c-1.9.2-heb0550a_3\n",
            "  mkl-2020.2-256\n",
            "  mkl-service-2.3.0-py36he904b0f_0\n",
            "  mkl_fft-1.2.0-py36h23d657b_0\n",
            "  mkl_random-1.1.1-py36h0573a6f_0\n",
            "  numpy-1.19.2-py36h54aff64_0\n",
            "  numpy-base-1.19.2-py36hfa32c7d_0\n",
            "  olefile-0.46-py36_0\n",
            "  pandas-1.1.3-py36he6710b0_0\n",
            "  pcre-8.44-he6710b0_0\n",
            "  pillow-8.0.1-py36he98fc37_0\n",
            "  pixman-0.40.0-h7b6447c_0\n",
            "  py-boost-1.73.0-py36h962f231_11\n",
            "  python-dateutil-2.8.1-py_0\n",
            "  pytz-2020.1-py_0\n",
            "  rdkit-2020.09.1.0-py36hd50e099_1\n",
            "  zstd-1.4.5-h9ceee32_0\n",
            "\n",
            "The following packages will be UPDATED:\n",
            "\n",
            "  chardet                              3.0.4-py36h0f667ec_1 --> 3.0.4-py36_1003\n",
            "  idna               pkgs/main/linux-64::idna-2.6-py36h82f~ --> pkgs/main/noarch::idna-2.10-py_0\n",
            "  pip                                         10.0.1-py36_0 --> 20.2.4-py36h06a4308_0\n",
            "  pycparser          pkgs/main/linux-64::pycparser-2.18-py~ --> pkgs/main/noarch::pycparser-2.20-py_2\n",
            "  pyopenssl          pkgs/main/linux-64::pyopenssl-18.0.0-~ --> pkgs/main/noarch::pyopenssl-19.1.0-py_1\n",
            "  pysocks                                      1.6.8-py36_0 --> 1.7.1-py36_0\n",
            "  requests           pkgs/main/linux-64::requests-2.18.4-p~ --> pkgs/main/noarch::requests-2.24.0-py_0\n",
            "  ruamel_yaml                        0.15.37-py36h14c3975_2 --> 0.15.87-py36h7b6447c_1\n",
            "  setuptools                                  39.2.0-py36_0 --> 50.3.1-py36h06a4308_1\n",
            "  six                pkgs/main/linux-64::six-1.11.0-py36h3~ --> pkgs/main/noarch::six-1.15.0-py_0\n",
            "  urllib3            pkgs/main/linux-64::urllib3-1.22-py36~ --> pkgs/main/noarch::urllib3-1.25.11-py_0\n",
            "  wheel              pkgs/main/linux-64::wheel-0.31.1-py36~ --> pkgs/main/noarch::wheel-0.35.1-py_0\n",
            "  yaml                                     0.1.7-had09818_2 --> 0.2.5-h7b6447c_0\n",
            "  zlib                                    1.2.11-ha838bed_2 --> 1.2.11-h7b6447c_3\n",
            "\n",
            "The following packages will be DOWNGRADED:\n",
            "\n",
            "  pycosat                              0.6.3-py36h0a5515d_0 --> 0.6.3-py36h7b6447c_0\n",
            "\n",
            "\n",
            "\n",
            "Downloading and Extracting Packages\n",
            "\rwheel-0.35.1         | 37 KB     |            |   0% \rwheel-0.35.1         | 37 KB     | ########## | 100% \rwheel-0.35.1         | 37 KB     | ########## | 100% \n",
            "\rpip-20.2.4           | 1.8 MB    |            |   0% \rpip-20.2.4           | 1.8 MB    | ########## | 100% \rpip-20.2.4           | 1.8 MB    | ########## | 100% \n",
            "\rsetuptools-50.3.1    | 723 KB    |            |   0% \rsetuptools-50.3.1    | 723 KB    | ########## | 100% \n",
            "\rurllib3-1.25.11      | 99 KB     |            |   0% \rurllib3-1.25.11      | 99 KB     | ########## | 100% \n",
            "\rpycosat-0.6.3        | 82 KB     |            |   0% \rpycosat-0.6.3        | 82 KB     | ########## | 100% \n",
            "\rpycparser-2.20       | 94 KB     |            |   0% \rpycparser-2.20       | 94 KB     | ########## | 100% \n",
            "\ridna-2.10            | 50 KB     |            |   0% \ridna-2.10            | 50 KB     | ########## | 100% \n",
            "\rpyopenssl-19.1.0     | 48 KB     |            |   0% \rpyopenssl-19.1.0     | 48 KB     | ########## | 100% \n",
            "\rzlib-1.2.11          | 103 KB    |            |   0% \rzlib-1.2.11          | 103 KB    | ########## | 100% \n",
            "\rpysocks-1.7.1        | 30 KB     |            |   0% \rpysocks-1.7.1        | 30 KB     | ########## | 100% \n",
            "\ryaml-0.2.5           | 75 KB     |            |   0% \ryaml-0.2.5           | 75 KB     | ########## | 100% \n",
            "\rruamel_yaml-0.15.87  | 244 KB    |            |   0% \rruamel_yaml-0.15.87  | 244 KB    | ########## | 100% \n",
            "\rchardet-3.0.4        | 180 KB    |            |   0% \rchardet-3.0.4        | 180 KB    | ########## | 100% \n",
            "\rsix-1.15.0           | 13 KB     |            |   0% \rsix-1.15.0           | 13 KB     | ########## | 100% \n",
            "\rrequests-2.24.0      | 56 KB     |            |   0% \rrequests-2.24.0      | 56 KB     | ########## | 100% \n",
            "Preparing transaction: ...working... done\n",
            "Verifying transaction: ...working... done\n",
            "Executing transaction: ...working... done\n",
            "Collecting package metadata (current_repodata.json): ...working... done\n",
            "Solving environment: ...working... done\n",
            "\n",
            "## Package Plan ##\n",
            "\n",
            "  environment location: /opt\n",
            "\n",
            "  added / updated specs:\n",
            "    - rdkit\n",
            "\n",
            "\n",
            "The following NEW packages will be INSTALLED:\n",
            "\n",
            "  blas               pkgs/main/linux-64::blas-1.0-mkl\n",
            "  bzip2              pkgs/main/linux-64::bzip2-1.0.8-h7b6447c_0\n",
            "  cairo              pkgs/main/linux-64::cairo-1.14.12-h8948797_3\n",
            "  fontconfig         pkgs/main/linux-64::fontconfig-2.13.0-h9420a91_0\n",
            "  freetype           pkgs/main/linux-64::freetype-2.10.4-h5ab3b9f_0\n",
            "  glib               pkgs/main/linux-64::glib-2.66.1-h92f7085_0\n",
            "  icu                pkgs/main/linux-64::icu-58.2-he6710b0_3\n",
            "  intel-openmp       pkgs/main/linux-64::intel-openmp-2020.2-254\n",
            "  jpeg               pkgs/main/linux-64::jpeg-9b-h024ee3a_2\n",
            "  lcms2              pkgs/main/linux-64::lcms2-2.11-h396b838_0\n",
            "  libboost           pkgs/main/linux-64::libboost-1.73.0-h37e3b65_11\n",
            "  libpng             pkgs/main/linux-64::libpng-1.6.37-hbc83047_0\n",
            "  libtiff            pkgs/main/linux-64::libtiff-4.1.0-h2733197_1\n",
            "  libuuid            pkgs/main/linux-64::libuuid-1.0.3-h1bed415_2\n",
            "  libxcb             pkgs/main/linux-64::libxcb-1.14-h7b6447c_0\n",
            "  libxml2            pkgs/main/linux-64::libxml2-2.9.10-hb55368b_3\n",
            "  lz4-c              pkgs/main/linux-64::lz4-c-1.9.2-heb0550a_3\n",
            "  mkl                pkgs/main/linux-64::mkl-2020.2-256\n",
            "  mkl-service        pkgs/main/linux-64::mkl-service-2.3.0-py36he904b0f_0\n",
            "  mkl_fft            pkgs/main/linux-64::mkl_fft-1.2.0-py36h23d657b_0\n",
            "  mkl_random         pkgs/main/linux-64::mkl_random-1.1.1-py36h0573a6f_0\n",
            "  numpy              pkgs/main/linux-64::numpy-1.19.2-py36h54aff64_0\n",
            "  numpy-base         pkgs/main/linux-64::numpy-base-1.19.2-py36hfa32c7d_0\n",
            "  olefile            pkgs/main/linux-64::olefile-0.46-py36_0\n",
            "  pandas             pkgs/main/linux-64::pandas-1.1.3-py36he6710b0_0\n",
            "  pcre               pkgs/main/linux-64::pcre-8.44-he6710b0_0\n",
            "  pillow             pkgs/main/linux-64::pillow-8.0.1-py36he98fc37_0\n",
            "  pixman             pkgs/main/linux-64::pixman-0.40.0-h7b6447c_0\n",
            "  py-boost           pkgs/main/linux-64::py-boost-1.73.0-py36h962f231_11\n",
            "  python-dateutil    pkgs/main/noarch::python-dateutil-2.8.1-py_0\n",
            "  pytz               pkgs/main/noarch::pytz-2020.1-py_0\n",
            "  rdkit              rdkit/linux-64::rdkit-2020.09.1.0-py36hd50e099_1\n",
            "  zstd               pkgs/main/linux-64::zstd-1.4.5-h9ceee32_0\n",
            "\n",
            "\n",
            "Preparing transaction: ...working... done\n",
            "Verifying transaction: ...working... done\n",
            "Executing transaction: ...working... done\n"
          ],
          "name": "stdout"
        },
        {
          "output_type": "stream",
          "text": [
            "--2020-11-10 11:51:28--  https://repo.continuum.io/miniconda/Miniconda3-4.5.4-Linux-x86_64.sh\n",
            "Resolving repo.continuum.io (repo.continuum.io)... 104.18.201.79, 104.18.200.79, 2606:4700::6812:c94f, ...\n",
            "Connecting to repo.continuum.io (repo.continuum.io)|104.18.201.79|:443... connected.\n",
            "HTTP request sent, awaiting response... 301 Moved Permanently\n",
            "Location: https://repo.anaconda.com/miniconda/Miniconda3-4.5.4-Linux-x86_64.sh [following]\n",
            "--2020-11-10 11:51:28--  https://repo.anaconda.com/miniconda/Miniconda3-4.5.4-Linux-x86_64.sh\n",
            "Resolving repo.anaconda.com (repo.anaconda.com)... 104.16.131.3, 104.16.130.3, 2606:4700::6810:8203, ...\n",
            "Connecting to repo.anaconda.com (repo.anaconda.com)|104.16.131.3|:443... connected.\n",
            "HTTP request sent, awaiting response... 200 OK\n",
            "Length: 58468498 (56M) [application/x-sh]\n",
            "Saving to: ‘Miniconda3-4.5.4-Linux-x86_64.sh.1’\n",
            "\n",
            "     0K .......... .......... .......... .......... ..........  0% 59.0M 1s\n",
            "    50K .......... .......... .......... .......... ..........  0% 6.08M 5s\n",
            "   100K .......... .......... .......... .......... ..........  0% 6.50M 6s\n",
            "   150K .......... .......... .......... .......... ..........  0% 5.84M 7s\n",
            "   200K .......... .......... .......... .......... ..........  0% 85.2M 6s\n",
            "   250K .......... .......... .......... .......... ..........  0% 72.4M 5s\n",
            "   300K .......... .......... .......... .......... ..........  0% 9.46M 5s\n",
            "   350K .......... .......... .......... .......... ..........  0%  158M 4s\n",
            "   400K .......... .......... .......... .......... ..........  0%  157M 4s\n",
            "   450K .......... .......... .......... .......... ..........  0%  156M 4s\n",
            "   500K .......... .......... .......... .......... ..........  0%  186M 3s\n",
            "   550K .......... .......... .......... .......... ..........  1%  155M 3s\n",
            "   600K .......... .......... .......... .......... ..........  1%  134M 3s\n",
            "   650K .......... .......... .......... .......... ..........  1%  147M 3s\n",
            "   700K .......... .......... .......... .......... ..........  1%  111M 3s\n",
            "   750K .......... .......... .......... .......... ..........  1% 9.77M 3s\n",
            "   800K .......... .......... .......... .......... ..........  1%  170M 3s\n",
            "   850K .......... .......... .......... .......... ..........  1%  180M 2s\n",
            "   900K .......... .......... .......... .......... ..........  1%  227M 2s\n",
            "   950K .......... .......... .......... .......... ..........  1%  130M 2s\n",
            "  1000K .......... .......... .......... .......... ..........  1%  114M 2s\n",
            "  1050K .......... .......... .......... .......... ..........  1% 95.1M 2s\n",
            "  1100K .......... .......... .......... .......... ..........  2%  115M 2s\n",
            "  1150K .......... .......... .......... .......... ..........  2%  112M 2s\n",
            "  1200K .......... .......... .......... .......... ..........  2%  198M 2s\n",
            "  1250K .......... .......... .......... .......... ..........  2%  144M 2s\n",
            "  1300K .......... .......... .......... .......... ..........  2%  139M 2s\n",
            "  1350K .......... .......... .......... .......... ..........  2%  101M 2s\n",
            "  1400K .......... .......... .......... .......... ..........  2%  128M 2s\n",
            "  1450K .......... .......... .......... .......... ..........  2%  194M 2s\n",
            "  1500K .......... .......... .......... .......... ..........  2%  125M 2s\n",
            "  1550K .......... .......... .......... .......... ..........  2% 96.3M 2s\n",
            "  1600K .......... .......... .......... .......... ..........  2%  210M 2s\n",
            "  1650K .......... .......... .......... .......... ..........  2% 33.6M 2s\n",
            "  1700K .......... .......... .......... .......... ..........  3% 69.3M 1s\n",
            "  1750K .......... .......... .......... .......... ..........  3%  187M 1s\n",
            "  1800K .......... .......... .......... .......... ..........  3%  175M 1s\n",
            "  1850K .......... .......... .......... .......... ..........  3%  268M 1s\n",
            "  1900K .......... .......... .......... .......... ..........  3%  234M 1s\n",
            "  1950K .......... .......... .......... .......... ..........  3%  292M 1s\n",
            "  2000K .......... .......... .......... .......... ..........  3%  238M 1s\n",
            "  2050K .......... .......... .......... .......... ..........  3%  202M 1s\n",
            "  2100K .......... .......... .......... .......... ..........  3%  147M 1s\n",
            "  2150K .......... .......... .......... .......... ..........  3%  200M 1s\n",
            "  2200K .......... .......... .......... .......... ..........  3%  264M 1s\n",
            "  2250K .......... .......... .......... .......... ..........  4%  331M 1s\n",
            "  2300K .......... .......... .......... .......... ..........  4%  245M 1s\n",
            "  2350K .......... .......... .......... .......... ..........  4%  229M 1s\n",
            "  2400K .......... .......... .......... .......... ..........  4%  215M 1s\n",
            "  2450K .......... .......... .......... .......... ..........  4% 88.7M 1s\n",
            "  2500K .......... .......... .......... .......... ..........  4%  141M 1s\n",
            "  2550K .......... .......... .......... .......... ..........  4% 46.1M 1s\n",
            "  2600K .......... .......... .......... .......... ..........  4% 46.1M 1s\n",
            "  2650K .......... .......... .......... .......... ..........  4% 47.3M 1s\n",
            "  2700K .......... .......... .......... .......... ..........  4%  120M 1s\n",
            "  2750K .......... .......... .......... .......... ..........  4%  147M 1s\n",
            "  2800K .......... .......... .......... .......... ..........  4%  179M 1s\n",
            "  2850K .......... .......... .......... .......... ..........  5%  175M 1s\n",
            "  2900K .......... .......... .......... .......... ..........  5%  147M 1s\n",
            "  2950K .......... .......... .......... .......... ..........  5%  127M 1s\n",
            "  3000K .......... .......... .......... .......... ..........  5%  161M 1s\n",
            "  3050K .......... .......... .......... .......... ..........  5%  132M 1s\n",
            "  3100K .......... .......... .......... .......... ..........  5%  175M 1s\n",
            "  3150K .......... .......... .......... .......... ..........  5%  110M 1s\n",
            "  3200K .......... .......... .......... .......... ..........  5%  155M 1s\n",
            "  3250K .......... .......... .......... .......... ..........  5%  175M 1s\n",
            "  3300K .......... .......... .......... .......... ..........  5%  178M 1s\n",
            "  3350K .......... .......... .......... .......... ..........  5%  134M 1s\n",
            "  3400K .......... .......... .......... .......... ..........  6%  173M 1s\n",
            "  3450K .......... .......... .......... .......... ..........  6%  174M 1s\n",
            "  3500K .......... .......... .......... .......... ..........  6%  175M 1s\n",
            "  3550K .......... .......... .......... .......... ..........  6%  151M 1s\n",
            "  3600K .......... .......... .......... .......... ..........  6%  184M 1s\n",
            "  3650K .......... .......... .......... .......... ..........  6%  152M 1s\n",
            "  3700K .......... .......... .......... .......... ..........  6%  170M 1s\n",
            "  3750K .......... .......... .......... .......... ..........  6%  144M 1s\n",
            "  3800K .......... .......... .......... .......... ..........  6%  184M 1s\n",
            "  3850K .......... .......... .......... .......... ..........  6%  210M 1s\n",
            "  3900K .......... .......... .......... .......... ..........  6%  194M 1s\n",
            "  3950K .......... .......... .......... .......... ..........  7%  157M 1s\n",
            "  4000K .......... .......... .......... .......... ..........  7%  208M 1s\n",
            "  4050K .......... .......... .......... .......... ..........  7%  196M 1s\n",
            "  4100K .......... .......... .......... .......... ..........  7%  180M 1s\n",
            "  4150K .......... .......... .......... .......... ..........  7%  148M 1s\n",
            "  4200K .......... .......... .......... .......... ..........  7%  175M 1s\n",
            "  4250K .......... .......... .......... .......... ..........  7%  169M 1s\n",
            "  4300K .......... .......... .......... .......... ..........  7%  174M 1s\n",
            "  4350K .......... .......... .......... .......... ..........  7%  184M 1s\n",
            "  4400K .......... .......... .......... .......... ..........  7%  192M 1s\n",
            "  4450K .......... .......... .......... .......... ..........  7%  184M 1s\n",
            "  4500K .......... .......... .......... .......... ..........  7%  197M 1s\n",
            "  4550K .......... .......... .......... .......... ..........  8%  146M 1s\n",
            "  4600K .......... .......... .......... .......... ..........  8%  182M 1s\n",
            "  4650K .......... .......... .......... .......... ..........  8%  206M 1s\n",
            "  4700K .......... .......... .......... .......... ..........  8%  181M 1s\n",
            "  4750K .......... .......... .......... .......... ..........  8%  166M 1s\n",
            "  4800K .......... .......... .......... .......... ..........  8%  175M 1s\n",
            "  4850K .......... .......... .......... .......... ..........  8%  204M 1s\n",
            "  4900K .......... .......... .......... .......... ..........  8%  230M 1s\n",
            "  4950K .......... .......... .......... .......... ..........  8%  169M 1s\n",
            "  5000K .......... .......... .......... .......... ..........  8%  154M 1s\n",
            "  5050K .......... .......... .......... .......... ..........  8%  182M 1s\n",
            "  5100K .......... .......... .......... .......... ..........  9%  214M 1s\n",
            "  5150K .......... .......... .......... .......... ..........  9%  197M 1s\n",
            "  5200K .......... .......... .......... .......... ..........  9%  192M 1s\n",
            "  5250K .......... .......... .......... .......... ..........  9%  200M 1s\n",
            "  5300K .......... .......... .......... .......... ..........  9%  206M 1s\n",
            "  5350K .......... .......... .......... .......... ..........  9%  132M 1s\n",
            "  5400K .......... .......... .......... .......... ..........  9%  161M 1s\n",
            "  5450K .......... .......... .......... .......... ..........  9%  160M 1s\n",
            "  5500K .......... .......... .......... .......... ..........  9%  174M 1s\n",
            "  5550K .......... .......... .......... .......... ..........  9%  156M 1s\n",
            "  5600K .......... .......... .......... .......... ..........  9%  203M 1s\n",
            "  5650K .......... .......... .......... .......... ..........  9%  191M 1s\n",
            "  5700K .......... .......... .......... .......... .......... 10%  148M 1s\n",
            "  5750K .......... .......... .......... .......... .......... 10%  149M 1s\n",
            "  5800K .......... .......... .......... .......... .......... 10%  163M 1s\n",
            "  5850K .......... .......... .......... .......... .......... 10%  199M 1s\n",
            "  5900K .......... .......... .......... .......... .......... 10%  178M 1s\n",
            "  5950K .......... .......... .......... .......... .......... 10%  167M 1s\n",
            "  6000K .......... .......... .......... .......... .......... 10%  180M 1s\n",
            "  6050K .......... .......... .......... .......... .......... 10%  196M 1s\n",
            "  6100K .......... .......... .......... .......... .......... 10%  213M 1s\n",
            "  6150K .......... .......... .......... .......... .......... 10%  175M 1s\n",
            "  6200K .......... .......... .......... .......... .......... 10%  216M 1s\n",
            "  6250K .......... .......... .......... .......... .......... 11%  104M 1s\n",
            "  6300K .......... .......... .......... .......... .......... 11%  149M 1s\n",
            "  6350K .......... .......... .......... .......... .......... 11%  132M 1s\n",
            "  6400K .......... .......... .......... .......... .......... 11%  152M 1s\n",
            "  6450K .......... .......... .......... .......... .......... 11%  190M 1s\n",
            "  6500K .......... .......... .......... .......... .......... 11%  176M 1s\n",
            "  6550K .......... .......... .......... .......... .......... 11%  135M 1s\n",
            "  6600K .......... .......... .......... .......... .......... 11%  181M 1s\n",
            "  6650K .......... .......... .......... .......... .......... 11%  163M 1s\n",
            "  6700K .......... .......... .......... .......... .......... 11%  185M 1s\n",
            "  6750K .......... .......... .......... .......... .......... 11%  135M 1s\n",
            "  6800K .......... .......... .......... .......... .......... 11%  163M 1s\n",
            "  6850K .......... .......... .......... .......... .......... 12%  159M 1s\n",
            "  6900K .......... .......... .......... .......... .......... 12%  163M 1s\n",
            "  6950K .......... .......... .......... .......... .......... 12%  141M 1s\n",
            "  7000K .......... .......... .......... .......... .......... 12%  171M 1s\n",
            "  7050K .......... .......... .......... .......... .......... 12%  170M 1s\n",
            "  7100K .......... .......... .......... .......... .......... 12%  200M 1s\n",
            "  7150K .......... .......... .......... .......... .......... 12%  151M 1s\n",
            "  7200K .......... .......... .......... .......... .......... 12%  154M 1s\n",
            "  7250K .......... .......... .......... .......... .......... 12%  174M 1s\n",
            "  7300K .......... .......... .......... .......... .......... 12%  203M 1s\n",
            "  7350K .......... .......... .......... .......... .......... 12%  150M 1s\n",
            "  7400K .......... .......... .......... .......... .......... 13%  175M 1s\n",
            "  7450K .......... .......... .......... .......... .......... 13%  208M 1s\n",
            "  7500K .......... .......... .......... .......... .......... 13%  172M 1s\n",
            "  7550K .......... .......... .......... .......... .......... 13%  131M 1s\n",
            "  7600K .......... .......... .......... .......... .......... 13%  159M 1s\n",
            "  7650K .......... .......... .......... .......... .......... 13%  148M 1s\n",
            "  7700K .......... .......... .......... .......... .......... 13%  190M 1s\n",
            "  7750K .......... .......... .......... .......... .......... 13%  138M 1s\n",
            "  7800K .......... .......... .......... .......... .......... 13%  191M 1s\n",
            "  7850K .......... .......... .......... .......... .......... 13%  167M 1s\n",
            "  7900K .......... .......... .......... .......... .......... 13%  154M 1s\n",
            "  7950K .......... .......... .......... .......... .......... 14%  139M 1s\n",
            "  8000K .......... .......... .......... .......... .......... 14%  174M 1s\n",
            "  8050K .......... .......... .......... .......... .......... 14%  164M 1s\n",
            "  8100K .......... .......... .......... .......... .......... 14%  164M 1s\n",
            "  8150K .......... .......... .......... .......... .......... 14%  155M 1s\n",
            "  8200K .......... .......... .......... .......... .......... 14%  191M 1s\n",
            "  8250K .......... .......... .......... .......... .......... 14%  182M 1s\n",
            "  8300K .......... .......... .......... .......... .......... 14%  175M 1s\n",
            "  8350K .......... .......... .......... .......... .......... 14%  167M 1s\n",
            "  8400K .......... .......... .......... .......... .......... 14%  159M 1s\n",
            "  8450K .......... .......... .......... .......... .......... 14%  190M 1s\n",
            "  8500K .......... .......... .......... .......... .......... 14%  172M 1s\n",
            "  8550K .......... .......... .......... .......... .......... 15%  158M 1s\n",
            "  8600K .......... .......... .......... .......... .......... 15%  178M 0s\n",
            "  8650K .......... .......... .......... .......... .......... 15%  182M 0s\n",
            "  8700K .......... .......... .......... .......... .......... 15%  193M 0s\n",
            "  8750K .......... .......... .......... .......... .......... 15%  165M 0s\n",
            "  8800K .......... .......... .......... .......... .......... 15%  181M 0s\n",
            "  8850K .......... .......... .......... .......... .......... 15%  202M 0s\n",
            "  8900K .......... .......... .......... .......... .......... 15%  189M 0s\n",
            "  8950K .......... .......... .......... .......... .......... 15%  124M 0s\n",
            "  9000K .......... .......... .......... .......... .......... 15%  195M 0s\n",
            "  9050K .......... .......... .......... .......... .......... 15%  187M 0s\n",
            "  9100K .......... .......... .......... .......... .......... 16%  204M 0s\n",
            "  9150K .......... .......... .......... .......... .......... 16%  169M 0s\n",
            "  9200K .......... .......... .......... .......... .......... 16%  188M 0s\n",
            "  9250K .......... .......... .......... .......... .......... 16%  170M 0s\n",
            "  9300K .......... .......... .......... .......... .......... 16%  154M 0s\n",
            "  9350K .......... .......... .......... .......... .......... 16%  160M 0s\n",
            "  9400K .......... .......... .......... .......... .......... 16%  182M 0s\n",
            "  9450K .......... .......... .......... .......... .......... 16%  186M 0s\n",
            "  9500K .......... .......... .......... .......... .......... 16%  161M 0s\n",
            "  9550K .......... .......... .......... .......... .......... 16%  159M 0s\n",
            "  9600K .......... .......... .......... .......... .......... 16%  186M 0s\n",
            "  9650K .......... .......... .......... .......... .......... 16%  155M 0s\n",
            "  9700K .......... .......... .......... .......... .......... 17%  149M 0s\n",
            "  9750K .......... .......... .......... .......... .......... 17%  156M 0s\n",
            "  9800K .......... .......... .......... .......... .......... 17%  162M 0s\n",
            "  9850K .......... .......... .......... .......... .......... 17%  196M 0s\n",
            "  9900K .......... .......... .......... .......... .......... 17%  171M 0s\n",
            "  9950K .......... .......... .......... .......... .......... 17%  168M 0s\n",
            " 10000K .......... .......... .......... .......... .......... 17%  164M 0s\n",
            " 10050K .......... .......... .......... .......... .......... 17%  195M 0s\n",
            " 10100K .......... .......... .......... .......... .......... 17%  181M 0s\n",
            " 10150K .......... .......... .......... .......... .......... 17%  150M 0s\n",
            " 10200K .......... .......... .......... .......... .......... 17%  189M 0s\n",
            " 10250K .......... .......... .......... .......... .......... 18%  199M 0s\n",
            " 10300K .......... .......... .......... .......... .......... 18%  178M 0s\n",
            " 10350K .......... .......... .......... .......... .......... 18%  153M 0s\n",
            " 10400K .......... .......... .......... .......... .......... 18%  200M 0s\n",
            " 10450K .......... .......... .......... .......... .......... 18%  193M 0s\n",
            " 10500K .......... .......... .......... .......... .......... 18%  192M 0s\n",
            " 10550K .......... .......... .......... .......... .......... 18%  146M 0s\n",
            " 10600K .......... .......... .......... .......... .......... 18%  182M 0s\n",
            " 10650K .......... .......... .......... .......... .......... 18%  185M 0s\n",
            " 10700K .......... .......... .......... .......... .......... 18%  170M 0s\n",
            " 10750K .......... .......... .......... .......... .......... 18%  156M 0s\n",
            " 10800K .......... .......... .......... .......... .......... 19%  194M 0s\n",
            " 10850K .......... .......... .......... .......... .......... 19%  197M 0s\n",
            " 10900K .......... .......... .......... .......... .......... 19%  169M 0s\n",
            " 10950K .......... .......... .......... .......... .......... 19%  157M 0s\n",
            " 11000K .......... .......... .......... .......... .......... 19%  159M 0s\n",
            " 11050K .......... .......... .......... .......... .......... 19%  168M 0s\n",
            " 11100K .......... .......... .......... .......... .......... 19%  180M 0s\n",
            " 11150K .......... .......... .......... .......... .......... 19%  145M 0s\n",
            " 11200K .......... .......... .......... .......... .......... 19%  201M 0s\n",
            " 11250K .......... .......... .......... .......... .......... 19%  184M 0s\n",
            " 11300K .......... .......... .......... .......... .......... 19%  199M 0s\n",
            " 11350K .......... .......... .......... .......... .......... 19%  142M 0s\n",
            " 11400K .......... .......... .......... .......... .......... 20%  179M 0s\n",
            " 11450K .......... .......... .......... .......... .......... 20%  170M 0s\n",
            " 11500K .......... .......... .......... .......... .......... 20%  183M 0s\n",
            " 11550K .......... .......... .......... .......... .......... 20%  166M 0s\n",
            " 11600K .......... .......... .......... .......... .......... 20%  166M 0s\n",
            " 11650K .......... .......... .......... .......... .......... 20%  166M 0s\n",
            " 11700K .......... .......... .......... .......... .......... 20%  197M 0s\n",
            " 11750K .......... .......... .......... .......... .......... 20%  148M 0s\n",
            " 11800K .......... .......... .......... .......... .......... 20%  200M 0s\n",
            " 11850K .......... .......... .......... .......... .......... 20%  201M 0s\n",
            " 11900K .......... .......... .......... .......... .......... 20%  174M 0s\n",
            " 11950K .......... .......... .......... .......... .......... 21%  146M 0s\n",
            " 12000K .......... .......... .......... .......... .......... 21%  180M 0s\n",
            " 12050K .......... .......... .......... .......... .......... 21%  190M 0s\n",
            " 12100K .......... .......... .......... .......... .......... 21%  178M 0s\n",
            " 12150K .......... .......... .......... .......... .......... 21%  159M 0s\n",
            " 12200K .......... .......... .......... .......... .......... 21%  201M 0s\n",
            " 12250K .......... .......... .......... .......... .......... 21%  183M 0s\n",
            " 12300K .......... .......... .......... .......... .......... 21%  199M 0s\n",
            " 12350K .......... .......... .......... .......... .......... 21%  192M 0s\n",
            " 12400K .......... .......... .......... .......... .......... 21%  187M 0s\n",
            " 12450K .......... .......... .......... .......... .......... 21%  204M 0s\n",
            " 12500K .......... .......... .......... .......... .......... 21%  213M 0s\n",
            " 12550K .......... .......... .......... .......... .......... 22%  163M 0s\n",
            " 12600K .......... .......... .......... .......... .......... 22%  185M 0s\n",
            " 12650K .......... .......... .......... .......... .......... 22%  174M 0s\n",
            " 12700K .......... .......... .......... .......... .......... 22%  204M 0s\n",
            " 12750K .......... .......... .......... .......... .......... 22%  157M 0s\n",
            " 12800K .......... .......... .......... .......... .......... 22%  193M 0s\n",
            " 12850K .......... .......... .......... .......... .......... 22%  218M 0s\n",
            " 12900K .......... .......... .......... .......... .......... 22%  175M 0s\n",
            " 12950K .......... .......... .......... .......... .......... 22%  166M 0s\n",
            " 13000K .......... .......... .......... .......... .......... 22%  189M 0s\n",
            " 13050K .......... .......... .......... .......... .......... 22%  227M 0s\n",
            " 13100K .......... .......... .......... .......... .......... 23%  219M 0s\n",
            " 13150K .......... .......... .......... .......... .......... 23%  187M 0s\n",
            " 13200K .......... .......... .......... .......... .......... 23%  199M 0s\n",
            " 13250K .......... .......... .......... .......... .......... 23%  221M 0s\n",
            " 13300K .......... .......... .......... .......... .......... 23%  185M 0s\n",
            " 13350K .......... .......... .......... .......... .......... 23%  169M 0s\n",
            " 13400K .......... .......... .......... .......... .......... 23%  185M 0s\n",
            " 13450K .......... .......... .......... .......... .......... 23%  185M 0s\n",
            " 13500K .......... .......... .......... .......... .......... 23%  169M 0s\n",
            " 13550K .......... .......... .......... .......... .......... 23%  156M 0s\n",
            " 13600K .......... .......... .......... .......... .......... 23%  182M 0s\n",
            " 13650K .......... .......... .......... .......... .......... 23%  189M 0s\n",
            " 13700K .......... .......... .......... .......... .......... 24%  177M 0s\n",
            " 13750K .......... .......... .......... .......... .......... 24%  158M 0s\n",
            " 13800K .......... .......... .......... .......... .......... 24%  201M 0s\n",
            " 13850K .......... .......... .......... .......... .......... 24%  171M 0s\n",
            " 13900K .......... .......... .......... .......... .......... 24%  172M 0s\n",
            " 13950K .......... .......... .......... .......... .......... 24% 71.6M 0s\n",
            " 14000K .......... .......... .......... .......... .......... 24%  191M 0s\n",
            " 14050K .......... .......... .......... .......... .......... 24%  204M 0s\n",
            " 14100K .......... .......... .......... .......... .......... 24%  235M 0s\n",
            " 14150K .......... .......... .......... .......... .......... 24%  188M 0s\n",
            " 14200K .......... .......... .......... .......... .......... 24%  228M 0s\n",
            " 14250K .......... .......... .......... .......... .......... 25%  234M 0s\n",
            " 14300K .......... .......... .......... .......... .......... 25%  181M 0s\n",
            " 14350K .......... .......... .......... .......... .......... 25%  179M 0s\n",
            " 14400K .......... .......... .......... .......... .......... 25%  181M 0s\n",
            " 14450K .......... .......... .......... .......... .......... 25%  187M 0s\n",
            " 14500K .......... .......... .......... .......... .......... 25%  200M 0s\n",
            " 14550K .......... .......... .......... .......... .......... 25%  156M 0s\n",
            " 14600K .......... .......... .......... .......... .......... 25%  205M 0s\n",
            " 14650K .......... .......... .......... .......... .......... 25%  200M 0s\n",
            " 14700K .......... .......... .......... .......... .......... 25%  200M 0s\n",
            " 14750K .......... .......... .......... .......... .......... 25%  187M 0s\n",
            " 14800K .......... .......... .......... .......... .......... 26%  215M 0s\n",
            " 14850K .......... .......... .......... .......... .......... 26%  203M 0s\n",
            " 14900K .......... .......... .......... .......... .......... 26%  212M 0s\n",
            " 14950K .......... .......... .......... .......... .......... 26%  166M 0s\n",
            " 15000K .......... .......... .......... .......... .......... 26%  202M 0s\n",
            " 15050K .......... .......... .......... .......... .......... 26%  211M 0s\n",
            " 15100K .......... .......... .......... .......... .......... 26%  187M 0s\n",
            " 15150K .......... .......... .......... .......... .......... 26%  163M 0s\n",
            " 15200K .......... .......... .......... .......... .......... 26%  218M 0s\n",
            " 15250K .......... .......... .......... .......... .......... 26%  192M 0s\n",
            " 15300K .......... .......... .......... .......... .......... 26%  193M 0s\n",
            " 15350K .......... .......... .......... .......... .......... 26%  173M 0s\n",
            " 15400K .......... .......... .......... .......... .......... 27%  221M 0s\n",
            " 15450K .......... .......... .......... .......... .......... 27%  161M 0s\n",
            " 15500K .......... .......... .......... .......... .......... 27%  176M 0s\n",
            " 15550K .......... .......... .......... .......... .......... 27%  144M 0s\n",
            " 15600K .......... .......... .......... .......... .......... 27%  152M 0s\n",
            " 15650K .......... .......... .......... .......... .......... 27%  188M 0s\n",
            " 15700K .......... .......... .......... .......... .......... 27%  184M 0s\n",
            " 15750K .......... .......... .......... .......... .......... 27%  146M 0s\n",
            " 15800K .......... .......... .......... .......... .......... 27%  170M 0s\n",
            " 15850K .......... .......... .......... .......... .......... 27%  203M 0s\n",
            " 15900K .......... .......... .......... .......... .......... 27%  220M 0s\n",
            " 15950K .......... .......... .......... .......... .......... 28%  194M 0s\n",
            " 16000K .......... .......... .......... .......... .......... 28%  215M 0s\n",
            " 16050K .......... .......... .......... .......... .......... 28%  195M 0s\n",
            " 16100K .......... .......... .......... .......... .......... 28%  234M 0s\n",
            " 16150K .......... .......... .......... .......... .......... 28%  192M 0s\n",
            " 16200K .......... .......... .......... .......... .......... 28%  225M 0s\n",
            " 16250K .......... .......... .......... .......... .......... 28%  235M 0s\n",
            " 16300K .......... .......... .......... .......... .......... 28%  210M 0s\n",
            " 16350K .......... .......... .......... .......... .......... 28%  210M 0s\n",
            " 16400K .......... .......... .......... .......... .......... 28%  236M 0s\n",
            " 16450K .......... .......... .......... .......... .......... 28%  224M 0s\n",
            " 16500K .......... .......... .......... .......... .......... 28%  222M 0s\n",
            " 16550K .......... .......... .......... .......... .......... 29%  179M 0s\n",
            " 16600K .......... .......... .......... .......... .......... 29%  197M 0s\n",
            " 16650K .......... .......... .......... .......... .......... 29%  212M 0s\n",
            " 16700K .......... .......... .......... .......... .......... 29%  185M 0s\n",
            " 16750K .......... .......... .......... .......... .......... 29%  180M 0s\n",
            " 16800K .......... .......... .......... .......... .......... 29%  211M 0s\n",
            " 16850K .......... .......... .......... .......... .......... 29%  208M 0s\n",
            " 16900K .......... .......... .......... .......... .......... 29%  221M 0s\n",
            " 16950K .......... .......... .......... .......... .......... 29%  154M 0s\n",
            " 17000K .......... .......... .......... .......... .......... 29%  182M 0s\n",
            " 17050K .......... .......... .......... .......... .......... 29%  196M 0s\n",
            " 17100K .......... .......... .......... .......... .......... 30%  132M 0s\n",
            " 17150K .......... .......... .......... .......... .......... 30%  123M 0s\n",
            " 17200K .......... .......... .......... .......... .......... 30%  167M 0s\n",
            " 17250K .......... .......... .......... .......... .......... 30%  163M 0s\n",
            " 17300K .......... .......... .......... .......... .......... 30%  178M 0s\n",
            " 17350K .......... .......... .......... .......... .......... 30%  166M 0s\n",
            " 17400K .......... .......... .......... .......... .......... 30%  218M 0s\n",
            " 17450K .......... .......... .......... .......... .......... 30%  178M 0s\n",
            " 17500K .......... .......... .......... .......... .......... 30%  191M 0s\n",
            " 17550K .......... .......... .......... .......... .......... 30%  169M 0s\n",
            " 17600K .......... .......... .......... .......... .......... 30%  187M 0s\n",
            " 17650K .......... .......... .......... .......... .......... 30%  197M 0s\n",
            " 17700K .......... .......... .......... .......... .......... 31%  192M 0s\n",
            " 17750K .......... .......... .......... .......... .......... 31%  170M 0s\n",
            " 17800K .......... .......... .......... .......... .......... 31%  203M 0s\n",
            " 17850K .......... .......... .......... .......... .......... 31%  206M 0s\n",
            " 17900K .......... .......... .......... .......... .......... 31%  182M 0s\n",
            " 17950K .......... .......... .......... .......... .......... 31%  175M 0s\n",
            " 18000K .......... .......... .......... .......... .......... 31%  204M 0s\n",
            " 18050K .......... .......... .......... .......... .......... 31%  219M 0s\n",
            " 18100K .......... .......... .......... .......... .......... 31%  217M 0s\n",
            " 18150K .......... .......... .......... .......... .......... 31%  144M 0s\n",
            " 18200K .......... .......... .......... .......... .......... 31%  189M 0s\n",
            " 18250K .......... .......... .......... .......... .......... 32%  218M 0s\n",
            " 18300K .......... .......... .......... .......... .......... 32%  214M 0s\n",
            " 18350K .......... .......... .......... .......... .......... 32%  175M 0s\n",
            " 18400K .......... .......... .......... .......... .......... 32%  200M 0s\n",
            " 18450K .......... .......... .......... .......... .......... 32%  218M 0s\n",
            " 18500K .......... .......... .......... .......... .......... 32%  207M 0s\n",
            " 18550K .......... .......... .......... .......... .......... 32%  167M 0s\n",
            " 18600K .......... .......... .......... .......... .......... 32%  192M 0s\n",
            " 18650K .......... .......... .......... .......... .......... 32%  189M 0s\n",
            " 18700K .......... .......... .......... .......... .......... 32%  152M 0s\n",
            " 18750K .......... .......... .......... .......... .......... 32%  147M 0s\n",
            " 18800K .......... .......... .......... .......... .......... 33%  203M 0s\n",
            " 18850K .......... .......... .......... .......... .......... 33%  191M 0s\n",
            " 18900K .......... .......... .......... .......... .......... 33%  171M 0s\n",
            " 18950K .......... .......... .......... .......... .......... 33%  160M 0s\n",
            " 19000K .......... .......... .......... .......... .......... 33%  234M 0s\n",
            " 19050K .......... .......... .......... .......... .......... 33%  212M 0s\n",
            " 19100K .......... .......... .......... .......... .......... 33%  138M 0s\n",
            " 19150K .......... .......... .......... .......... .......... 33%  149M 0s\n",
            " 19200K .......... .......... .......... .......... .......... 33%  163M 0s\n",
            " 19250K .......... .......... .......... .......... .......... 33%  158M 0s\n",
            " 19300K .......... .......... .......... .......... .......... 33%  164M 0s\n",
            " 19350K .......... .......... .......... .......... .......... 33%  140M 0s\n",
            " 19400K .......... .......... .......... .......... .......... 34%  163M 0s\n",
            " 19450K .......... .......... .......... .......... .......... 34%  170M 0s\n",
            " 19500K .......... .......... .......... .......... .......... 34%  222M 0s\n",
            " 19550K .......... .......... .......... .......... .......... 34%  175M 0s\n",
            " 19600K .......... .......... .......... .......... .......... 34%  176M 0s\n",
            " 19650K .......... .......... .......... .......... .......... 34%  251M 0s\n",
            " 19700K .......... .......... .......... .......... .......... 34%  212M 0s\n",
            " 19750K .......... .......... .......... .......... .......... 34%  182M 0s\n",
            " 19800K .......... .......... .......... .......... .......... 34%  212M 0s\n",
            " 19850K .......... .......... .......... .......... .......... 34%  175M 0s\n",
            " 19900K .......... .......... .......... .......... .......... 34%  214M 0s\n",
            " 19950K .......... .......... .......... .......... .......... 35%  151M 0s\n",
            " 20000K .......... .......... .......... .......... .......... 35%  194M 0s\n",
            " 20050K .......... .......... .......... .......... .......... 35%  170M 0s\n",
            " 20100K .......... .......... .......... .......... .......... 35%  187M 0s\n",
            " 20150K .......... .......... .......... .......... .......... 35%  163M 0s\n",
            " 20200K .......... .......... .......... .......... .......... 35%  214M 0s\n",
            " 20250K .......... .......... .......... .......... .......... 35%  171M 0s\n",
            " 20300K .......... .......... .......... .......... .......... 35%  185M 0s\n",
            " 20350K .......... .......... .......... .......... .......... 35%  159M 0s\n",
            " 20400K .......... .......... .......... .......... .......... 35%  191M 0s\n",
            " 20450K .......... .......... .......... .......... .......... 35%  169M 0s\n",
            " 20500K .......... .......... .......... .......... .......... 35%  185M 0s\n",
            " 20550K .......... .......... .......... .......... .......... 36%  149M 0s\n",
            " 20600K .......... .......... .......... .......... .......... 36%  196M 0s\n",
            " 20650K .......... .......... .......... .......... .......... 36%  199M 0s\n",
            " 20700K .......... .......... .......... .......... .......... 36%  189M 0s\n",
            " 20750K .......... .......... .......... .......... .......... 36%  182M 0s\n",
            " 20800K .......... .......... .......... .......... .......... 36%  185M 0s\n",
            " 20850K .......... .......... .......... .......... .......... 36%  181M 0s\n",
            " 20900K .......... .......... .......... .......... .......... 36%  162M 0s\n",
            " 20950K .......... .......... .......... .......... .......... 36%  148M 0s\n",
            " 21000K .......... .......... .......... .......... .......... 36%  189M 0s\n",
            " 21050K .......... .......... .......... .......... .......... 36%  194M 0s\n",
            " 21100K .......... .......... .......... .......... .......... 37%  201M 0s\n",
            " 21150K .......... .......... .......... .......... .......... 37%  163M 0s\n",
            " 21200K .......... .......... .......... .......... .......... 37%  272M 0s\n",
            " 21250K .......... .......... .......... .......... .......... 37%  331M 0s\n",
            " 21300K .......... .......... .......... .......... .......... 37%  296M 0s\n",
            " 21350K .......... .......... .......... .......... .......... 37%  248M 0s\n",
            " 21400K .......... .......... .......... .......... .......... 37%  197M 0s\n",
            " 21450K .......... .......... .......... .......... .......... 37%  190M 0s\n",
            " 21500K .......... .......... .......... .......... .......... 37%  186M 0s\n",
            " 21550K .......... .......... .......... .......... .......... 37%  156M 0s\n",
            " 21600K .......... .......... .......... .......... .......... 37%  161M 0s\n",
            " 21650K .......... .......... .......... .......... .......... 38%  196M 0s\n",
            " 21700K .......... .......... .......... .......... .......... 38%  198M 0s\n",
            " 21750K .......... .......... .......... .......... .......... 38%  147M 0s\n",
            " 21800K .......... .......... .......... .......... .......... 38%  213M 0s\n",
            " 21850K .......... .......... .......... .......... .......... 38%  216M 0s\n",
            " 21900K .......... .......... .......... .......... .......... 38%  179M 0s\n",
            " 21950K .......... .......... .......... .......... .......... 38%  172M 0s\n",
            " 22000K .......... .......... .......... .......... .......... 38%  193M 0s\n",
            " 22050K .......... .......... .......... .......... .......... 38%  168M 0s\n",
            " 22100K .......... .......... .......... .......... .......... 38%  174M 0s\n",
            " 22150K .......... .......... .......... .......... .......... 38%  130M 0s\n",
            " 22200K .......... .......... .......... .......... .......... 38%  179M 0s\n",
            " 22250K .......... .......... .......... .......... .......... 39%  168M 0s\n",
            " 22300K .......... .......... .......... .......... .......... 39%  175M 0s\n",
            " 22350K .......... .......... .......... .......... .......... 39%  165M 0s\n",
            " 22400K .......... .......... .......... .......... .......... 39%  172M 0s\n",
            " 22450K .......... .......... .......... .......... .......... 39%  188M 0s\n",
            " 22500K .......... .......... .......... .......... .......... 39%  195M 0s\n",
            " 22550K .......... .......... .......... .......... .......... 39%  168M 0s\n",
            " 22600K .......... .......... .......... .......... .......... 39%  175M 0s\n",
            " 22650K .......... .......... .......... .......... .......... 39%  163M 0s\n",
            " 22700K .......... .......... .......... .......... .......... 39%  199M 0s\n",
            " 22750K .......... .......... .......... .......... .......... 39%  174M 0s\n",
            " 22800K .......... .......... .......... .......... .......... 40%  178M 0s\n",
            " 22850K .......... .......... .......... .......... .......... 40%  139M 0s\n",
            " 22900K .......... .......... .......... .......... .......... 40%  174M 0s\n",
            " 22950K .......... .......... .......... .......... .......... 40%  158M 0s\n",
            " 23000K .......... .......... .......... .......... .......... 40%  174M 0s\n",
            " 23050K .......... .......... .......... .......... .......... 40%  178M 0s\n",
            " 23100K .......... .......... .......... .......... .......... 40%  126M 0s\n",
            " 23150K .......... .......... .......... .......... .......... 40%  144M 0s\n",
            " 23200K .......... .......... .......... .......... .......... 40%  194M 0s\n",
            " 23250K .......... .......... .......... .......... .......... 40%  152M 0s\n",
            " 23300K .......... .......... .......... .......... .......... 40%  205M 0s\n",
            " 23350K .......... .......... .......... .......... .......... 40%  142M 0s\n",
            " 23400K .......... .......... .......... .......... .......... 41%  187M 0s\n",
            " 23450K .......... .......... .......... .......... .......... 41%  194M 0s\n",
            " 23500K .......... .......... .......... .......... .......... 41%  181M 0s\n",
            " 23550K .......... .......... .......... .......... .......... 41%  150M 0s\n",
            " 23600K .......... .......... .......... .......... .......... 41%  187M 0s\n",
            " 23650K .......... .......... .......... .......... .......... 41%  189M 0s\n",
            " 23700K .......... .......... .......... .......... .......... 41%  190M 0s\n",
            " 23750K .......... .......... .......... .......... .......... 41%  144M 0s\n",
            " 23800K .......... .......... .......... .......... .......... 41%  178M 0s\n",
            " 23850K .......... .......... .......... .......... .......... 41%  191M 0s\n",
            " 23900K .......... .......... .......... .......... .......... 41%  214M 0s\n",
            " 23950K .......... .......... .......... .......... .......... 42%  178M 0s\n",
            " 24000K .......... .......... .......... .......... .......... 42%  199M 0s\n",
            " 24050K .......... .......... .......... .......... .......... 42%  184M 0s\n",
            " 24100K .......... .......... .......... .......... .......... 42%  200M 0s\n",
            " 24150K .......... .......... .......... .......... .......... 42%  144M 0s\n",
            " 24200K .......... .......... .......... .......... .......... 42%  173M 0s\n",
            " 24250K .......... .......... .......... .......... .......... 42%  186M 0s\n",
            " 24300K .......... .......... .......... .......... .......... 42%  168M 0s\n",
            " 24350K .......... .......... .......... .......... .......... 42%  176M 0s\n",
            " 24400K .......... .......... .......... .......... .......... 42%  194M 0s\n",
            " 24450K .......... .......... .......... .......... .......... 42%  193M 0s\n",
            " 24500K .......... .......... .......... .......... .......... 42%  159M 0s\n",
            " 24550K .......... .......... .......... .......... .......... 43%  141M 0s\n",
            " 24600K .......... .......... .......... .......... .......... 43%  183M 0s\n",
            " 24650K .......... .......... .......... .......... .......... 43%  196M 0s\n",
            " 24700K .......... .......... .......... .......... .......... 43%  179M 0s\n",
            " 24750K .......... .......... .......... .......... .......... 43%  115M 0s\n",
            " 24800K .......... .......... .......... .......... .......... 43%  213M 0s\n",
            " 24850K .......... .......... .......... .......... .......... 43%  187M 0s\n",
            " 24900K .......... .......... .......... .......... .......... 43%  168M 0s\n",
            " 24950K .......... .......... .......... .......... .......... 43%  152M 0s\n",
            " 25000K .......... .......... .......... .......... .......... 43%  166M 0s\n",
            " 25050K .......... .......... .......... .......... .......... 43%  181M 0s\n",
            " 25100K .......... .......... .......... .......... .......... 44%  163M 0s\n",
            " 25150K .......... .......... .......... .......... .......... 44%  177M 0s\n",
            " 25200K .......... .......... .......... .......... .......... 44%  218M 0s\n",
            " 25250K .......... .......... .......... .......... .......... 44%  210M 0s\n",
            " 25300K .......... .......... .......... .......... .......... 44%  203M 0s\n",
            " 25350K .......... .......... .......... .......... .......... 44%  160M 0s\n",
            " 25400K .......... .......... .......... .......... .......... 44%  215M 0s\n",
            " 25450K .......... .......... .......... .......... .......... 44%  211M 0s\n",
            " 25500K .......... .......... .......... .......... .......... 44%  195M 0s\n",
            " 25550K .......... .......... .......... .......... .......... 44%  176M 0s\n",
            " 25600K .......... .......... .......... .......... .......... 44%  175M 0s\n",
            " 25650K .......... .......... .......... .......... .......... 45%  193M 0s\n",
            " 25700K .......... .......... .......... .......... .......... 45%  190M 0s\n",
            " 25750K .......... .......... .......... .......... .......... 45%  281M 0s\n",
            " 25800K .......... .......... .......... .......... .......... 45%  291M 0s\n",
            " 25850K .......... .......... .......... .......... .......... 45%  253M 0s\n",
            " 25900K .......... .......... .......... .......... .......... 45%  350M 0s\n",
            " 25950K .......... .......... .......... .......... .......... 45%  254M 0s\n",
            " 26000K .......... .......... .......... .......... .......... 45%  175M 0s\n",
            " 26050K .......... .......... .......... .......... .......... 45%  154M 0s\n",
            " 26100K .......... .......... .......... .......... .......... 45%  169M 0s\n",
            " 26150K .......... .......... .......... .......... .......... 45%  168M 0s\n",
            " 26200K .......... .......... .......... .......... .......... 45%  218M 0s\n",
            " 26250K .......... .......... .......... .......... .......... 46%  173M 0s\n",
            " 26300K .......... .......... .......... .......... .......... 46%  216M 0s\n",
            " 26350K .......... .......... .......... .......... .......... 46%  184M 0s\n",
            " 26400K .......... .......... .......... .......... .......... 46%  184M 0s\n",
            " 26450K .......... .......... .......... .......... .......... 46%  194M 0s\n",
            " 26500K .......... .......... .......... .......... .......... 46%  216M 0s\n",
            " 26550K .......... .......... .......... .......... .......... 46%  153M 0s\n",
            " 26600K .......... .......... .......... .......... .......... 46%  207M 0s\n",
            " 26650K .......... .......... .......... .......... .......... 46%  174M 0s\n",
            " 26700K .......... .......... .......... .......... .......... 46%  167M 0s\n",
            " 26750K .......... .......... .......... .......... .......... 46%  166M 0s\n",
            " 26800K .......... .......... .......... .......... .......... 47%  156M 0s\n",
            " 26850K .......... .......... .......... .......... .......... 47%  191M 0s\n",
            " 26900K .......... .......... .......... .......... .......... 47%  190M 0s\n",
            " 26950K .......... .......... .......... .......... .......... 47%  167M 0s\n",
            " 27000K .......... .......... .......... .......... .......... 47%  196M 0s\n",
            " 27050K .......... .......... .......... .......... .......... 47%  182M 0s\n",
            " 27100K .......... .......... .......... .......... .......... 47%  189M 0s\n",
            " 27150K .......... .......... .......... .......... .......... 47%  159M 0s\n",
            " 27200K .......... .......... .......... .......... .......... 47%  156M 0s\n",
            " 27250K .......... .......... .......... .......... .......... 47%  153M 0s\n",
            " 27300K .......... .......... .......... .......... .......... 47%  181M 0s\n",
            " 27350K .......... .......... .......... .......... .......... 47%  126M 0s\n",
            " 27400K .......... .......... .......... .......... .......... 48%  170M 0s\n",
            " 27450K .......... .......... .......... .......... .......... 48%  175M 0s\n",
            " 27500K .......... .......... .......... .......... .......... 48%  182M 0s\n",
            " 27550K .......... .......... .......... .......... .......... 48%  180M 0s\n",
            " 27600K .......... .......... .......... .......... .......... 48%  162M 0s\n",
            " 27650K .......... .......... .......... .......... .......... 48%  192M 0s\n",
            " 27700K .......... .......... .......... .......... .......... 48%  185M 0s\n",
            " 27750K .......... .......... .......... .......... .......... 48%  160M 0s\n",
            " 27800K .......... .......... .......... .......... .......... 48%  188M 0s\n",
            " 27850K .......... .......... .......... .......... .......... 48%  179M 0s\n",
            " 27900K .......... .......... .......... .......... .......... 48%  160M 0s\n",
            " 27950K .......... .......... .......... .......... .......... 49%  157M 0s\n",
            " 28000K .......... .......... .......... .......... .......... 49%  191M 0s\n",
            " 28050K .......... .......... .......... .......... .......... 49%  203M 0s\n",
            " 28100K .......... .......... .......... .......... .......... 49%  205M 0s\n",
            " 28150K .......... .......... .......... .......... .......... 49%  171M 0s\n",
            " 28200K .......... .......... .......... .......... .......... 49%  185M 0s\n",
            " 28250K .......... .......... .......... .......... .......... 49%  164M 0s\n",
            " 28300K .......... .......... .......... .......... .......... 49%  184M 0s\n",
            " 28350K .......... .......... .......... .......... .......... 49%  181M 0s\n",
            " 28400K .......... .......... .......... .......... .......... 49%  169M 0s\n",
            " 28450K .......... .......... .......... .......... .......... 49%  171M 0s\n",
            " 28500K .......... .......... .......... .......... .......... 50%  166M 0s\n",
            " 28550K .......... .......... .......... .......... .......... 50%  151M 0s\n",
            " 28600K .......... .......... .......... .......... .......... 50%  193M 0s\n",
            " 28650K .......... .......... .......... .......... .......... 50%  170M 0s\n",
            " 28700K .......... .......... .......... .......... .......... 50%  174M 0s\n",
            " 28750K .......... .......... .......... .......... .......... 50%  154M 0s\n",
            " 28800K .......... .......... .......... .......... .......... 50%  200M 0s\n",
            " 28850K .......... .......... .......... .......... .......... 50%  186M 0s\n",
            " 28900K .......... .......... .......... .......... .......... 50%  200M 0s\n",
            " 28950K .......... .......... .......... .......... .......... 50%  156M 0s\n",
            " 29000K .......... .......... .......... .......... .......... 50%  154M 0s\n",
            " 29050K .......... .......... .......... .......... .......... 50%  196M 0s\n",
            " 29100K .......... .......... .......... .......... .......... 51%  200M 0s\n",
            " 29150K .......... .......... .......... .......... .......... 51%  175M 0s\n",
            " 29200K .......... .......... .......... .......... .......... 51%  167M 0s\n",
            " 29250K .......... .......... .......... .......... .......... 51%  183M 0s\n",
            " 29300K .......... .......... .......... .......... .......... 51%  147M 0s\n",
            " 29350K .......... .......... .......... .......... .......... 51%  152M 0s\n",
            " 29400K .......... .......... .......... .......... .......... 51%  184M 0s\n",
            " 29450K .......... .......... .......... .......... .......... 51%  187M 0s\n",
            " 29500K .......... .......... .......... .......... .......... 51%  185M 0s\n",
            " 29550K .......... .......... .......... .......... .......... 51%  164M 0s\n",
            " 29600K .......... .......... .......... .......... .......... 51%  186M 0s\n",
            " 29650K .......... .......... .......... .......... .......... 52%  179M 0s\n",
            " 29700K .......... .......... .......... .......... .......... 52%  197M 0s\n",
            " 29750K .......... .......... .......... .......... .......... 52%  134M 0s\n",
            " 29800K .......... .......... .......... .......... .......... 52%  170M 0s\n",
            " 29850K .......... .......... .......... .......... .......... 52%  184M 0s\n",
            " 29900K .......... .......... .......... .......... .......... 52%  157M 0s\n",
            " 29950K .......... .......... .......... .......... .......... 52%  172M 0s\n",
            " 30000K .......... .......... .......... .......... .......... 52%  163M 0s\n",
            " 30050K .......... .......... .......... .......... .......... 52%  155M 0s\n",
            " 30100K .......... .......... .......... .......... .......... 52%  171M 0s\n",
            " 30150K .......... .......... .......... .......... .......... 52%  143M 0s\n",
            " 30200K .......... .......... .......... .......... .......... 52%  175M 0s\n",
            " 30250K .......... .......... .......... .......... .......... 53%  176M 0s\n",
            " 30300K .......... .......... .......... .......... .......... 53%  157M 0s\n",
            " 30350K .......... .......... .......... .......... .......... 53%  170M 0s\n",
            " 30400K .......... .......... .......... .......... .......... 53%  189M 0s\n",
            " 30450K .......... .......... .......... .......... .......... 53%  194M 0s\n",
            " 30500K .......... .......... .......... .......... .......... 53%  194M 0s\n",
            " 30550K .......... .......... .......... .......... .......... 53%  142M 0s\n",
            " 30600K .......... .......... .......... .......... .......... 53%  183M 0s\n",
            " 30650K .......... .......... .......... .......... .......... 53%  172M 0s\n",
            " 30700K .......... .......... .......... .......... .......... 53%  187M 0s\n",
            " 30750K .......... .......... .......... .......... .......... 53%  190M 0s\n",
            " 30800K .......... .......... .......... .......... .......... 54%  181M 0s\n",
            " 30850K .......... .......... .......... .......... .......... 54%  202M 0s\n",
            " 30900K .......... .......... .......... .......... .......... 54%  188M 0s\n",
            " 30950K .......... .......... .......... .......... .......... 54%  158M 0s\n",
            " 31000K .......... .......... .......... .......... .......... 54%  171M 0s\n",
            " 31050K .......... .......... .......... .......... .......... 54%  206M 0s\n",
            " 31100K .......... .......... .......... .......... .......... 54%  162M 0s\n",
            " 31150K .......... .......... .......... .......... .......... 54%  147M 0s\n",
            " 31200K .......... .......... .......... .......... .......... 54%  186M 0s\n",
            " 31250K .......... .......... .......... .......... .......... 54%  186M 0s\n",
            " 31300K .......... .......... .......... .......... .......... 54%  196M 0s\n",
            " 31350K .......... .......... .......... .......... .......... 54%  160M 0s\n",
            " 31400K .......... .......... .......... .......... .......... 55%  182M 0s\n",
            " 31450K .......... .......... .......... .......... .......... 55%  192M 0s\n",
            " 31500K .......... .......... .......... .......... .......... 55%  192M 0s\n",
            " 31550K .......... .......... .......... .......... .......... 55%  179M 0s\n",
            " 31600K .......... .......... .......... .......... .......... 55%  174M 0s\n",
            " 31650K .......... .......... .......... .......... .......... 55%  158M 0s\n",
            " 31700K .......... .......... .......... .......... .......... 55%  163M 0s\n",
            " 31750K .......... .......... .......... .......... .......... 55%  156M 0s\n",
            " 31800K .......... .......... .......... .......... .......... 55%  189M 0s\n",
            " 31850K .......... .......... .......... .......... .......... 55%  176M 0s\n",
            " 31900K .......... .......... .......... .......... .......... 55%  162M 0s\n",
            " 31950K .......... .......... .......... .......... .......... 56%  148M 0s\n",
            " 32000K .......... .......... .......... .......... .......... 56%  205M 0s\n",
            " 32050K .......... .......... .......... .......... .......... 56%  172M 0s\n",
            " 32100K .......... .......... .......... .......... .......... 56%  205M 0s\n",
            " 32150K .......... .......... .......... .......... .......... 56%  164M 0s\n",
            " 32200K .......... .......... .......... .......... .......... 56%  192M 0s\n",
            " 32250K .......... .......... .......... .......... .......... 56%  195M 0s\n",
            " 32300K .......... .......... .......... .......... .......... 56%  208M 0s\n",
            " 32350K .......... .......... .......... .......... .......... 56%  178M 0s\n",
            " 32400K .......... .......... .......... .......... .......... 56%  232M 0s\n",
            " 32450K .......... .......... .......... .......... .......... 56%  208M 0s\n",
            " 32500K .......... .......... .......... .......... .......... 57%  213M 0s\n",
            " 32550K .......... .......... .......... .......... .......... 57% 35.9M 0s\n",
            " 32600K .......... .......... .......... .......... .......... 57%  153M 0s\n",
            " 32650K .......... .......... .......... .......... .......... 57%  203M 0s\n",
            " 32700K .......... .......... .......... .......... .......... 57%  203M 0s\n",
            " 32750K .......... .......... .......... .......... .......... 57%  184M 0s\n",
            " 32800K .......... .......... .......... .......... .......... 57%  177M 0s\n",
            " 32850K .......... .......... .......... .......... .......... 57%  202M 0s\n",
            " 32900K .......... .......... .......... .......... .......... 57%  192M 0s\n",
            " 32950K .......... .......... .......... .......... .......... 57%  150M 0s\n",
            " 33000K .......... .......... .......... .......... .......... 57%  173M 0s\n",
            " 33050K .......... .......... .......... .......... .......... 57%  169M 0s\n",
            " 33100K .......... .......... .......... .......... .......... 58%  158M 0s\n",
            " 33150K .......... .......... .......... .......... .......... 58%  145M 0s\n",
            " 33200K .......... .......... .......... .......... .......... 58%  223M 0s\n",
            " 33250K .......... .......... .......... .......... .......... 58%  215M 0s\n",
            " 33300K .......... .......... .......... .......... .......... 58%  226M 0s\n",
            " 33350K .......... .......... .......... .......... .......... 58%  155M 0s\n",
            " 33400K .......... .......... .......... .......... .......... 58%  205M 0s\n",
            " 33450K .......... .......... .......... .......... .......... 58%  180M 0s\n",
            " 33500K .......... .......... .......... .......... .......... 58%  203M 0s\n",
            " 33550K .......... .......... .......... .......... .......... 58%  166M 0s\n",
            " 33600K .......... .......... .......... .......... .......... 58%  207M 0s\n",
            " 33650K .......... .......... .......... .......... .......... 59%  203M 0s\n",
            " 33700K .......... .......... .......... .......... .......... 59%  201M 0s\n",
            " 33750K .......... .......... .......... .......... .......... 59%  145M 0s\n",
            " 33800K .......... .......... .......... .......... .......... 59%  199M 0s\n",
            " 33850K .......... .......... .......... .......... .......... 59%  198M 0s\n",
            " 33900K .......... .......... .......... .......... .......... 59%  208M 0s\n",
            " 33950K .......... .......... .......... .......... .......... 59%  172M 0s\n",
            " 34000K .......... .......... .......... .......... .......... 59%  189M 0s\n",
            " 34050K .......... .......... .......... .......... .......... 59%  179M 0s\n",
            " 34100K .......... .......... .......... .......... .......... 59%  168M 0s\n",
            " 34150K .......... .......... .......... .......... .......... 59%  184M 0s\n",
            " 34200K .......... .......... .......... .......... .......... 59%  221M 0s\n",
            " 34250K .......... .......... .......... .......... .......... 60%  219M 0s\n",
            " 34300K .......... .......... .......... .......... .......... 60%  207M 0s\n",
            " 34350K .......... .......... .......... .......... .......... 60%  162M 0s\n",
            " 34400K .......... .......... .......... .......... .......... 60%  220M 0s\n",
            " 34450K .......... .......... .......... .......... .......... 60%  212M 0s\n",
            " 34500K .......... .......... .......... .......... .......... 60%  205M 0s\n",
            " 34550K .......... .......... .......... .......... .......... 60%  178M 0s\n",
            " 34600K .......... .......... .......... .......... .......... 60%  194M 0s\n",
            " 34650K .......... .......... .......... .......... .......... 60%  178M 0s\n",
            " 34700K .......... .......... .......... .......... .......... 60%  189M 0s\n",
            " 34750K .......... .......... .......... .......... .......... 60%  163M 0s\n",
            " 34800K .......... .......... .......... .......... .......... 61%  149M 0s\n",
            " 34850K .......... .......... .......... .......... .......... 61%  203M 0s\n",
            " 34900K .......... .......... .......... .......... .......... 61%  188M 0s\n",
            " 34950K .......... .......... .......... .......... .......... 61%  167M 0s\n",
            " 35000K .......... .......... .......... .......... .......... 61%  191M 0s\n",
            " 35050K .......... .......... .......... .......... .......... 61%  187M 0s\n",
            " 35100K .......... .......... .......... .......... .......... 61%  208M 0s\n",
            " 35150K .......... .......... .......... .......... .......... 61%  194M 0s\n",
            " 35200K .......... .......... .......... .......... .......... 61%  186M 0s\n",
            " 35250K .......... .......... .......... .......... .......... 61%  165M 0s\n",
            " 35300K .......... .......... .......... .......... .......... 61%  169M 0s\n",
            " 35350K .......... .......... .......... .......... .......... 61%  144M 0s\n",
            " 35400K .......... .......... .......... .......... .......... 62%  174M 0s\n",
            " 35450K .......... .......... .......... .......... .......... 62%  170M 0s\n",
            " 35500K .......... .......... .......... .......... .......... 62%  169M 0s\n",
            " 35550K .......... .......... .......... .......... .......... 62%  154M 0s\n",
            " 35600K .......... .......... .......... .......... .......... 62%  198M 0s\n",
            " 35650K .......... .......... .......... .......... .......... 62%  206M 0s\n",
            " 35700K .......... .......... .......... .......... .......... 62%  190M 0s\n",
            " 35750K .......... .......... .......... .......... .......... 62%  147M 0s\n",
            " 35800K .......... .......... .......... .......... .......... 62%  169M 0s\n",
            " 35850K .......... .......... .......... .......... .......... 62%  181M 0s\n",
            " 35900K .......... .......... .......... .......... .......... 62%  191M 0s\n",
            " 35950K .......... .......... .......... .......... .......... 63%  169M 0s\n",
            " 36000K .......... .......... .......... .......... .......... 63%  206M 0s\n",
            " 36050K .......... .......... .......... .......... .......... 63%  230M 0s\n",
            " 36100K .......... .......... .......... .......... .......... 63%  200M 0s\n",
            " 36150K .......... .......... .......... .......... .......... 63%  149M 0s\n",
            " 36200K .......... .......... .......... .......... .......... 63%  203M 0s\n",
            " 36250K .......... .......... .......... .......... .......... 63%  218M 0s\n",
            " 36300K .......... .......... .......... .......... .......... 63%  219M 0s\n",
            " 36350K .......... .......... .......... .......... .......... 63%  191M 0s\n",
            " 36400K .......... .......... .......... .......... .......... 63%  208M 0s\n",
            " 36450K .......... .......... .......... .......... .......... 63%  210M 0s\n",
            " 36500K .......... .......... .......... .......... .......... 64%  192M 0s\n",
            " 36550K .......... .......... .......... .......... .......... 64%  165M 0s\n",
            " 36600K .......... .......... .......... .......... .......... 64%  194M 0s\n",
            " 36650K .......... .......... .......... .......... .......... 64%  161M 0s\n",
            " 36700K .......... .......... .......... .......... .......... 64%  167M 0s\n",
            " 36750K .......... .......... .......... .......... .......... 64%  144M 0s\n",
            " 36800K .......... .......... .......... .......... .......... 64%  202M 0s\n",
            " 36850K .......... .......... .......... .......... .......... 64%  165M 0s\n",
            " 36900K .......... .......... .......... .......... .......... 64%  185M 0s\n",
            " 36950K .......... .......... .......... .......... .......... 64%  155M 0s\n",
            " 37000K .......... .......... .......... .......... .......... 64%  189M 0s\n",
            " 37050K .......... .......... .......... .......... .......... 64%  195M 0s\n",
            " 37100K .......... .......... .......... .......... .......... 65%  182M 0s\n",
            " 37150K .......... .......... .......... .......... .......... 65%  143M 0s\n",
            " 37200K .......... .......... .......... .......... .......... 65%  175M 0s\n",
            " 37250K .......... .......... .......... .......... .......... 65%  205M 0s\n",
            " 37300K .......... .......... .......... .......... .......... 65%  182M 0s\n",
            " 37350K .......... .......... .......... .......... .......... 65%  168M 0s\n",
            " 37400K .......... .......... .......... .......... .......... 65%  185M 0s\n",
            " 37450K .......... .......... .......... .......... .......... 65%  201M 0s\n",
            " 37500K .......... .......... .......... .......... .......... 65%  188M 0s\n",
            " 37550K .......... .......... .......... .......... .......... 65%  183M 0s\n",
            " 37600K .......... .......... .......... .......... .......... 65%  107M 0s\n",
            " 37650K .......... .......... .......... .......... .......... 66%  194M 0s\n",
            " 37700K .......... .......... .......... .......... .......... 66%  184M 0s\n",
            " 37750K .......... .......... .......... .......... .......... 66%  165M 0s\n",
            " 37800K .......... .......... .......... .......... .......... 66%  190M 0s\n",
            " 37850K .......... .......... .......... .......... .......... 66%  196M 0s\n",
            " 37900K .......... .......... .......... .......... .......... 66%  192M 0s\n",
            " 37950K .......... .......... .......... .......... .......... 66%  172M 0s\n",
            " 38000K .......... .......... .......... .......... .......... 66%  172M 0s\n",
            " 38050K .......... .......... .......... .......... .......... 66%  181M 0s\n",
            " 38100K .......... .......... .......... .......... .......... 66%  168M 0s\n",
            " 38150K .......... .......... .......... .......... .......... 66%  149M 0s\n",
            " 38200K .......... .......... .......... .......... .......... 66%  181M 0s\n",
            " 38250K .......... .......... .......... .......... .......... 67%  185M 0s\n",
            " 38300K .......... .......... .......... .......... .......... 67%  196M 0s\n",
            " 38350K .......... .......... .......... .......... .......... 67%  181M 0s\n",
            " 38400K .......... .......... .......... .......... .......... 67%  195M 0s\n",
            " 38450K .......... .......... .......... .......... .......... 67%  198M 0s\n",
            " 38500K .......... .......... .......... .......... .......... 67%  196M 0s\n",
            " 38550K .......... .......... .......... .......... .......... 67%  124M 0s\n",
            " 38600K .......... .......... .......... .......... .......... 67%  165M 0s\n",
            " 38650K .......... .......... .......... .......... .......... 67%  173M 0s\n",
            " 38700K .......... .......... .......... .......... .......... 67%  171M 0s\n",
            " 38750K .......... .......... .......... .......... .......... 67%  191M 0s\n",
            " 38800K .......... .......... .......... .......... .......... 68%  176M 0s\n",
            " 38850K .......... .......... .......... .......... .......... 68%  202M 0s\n",
            " 38900K .......... .......... .......... .......... .......... 68%  159M 0s\n",
            " 38950K .......... .......... .......... .......... .......... 68%  133M 0s\n",
            " 39000K .......... .......... .......... .......... .......... 68%  170M 0s\n",
            " 39050K .......... .......... .......... .......... .......... 68%  185M 0s\n",
            " 39100K .......... .......... .......... .......... .......... 68%  203M 0s\n",
            " 39150K .......... .......... .......... .......... .......... 68%  180M 0s\n",
            " 39200K .......... .......... .......... .......... .......... 68%  203M 0s\n",
            " 39250K .......... .......... .......... .......... .......... 68%  196M 0s\n",
            " 39300K .......... .......... .......... .......... .......... 68%  208M 0s\n",
            " 39350K .......... .......... .......... .......... .......... 69%  164M 0s\n",
            " 39400K .......... .......... .......... .......... .......... 69%  157M 0s\n",
            " 39450K .......... .......... .......... .......... .......... 69%  157M 0s\n",
            " 39500K .......... .......... .......... .......... .......... 69%  186M 0s\n",
            " 39550K .......... .......... .......... .......... .......... 69%  181M 0s\n",
            " 39600K .......... .......... .......... .......... .......... 69%  186M 0s\n",
            " 39650K .......... .......... .......... .......... .......... 69%  155M 0s\n",
            " 39700K .......... .......... .......... .......... .......... 69%  214M 0s\n",
            " 39750K .......... .......... .......... .......... .......... 69%  131M 0s\n",
            " 39800K .......... .......... .......... .......... .......... 69%  174M 0s\n",
            " 39850K .......... .......... .......... .......... .......... 69%  202M 0s\n",
            " 39900K .......... .......... .......... .......... .......... 69%  201M 0s\n",
            " 39950K .......... .......... .......... .......... .......... 70%  154M 0s\n",
            " 40000K .......... .......... .......... .......... .......... 70%  214M 0s\n",
            " 40050K .......... .......... .......... .......... .......... 70%  217M 0s\n",
            " 40100K .......... .......... .......... .......... .......... 70%  219M 0s\n",
            " 40150K .......... .......... .......... .......... .......... 70%  181M 0s\n",
            " 40200K .......... .......... .......... .......... .......... 70%  196M 0s\n",
            " 40250K .......... .......... .......... .......... .......... 70%  216M 0s\n",
            " 40300K .......... .......... .......... .......... .......... 70%  221M 0s\n",
            " 40350K .......... .......... .......... .......... .......... 70%  196M 0s\n",
            " 40400K .......... .......... .......... .......... .......... 70%  176M 0s\n",
            " 40450K .......... .......... .......... .......... .......... 70%  198M 0s\n",
            " 40500K .......... .......... .......... .......... .......... 71%  208M 0s\n",
            " 40550K .......... .......... .......... .......... .......... 71%  166M 0s\n",
            " 40600K .......... .......... .......... .......... .......... 71%  187M 0s\n",
            " 40650K .......... .......... .......... .......... .......... 71%  189M 0s\n",
            " 40700K .......... .......... .......... .......... .......... 71%  170M 0s\n",
            " 40750K .......... .......... .......... .......... .......... 71%  141M 0s\n",
            " 40800K .......... .......... .......... .......... .......... 71%  170M 0s\n",
            " 40850K .......... .......... .......... .......... .......... 71%  172M 0s\n",
            " 40900K .......... .......... .......... .......... .......... 71%  163M 0s\n",
            " 40950K .......... .......... .......... .......... .......... 71%  174M 0s\n",
            " 41000K .......... .......... .......... .......... .......... 71%  192M 0s\n",
            " 41050K .......... .......... .......... .......... .......... 71%  183M 0s\n",
            " 41100K .......... .......... .......... .......... .......... 72%  200M 0s\n",
            " 41150K .......... .......... .......... .......... .......... 72%  187M 0s\n",
            " 41200K .......... .......... .......... .......... .......... 72%  195M 0s\n",
            " 41250K .......... .......... .......... .......... .......... 72%  210M 0s\n",
            " 41300K .......... .......... .......... .......... .......... 72%  200M 0s\n",
            " 41350K .......... .......... .......... .......... .......... 72%  178M 0s\n",
            " 41400K .......... .......... .......... .......... .......... 72%  205M 0s\n",
            " 41450K .......... .......... .......... .......... .......... 72%  217M 0s\n",
            " 41500K .......... .......... .......... .......... .......... 72%  188M 0s\n",
            " 41550K .......... .......... .......... .......... .......... 72%  173M 0s\n",
            " 41600K .......... .......... .......... .......... .......... 72%  198M 0s\n",
            " 41650K .......... .......... .......... .......... .......... 73%  202M 0s\n",
            " 41700K .......... .......... .......... .......... .......... 73%  187M 0s\n",
            " 41750K .......... .......... .......... .......... .......... 73%  161M 0s\n",
            " 41800K .......... .......... .......... .......... .......... 73%  217M 0s\n",
            " 41850K .......... .......... .......... .......... .......... 73%  165M 0s\n",
            " 41900K .......... .......... .......... .......... .......... 73%  179M 0s\n",
            " 41950K .......... .......... .......... .......... .......... 73%  173M 0s\n",
            " 42000K .......... .......... .......... .......... .......... 73%  192M 0s\n",
            " 42050K .......... .......... .......... .......... .......... 73%  197M 0s\n",
            " 42100K .......... .......... .......... .......... .......... 73%  189M 0s\n",
            " 42150K .......... .......... .......... .......... .......... 73%  162M 0s\n",
            " 42200K .......... .......... .......... .......... .......... 73%  217M 0s\n",
            " 42250K .......... .......... .......... .......... .......... 74%  177M 0s\n",
            " 42300K .......... .......... .......... .......... .......... 74%  194M 0s\n",
            " 42350K .......... .......... .......... .......... .......... 74%  161M 0s\n",
            " 42400K .......... .......... .......... .......... .......... 74%  176M 0s\n",
            " 42450K .......... .......... .......... .......... .......... 74%  182M 0s\n",
            " 42500K .......... .......... .......... .......... .......... 74%  171M 0s\n",
            " 42550K .......... .......... .......... .......... .......... 74%  161M 0s\n",
            " 42600K .......... .......... .......... .......... .......... 74%  187M 0s\n",
            " 42650K .......... .......... .......... .......... .......... 74%  175M 0s\n",
            " 42700K .......... .......... .......... .......... .......... 74%  165M 0s\n",
            " 42750K .......... .......... .......... .......... .......... 74%  170M 0s\n",
            " 42800K .......... .......... .......... .......... .......... 75%  173M 0s\n",
            " 42850K .......... .......... .......... .......... .......... 75%  198M 0s\n",
            " 42900K .......... .......... .......... .......... .......... 75%  202M 0s\n",
            " 42950K .......... .......... .......... .......... .......... 75%  139M 0s\n",
            " 43000K .......... .......... .......... .......... .......... 75%  185M 0s\n",
            " 43050K .......... .......... .......... .......... .......... 75%  203M 0s\n",
            " 43100K .......... .......... .......... .......... .......... 75%  204M 0s\n",
            " 43150K .......... .......... .......... .......... .......... 75%  156M 0s\n",
            " 43200K .......... .......... .......... .......... .......... 75%  188M 0s\n",
            " 43250K .......... .......... .......... .......... .......... 75%  174M 0s\n",
            " 43300K .......... .......... .......... .......... .......... 75%  179M 0s\n",
            " 43350K .......... .......... .......... .......... .......... 76%  148M 0s\n",
            " 43400K .......... .......... .......... .......... .......... 76%  203M 0s\n",
            " 43450K .......... .......... .......... .......... .......... 76%  205M 0s\n",
            " 43500K .......... .......... .......... .......... .......... 76%  185M 0s\n",
            " 43550K .......... .......... .......... .......... .......... 76%  154M 0s\n",
            " 43600K .......... .......... .......... .......... .......... 76%  198M 0s\n",
            " 43650K .......... .......... .......... .......... .......... 76%  179M 0s\n",
            " 43700K .......... .......... .......... .......... .......... 76%  197M 0s\n",
            " 43750K .......... .......... .......... .......... .......... 76%  146M 0s\n",
            " 43800K .......... .......... .......... .......... .......... 76%  182M 0s\n",
            " 43850K .......... .......... .......... .......... .......... 76%  187M 0s\n",
            " 43900K .......... .......... .......... .......... .......... 76%  186M 0s\n",
            " 43950K .......... .......... .......... .......... .......... 77%  182M 0s\n",
            " 44000K .......... .......... .......... .......... .......... 77%  207M 0s\n",
            " 44050K .......... .......... .......... .......... .......... 77%  192M 0s\n",
            " 44100K .......... .......... .......... .......... .......... 77%  171M 0s\n",
            " 44150K .......... .......... .......... .......... .......... 77%  144M 0s\n",
            " 44200K .......... .......... .......... .......... .......... 77%  189M 0s\n",
            " 44250K .......... .......... .......... .......... .......... 77%  177M 0s\n",
            " 44300K .......... .......... .......... .......... .......... 77%  167M 0s\n",
            " 44350K .......... .......... .......... .......... .......... 77%  136M 0s\n",
            " 44400K .......... .......... .......... .......... .......... 77%  198M 0s\n",
            " 44450K .......... .......... .......... .......... .......... 77%  203M 0s\n",
            " 44500K .......... .......... .......... .......... .......... 78%  218M 0s\n",
            " 44550K .......... .......... .......... .......... .......... 78%  143M 0s\n",
            " 44600K .......... .......... .......... .......... .......... 78%  186M 0s\n",
            " 44650K .......... .......... .......... .......... .......... 78%  151M 0s\n",
            " 44700K .......... .......... .......... .......... .......... 78%  173M 0s\n",
            " 44750K .......... .......... .......... .......... .......... 78%  160M 0s\n",
            " 44800K .......... .......... .......... .......... .......... 78%  196M 0s\n",
            " 44850K .......... .......... .......... .......... .......... 78%  190M 0s\n",
            " 44900K .......... .......... .......... .......... .......... 78%  168M 0s\n",
            " 44950K .......... .......... .......... .......... .......... 78%  142M 0s\n",
            " 45000K .......... .......... .......... .......... .......... 78%  174M 0s\n",
            " 45050K .......... .......... .......... .......... .......... 78%  189M 0s\n",
            " 45100K .......... .......... .......... .......... .......... 79%  205M 0s\n",
            " 45150K .......... .......... .......... .......... .......... 79%  155M 0s\n",
            " 45200K .......... .......... .......... .......... .......... 79%  179M 0s\n",
            " 45250K .......... .......... .......... .......... .......... 79%  202M 0s\n",
            " 45300K .......... .......... .......... .......... .......... 79%  201M 0s\n",
            " 45350K .......... .......... .......... .......... .......... 79%  160M 0s\n",
            " 45400K .......... .......... .......... .......... .......... 79%  178M 0s\n",
            " 45450K .......... .......... .......... .......... .......... 79%  200M 0s\n",
            " 45500K .......... .......... .......... .......... .......... 79%  154M 0s\n",
            " 45550K .......... .......... .......... .......... .......... 79%  175M 0s\n",
            " 45600K .......... .......... .......... .......... .......... 79%  204M 0s\n",
            " 45650K .......... .......... .......... .......... .......... 80%  184M 0s\n",
            " 45700K .......... .......... .......... .......... .......... 80%  154M 0s\n",
            " 45750K .......... .......... .......... .......... .......... 80%  165M 0s\n",
            " 45800K .......... .......... .......... .......... .......... 80%  203M 0s\n",
            " 45850K .......... .......... .......... .......... .......... 80%  202M 0s\n",
            " 45900K .......... .......... .......... .......... .......... 80%  185M 0s\n",
            " 45950K .......... .......... .......... .......... .......... 80%  179M 0s\n",
            " 46000K .......... .......... .......... .......... .......... 80%  182M 0s\n",
            " 46050K .......... .......... .......... .......... .......... 80%  192M 0s\n",
            " 46100K .......... .......... .......... .......... .......... 80%  154M 0s\n",
            " 46150K .......... .......... .......... .......... .......... 80%  168M 0s\n",
            " 46200K .......... .......... .......... .......... .......... 81%  190M 0s\n",
            " 46250K .......... .......... .......... .......... .......... 81%  188M 0s\n",
            " 46300K .......... .......... .......... .......... .......... 81%  184M 0s\n",
            " 46350K .......... .......... .......... .......... .......... 81%  181M 0s\n",
            " 46400K .......... .......... .......... .......... .......... 81%  167M 0s\n",
            " 46450K .......... .......... .......... .......... .......... 81%  155M 0s\n",
            " 46500K .......... .......... .......... .......... .......... 81%  159M 0s\n",
            " 46550K .......... .......... .......... .......... .......... 81%  141M 0s\n",
            " 46600K .......... .......... .......... .......... .......... 81%  158M 0s\n",
            " 46650K .......... .......... .......... .......... .......... 81%  203M 0s\n",
            " 46700K .......... .......... .......... .......... .......... 81%  197M 0s\n",
            " 46750K .......... .......... .......... .......... .......... 81%  150M 0s\n",
            " 46800K .......... .......... .......... .......... .......... 82%  185M 0s\n",
            " 46850K .......... .......... .......... .......... .......... 82%  187M 0s\n",
            " 46900K .......... .......... .......... .......... .......... 82%  183M 0s\n",
            " 46950K .......... .......... .......... .......... .......... 82%  152M 0s\n",
            " 47000K .......... .......... .......... .......... .......... 82%  204M 0s\n",
            " 47050K .......... .......... .......... .......... .......... 82%  180M 0s\n",
            " 47100K .......... .......... .......... .......... .......... 82%  193M 0s\n",
            " 47150K .......... .......... .......... .......... .......... 82%  166M 0s\n",
            " 47200K .......... .......... .......... .......... .......... 82%  184M 0s\n",
            " 47250K .......... .......... .......... .......... .......... 82%  193M 0s\n",
            " 47300K .......... .......... .......... .......... .......... 82%  198M 0s\n",
            " 47350K .......... .......... .......... .......... .......... 83%  152M 0s\n",
            " 47400K .......... .......... .......... .......... .......... 83%  175M 0s\n",
            " 47450K .......... .......... .......... .......... .......... 83%  176M 0s\n",
            " 47500K .......... .......... .......... .......... .......... 83%  190M 0s\n",
            " 47550K .......... .......... .......... .......... .......... 83%  169M 0s\n",
            " 47600K .......... .......... .......... .......... .......... 83%  221M 0s\n",
            " 47650K .......... .......... .......... .......... .......... 83%  172M 0s\n",
            " 47700K .......... .......... .......... .......... .......... 83%  177M 0s\n",
            " 47750K .......... .......... .......... .......... .......... 83%  166M 0s\n",
            " 47800K .......... .......... .......... .......... .......... 83%  186M 0s\n",
            " 47850K .......... .......... .......... .......... .......... 83%  195M 0s\n",
            " 47900K .......... .......... .......... .......... .......... 83%  180M 0s\n",
            " 47950K .......... .......... .......... .......... .......... 84%  176M 0s\n",
            " 48000K .......... .......... .......... .......... .......... 84%  201M 0s\n",
            " 48050K .......... .......... .......... .......... .......... 84% 75.1M 0s\n",
            " 48100K .......... .......... .......... .......... .......... 84%  160M 0s\n",
            " 48150K .......... .......... .......... .......... .......... 84%  156M 0s\n",
            " 48200K .......... .......... .......... .......... .......... 84%  168M 0s\n",
            " 48250K .......... .......... .......... .......... .......... 84%  196M 0s\n",
            " 48300K .......... .......... .......... .......... .......... 84%  195M 0s\n",
            " 48350K .......... .......... .......... .......... .......... 84%  178M 0s\n",
            " 48400K .......... .......... .......... .......... .......... 84%  197M 0s\n",
            " 48450K .......... .......... .......... .......... .......... 84%  213M 0s\n",
            " 48500K .......... .......... .......... .......... .......... 85%  249M 0s\n",
            " 48550K .......... .......... .......... .......... .......... 85%  153M 0s\n",
            " 48600K .......... .......... .......... .......... .......... 85%  208M 0s\n",
            " 48650K .......... .......... .......... .......... .......... 85%  218M 0s\n",
            " 48700K .......... .......... .......... .......... .......... 85%  209M 0s\n",
            " 48750K .......... .......... .......... .......... .......... 85%  156M 0s\n",
            " 48800K .......... .......... .......... .......... .......... 85%  198M 0s\n",
            " 48850K .......... .......... .......... .......... .......... 85%  181M 0s\n",
            " 48900K .......... .......... .......... .......... .......... 85%  213M 0s\n",
            " 48950K .......... .......... .......... .......... .......... 85%  165M 0s\n",
            " 49000K .......... .......... .......... .......... .......... 85%  222M 0s\n",
            " 49050K .......... .......... .......... .......... .......... 85%  211M 0s\n",
            " 49100K .......... .......... .......... .......... .......... 86%  233M 0s\n",
            " 49150K .......... .......... .......... .......... .......... 86%  186M 0s\n",
            " 49200K .......... .......... .......... .......... .......... 86%  215M 0s\n",
            " 49250K .......... .......... .......... .......... .......... 86%  234M 0s\n",
            " 49300K .......... .......... .......... .......... .......... 86%  232M 0s\n",
            " 49350K .......... .......... .......... .......... .......... 86%  194M 0s\n",
            " 49400K .......... .......... .......... .......... .......... 86%  209M 0s\n",
            " 49450K .......... .......... .......... .......... .......... 86%  246M 0s\n",
            " 49500K .......... .......... .......... .......... .......... 86%  210M 0s\n",
            " 49550K .......... .......... .......... .......... .......... 86%  170M 0s\n",
            " 49600K .......... .......... .......... .......... .......... 86%  171M 0s\n",
            " 49650K .......... .......... .......... .......... .......... 87%  198M 0s\n",
            " 49700K .......... .......... .......... .......... .......... 87%  164M 0s\n",
            " 49750K .......... .......... .......... .......... .......... 87%  127M 0s\n",
            " 49800K .......... .......... .......... .......... .......... 87%  213M 0s\n",
            " 49850K .......... .......... .......... .......... .......... 87%  221M 0s\n",
            " 49900K .......... .......... .......... .......... .......... 87%  207M 0s\n",
            " 49950K .......... .......... .......... .......... .......... 87%  180M 0s\n",
            " 50000K .......... .......... .......... .......... .......... 87%  215M 0s\n",
            " 50050K .......... .......... .......... .......... .......... 87%  206M 0s\n",
            " 50100K .......... .......... .......... .......... .......... 87%  162M 0s\n",
            " 50150K .......... .......... .......... .......... .......... 87%  157M 0s\n",
            " 50200K .......... .......... .......... .......... .......... 88%  191M 0s\n",
            " 50250K .......... .......... .......... .......... .......... 88%  181M 0s\n",
            " 50300K .......... .......... .......... .......... .......... 88%  177M 0s\n",
            " 50350K .......... .......... .......... .......... .......... 88%  151M 0s\n",
            " 50400K .......... .......... .......... .......... .......... 88%  198M 0s\n",
            " 50450K .......... .......... .......... .......... .......... 88%  203M 0s\n",
            " 50500K .......... .......... .......... .......... .......... 88%  171M 0s\n",
            " 50550K .......... .......... .......... .......... .......... 88%  153M 0s\n",
            " 50600K .......... .......... .......... .......... .......... 88%  189M 0s\n",
            " 50650K .......... .......... .......... .......... .......... 88%  202M 0s\n",
            " 50700K .......... .......... .......... .......... .......... 88%  171M 0s\n",
            " 50750K .......... .......... .......... .......... .......... 88%  187M 0s\n",
            " 50800K .......... .......... .......... .......... .......... 89%  219M 0s\n",
            " 50850K .......... .......... .......... .......... .......... 89%  221M 0s\n",
            " 50900K .......... .......... .......... .......... .......... 89%  211M 0s\n",
            " 50950K .......... .......... .......... .......... .......... 89%  160M 0s\n",
            " 51000K .......... .......... .......... .......... .......... 89%  188M 0s\n",
            " 51050K .......... .......... .......... .......... .......... 89%  215M 0s\n",
            " 51100K .......... .......... .......... .......... .......... 89%  196M 0s\n",
            " 51150K .......... .......... .......... .......... .......... 89%  196M 0s\n",
            " 51200K .......... .......... .......... .......... .......... 89%  223M 0s\n",
            " 51250K .......... .......... .......... .......... .......... 89%  216M 0s\n",
            " 51300K .......... .......... .......... .......... .......... 89%  184M 0s\n",
            " 51350K .......... .......... .......... .......... .......... 90%  162M 0s\n",
            " 51400K .......... .......... .......... .......... .......... 90%  171M 0s\n",
            " 51450K .......... .......... .......... .......... .......... 90%  182M 0s\n",
            " 51500K .......... .......... .......... .......... .......... 90%  168M 0s\n",
            " 51550K .......... .......... .......... .......... .......... 90%  175M 0s\n",
            " 51600K .......... .......... .......... .......... .......... 90%  185M 0s\n",
            " 51650K .......... .......... .......... .......... .......... 90%  193M 0s\n",
            " 51700K .......... .......... .......... .......... .......... 90%  194M 0s\n",
            " 51750K .......... .......... .......... .......... .......... 90%  165M 0s\n",
            " 51800K .......... .......... .......... .......... .......... 90%  216M 0s\n",
            " 51850K .......... .......... .......... .......... .......... 90%  208M 0s\n",
            " 51900K .......... .......... .......... .......... .......... 90%  209M 0s\n",
            " 51950K .......... .......... .......... .......... .......... 91%  192M 0s\n",
            " 52000K .......... .......... .......... .......... .......... 91%  191M 0s\n",
            " 52050K .......... .......... .......... .......... .......... 91%  181M 0s\n",
            " 52100K .......... .......... .......... .......... .......... 91%  216M 0s\n",
            " 52150K .......... .......... .......... .......... .......... 91%  182M 0s\n",
            " 52200K .......... .......... .......... .......... .......... 91%  213M 0s\n",
            " 52250K .......... .......... .......... .......... .......... 91%  215M 0s\n",
            " 52300K .......... .......... .......... .......... .......... 91%  196M 0s\n",
            " 52350K .......... .......... .......... .......... .......... 91%  194M 0s\n",
            " 52400K .......... .......... .......... .......... .......... 91%  221M 0s\n",
            " 52450K .......... .......... .......... .......... .......... 91%  215M 0s\n",
            " 52500K .......... .......... .......... .......... .......... 92%  158M 0s\n",
            " 52550K .......... .......... .......... .......... .......... 92%  191M 0s\n",
            " 52600K .......... .......... .......... .......... .......... 92%  239M 0s\n",
            " 52650K .......... .......... .......... .......... .......... 92%  235M 0s\n",
            " 52700K .......... .......... .......... .......... .......... 92%  195M 0s\n",
            " 52750K .......... .......... .......... .......... .......... 92%  164M 0s\n",
            " 52800K .......... .......... .......... .......... .......... 92%  205M 0s\n",
            " 52850K .......... .......... .......... .......... .......... 92%  215M 0s\n",
            " 52900K .......... .......... .......... .......... .......... 92%  174M 0s\n",
            " 52950K .......... .......... .......... .......... .......... 92%  172M 0s\n",
            " 53000K .......... .......... .......... .......... .......... 92%  171M 0s\n",
            " 53050K .......... .......... .......... .......... .......... 92%  194M 0s\n",
            " 53100K .......... .......... .......... .......... .......... 93%  196M 0s\n",
            " 53150K .......... .......... .......... .......... .......... 93%  185M 0s\n",
            " 53200K .......... .......... .......... .......... .......... 93%  182M 0s\n",
            " 53250K .......... .......... .......... .......... .......... 93%  167M 0s\n",
            " 53300K .......... .......... .......... .......... .......... 93%  215M 0s\n",
            " 53350K .......... .......... .......... .......... .......... 93%  175M 0s\n",
            " 53400K .......... .......... .......... .......... .......... 93%  192M 0s\n",
            " 53450K .......... .......... .......... .......... .......... 93%  204M 0s\n",
            " 53500K .......... .......... .......... .......... .......... 93%  179M 0s\n",
            " 53550K .......... .......... .......... .......... .......... 93%  191M 0s\n",
            " 53600K .......... .......... .......... .......... .......... 93%  220M 0s\n",
            " 53650K .......... .......... .......... .......... .......... 94%  199M 0s\n",
            " 53700K .......... .......... .......... .......... .......... 94%  210M 0s\n",
            " 53750K .......... .......... .......... .......... .......... 94%  176M 0s\n",
            " 53800K .......... .......... .......... .......... .......... 94%  210M 0s\n",
            " 53850K .......... .......... .......... .......... .......... 94%  207M 0s\n",
            " 53900K .......... .......... .......... .......... .......... 94%  202M 0s\n",
            " 53950K .......... .......... .......... .......... .......... 94%  196M 0s\n",
            " 54000K .......... .......... .......... .......... .......... 94%  171M 0s\n",
            " 54050K .......... .......... .......... .......... .......... 94%  159M 0s\n",
            " 54100K .......... .......... .......... .......... .......... 94%  196M 0s\n",
            " 54150K .......... .......... .......... .......... .......... 94%  146M 0s\n",
            " 54200K .......... .......... .......... .......... .......... 95%  207M 0s\n",
            " 54250K .......... .......... .......... .......... .......... 95%  170M 0s\n",
            " 54300K .......... .......... .......... .......... .......... 95%  178M 0s\n",
            " 54350K .......... .......... .......... .......... .......... 95%  172M 0s\n",
            " 54400K .......... .......... .......... .......... .......... 95%  194M 0s\n",
            " 54450K .......... .......... .......... .......... .......... 95%  213M 0s\n",
            " 54500K .......... .......... .......... .......... .......... 95%  204M 0s\n",
            " 54550K .......... .......... .......... .......... .......... 95%  168M 0s\n",
            " 54600K .......... .......... .......... .......... .......... 95%  219M 0s\n",
            " 54650K .......... .......... .......... .......... .......... 95%  228M 0s\n",
            " 54700K .......... .......... .......... .......... .......... 95%  201M 0s\n",
            " 54750K .......... .......... .......... .......... .......... 95%  194M 0s\n",
            " 54800K .......... .......... .......... .......... .......... 96%  235M 0s\n",
            " 54850K .......... .......... .......... .......... .......... 96%  187M 0s\n",
            " 54900K .......... .......... .......... .......... .......... 96%  202M 0s\n",
            " 54950K .......... .......... .......... .......... .......... 96%  174M 0s\n",
            " 55000K .......... .......... .......... .......... .......... 96%  215M 0s\n",
            " 55050K .......... .......... .......... .......... .......... 96%  201M 0s\n",
            " 55100K .......... .......... .......... .......... .......... 96%  219M 0s\n",
            " 55150K .......... .......... .......... .......... .......... 96%  197M 0s\n",
            " 55200K .......... .......... .......... .......... .......... 96%  218M 0s\n",
            " 55250K .......... .......... .......... .......... .......... 96%  203M 0s\n",
            " 55300K .......... .......... .......... .......... .......... 96%  216M 0s\n",
            " 55350K .......... .......... .......... .......... .......... 97%  184M 0s\n",
            " 55400K .......... .......... .......... .......... .......... 97%  219M 0s\n",
            " 55450K .......... .......... .......... .......... .......... 97%  179M 0s\n",
            " 55500K .......... .......... .......... .......... .......... 97%  202M 0s\n",
            " 55550K .......... .......... .......... .......... .......... 97%  161M 0s\n",
            " 55600K .......... .......... .......... .......... .......... 97%  197M 0s\n",
            " 55650K .......... .......... .......... .......... .......... 97%  156M 0s\n",
            " 55700K .......... .......... .......... .......... .......... 97%  211M 0s\n",
            " 55750K .......... .......... .......... .......... .......... 97%  186M 0s\n",
            " 55800K .......... .......... .......... .......... .......... 97%  227M 0s\n",
            " 55850K .......... .......... .......... .......... .......... 97%  201M 0s\n",
            " 55900K .......... .......... .......... .......... .......... 97%  219M 0s\n",
            " 55950K .......... .......... .......... .......... .......... 98%  193M 0s\n",
            " 56000K .......... .......... .......... .......... .......... 98%  189M 0s\n",
            " 56050K .......... .......... .......... .......... .......... 98%  202M 0s\n",
            " 56100K .......... .......... .......... .......... .......... 98%  212M 0s\n",
            " 56150K .......... .......... .......... .......... .......... 98%  164M 0s\n",
            " 56200K .......... .......... .......... .......... .......... 98%  197M 0s\n",
            " 56250K .......... .......... .......... .......... .......... 98%  195M 0s\n",
            " 56300K .......... .......... .......... .......... .......... 98%  221M 0s\n",
            " 56350K .......... .......... .......... .......... .......... 98%  185M 0s\n",
            " 56400K .......... .......... .......... .......... .......... 98%  218M 0s\n",
            " 56450K .......... .......... .......... .......... .......... 98%  182M 0s\n",
            " 56500K .......... .......... .......... .......... .......... 99%  194M 0s\n",
            " 56550K .......... .......... .......... .......... .......... 99%  169M 0s\n",
            " 56600K .......... .......... .......... .......... .......... 99%  204M 0s\n",
            " 56650K .......... .......... .......... .......... .......... 99%  178M 0s\n",
            " 56700K .......... .......... .......... .......... .......... 99%  199M 0s\n",
            " 56750K .......... .......... .......... .......... .......... 99%  196M 0s\n",
            " 56800K .......... .......... .......... .......... .......... 99%  222M 0s\n",
            " 56850K .......... .......... .......... .......... .......... 99%  176M 0s\n",
            " 56900K .......... .......... .......... .......... .......... 99%  208M 0s\n",
            " 56950K .......... .......... .......... .......... .......... 99%  162M 0s\n",
            " 57000K .......... .......... .......... .......... .......... 99%  174M 0s\n",
            " 57050K .......... .......... .......... .......... ........  100%  196M=0.4s\n",
            "\n",
            "2020-11-10 11:51:29 (159 MB/s) - ‘Miniconda3-4.5.4-Linux-x86_64.sh.1’ saved [58468498/58468498]\n",
            "\n",
            "Python 3.6.5 :: Anaconda, Inc.\n"
          ],
          "name": "stderr"
        }
      ]
    },
    {
      "cell_type": "code",
      "metadata": {
        "id": "RElb4CANNFwp"
      },
      "source": [
        "# add conda packages to path\n",
        "import sys\n",
        "sys.path.append('/opt/lib/python3.6/site-packages/')"
      ],
      "execution_count": 107,
      "outputs": []
    },
    {
      "cell_type": "code",
      "metadata": {
        "id": "5RK87Sr0W8CA"
      },
      "source": [
        "!export DGLBACKEND=pytorch"
      ],
      "execution_count": 108,
      "outputs": []
    },
    {
      "cell_type": "markdown",
      "metadata": {
        "id": "ZMDhUo5MNtw_"
      },
      "source": [
        "# Molecule Data Featurization\n",
        "\n",
        "여태까지는 sample graph 하나를 다루면 여러가지 featurization 방법을 보셨습니다. Featurization scheme을 결정하시고 나서는 \n",
        "1. Training Set을 다 동일하게 전처리 진행, 그리고\n",
        "2. 처리된 데이터를 학습할 수 있도록 Loading 하는 작업이 필요합니다.\n",
        "\n",
        "Graph를 처리하고 loading하는 것이 약간 낯설 수 있으나, 조금만 해보면 img/txt데이터와 크게 다를 것 없습니다."
      ]
    },
    {
      "cell_type": "code",
      "metadata": {
        "id": "HYfThg6tkZpw"
      },
      "source": [
        "import dgl\n",
        "import rdkit\n",
        "import dgllife\n",
        "import torch as th\n",
        "from torch import nn"
      ],
      "execution_count": 109,
      "outputs": []
    },
    {
      "cell_type": "markdown",
      "metadata": {
        "id": "8NiRNpHZTBD8"
      },
      "source": [
        "우선은 Graph Dataset 예시를 한번 본 후 이를 간단하게 재구현 해보겠습니다. \n",
        "\n",
        "이미지에 MNIST가 있다면 이제 graph데이터에는 [OGB](https://github.com/vibudh2209/D2)가 있습니다. Node/Edge/Graph 용 데이터셋이 지금 정리되어있는데, 이 중 Graph Property Prediction에는 chemistry 관련 데이터셋 몇개 찾을 수 있습니다.\n",
        "\n",
        "<img src='https://drive.google.com/uc?id=1dMydWvdIFDg5r_V_iDiSSaRkFRg-8tBL' height=300/>"
      ]
    },
    {
      "cell_type": "code",
      "metadata": {
        "id": "nqjgqywKOR6l"
      },
      "source": [
        "from ogb.graphproppred import DglGraphPropPredDataset\n",
        "ds = DglGraphPropPredDataset(name='ogbg-mollipo')"
      ],
      "execution_count": 110,
      "outputs": []
    },
    {
      "cell_type": "code",
      "metadata": {
        "id": "BrqxbwvRmiWQ",
        "outputId": "1cf095d7-11f2-468d-fe7b-bec874b319da",
        "colab": {
          "base_uri": "https://localhost:8080/",
          "height": 0
        }
      },
      "source": [
        "ds[0]"
      ],
      "execution_count": 111,
      "outputs": [
        {
          "output_type": "execute_result",
          "data": {
            "text/plain": [
              "(Graph(num_nodes=24, num_edges=54,\n",
              "       ndata_schemes={'feat': Scheme(shape=(9,), dtype=torch.int64)}\n",
              "       edata_schemes={'feat': Scheme(shape=(3,), dtype=torch.int64)}),\n",
              " tensor([3.5400]))"
            ]
          },
          "metadata": {
            "tags": []
          },
          "execution_count": 111
        }
      ]
    },
    {
      "cell_type": "markdown",
      "metadata": {
        "id": "5OW8Oq69lU6F"
      },
      "source": [
        "이 데이터셋은 (graph, y) pair로 구성되어있네요. Graph에서 꺼꾸로 Mol을 찾으시려면 상당히 번거롭게 생겼는데, 이래서 데이터 셋 처리 첫 원칙은 \n",
        "\n",
        "> \"Raw 데이터 절대 버리지 말 것\"\n",
        "\n",
        "입니다.\n",
        "\n",
        "OGB에서도 이를 알고 있어서, dataset attribute에 조금만 찾아보면 raw data를 찾을 수 있습니다.\n",
        "\n",
        "`dataset.root > mapping > mol.csv.gz`"
      ]
    },
    {
      "cell_type": "code",
      "metadata": {
        "id": "2nO6B2qhOuS1",
        "outputId": "42494652-49a6-458f-8331-1fdb37c688ea",
        "colab": {
          "base_uri": "https://localhost:8080/",
          "height": 0
        }
      },
      "source": [
        "!ls {ds.root}"
      ],
      "execution_count": 112,
      "outputs": [
        {
          "output_type": "stream",
          "text": [
            "mapping  processed  raw  RELEASE_v1.txt  split\n"
          ],
          "name": "stdout"
        }
      ]
    },
    {
      "cell_type": "code",
      "metadata": {
        "id": "hEceRghbVWzU",
        "outputId": "351c1b06-04c3-40a0-cc8d-9a0139f57217",
        "colab": {
          "base_uri": "https://localhost:8080/",
          "height": 0
        }
      },
      "source": [
        "!ls {ds.root}/'mapping'"
      ],
      "execution_count": 113,
      "outputs": [
        {
          "output_type": "stream",
          "text": [
            "mol.csv.gz  README.md\n"
          ],
          "name": "stdout"
        }
      ]
    },
    {
      "cell_type": "code",
      "metadata": {
        "id": "VeELeGqKVYEK",
        "outputId": "1466f584-d7db-4746-d625-6623587e27ee",
        "colab": {
          "base_uri": "https://localhost:8080/",
          "height": 221
        }
      },
      "source": [
        "from pathlib import Path\n",
        "import pandas as pd\n",
        "\n",
        "df = pd.read_csv(Path(ds.root) / 'mapping/mol.csv.gz').drop('mol_id', axis=1)\n",
        "\n",
        "print(df.shape)\n",
        "df.head()"
      ],
      "execution_count": 114,
      "outputs": [
        {
          "output_type": "stream",
          "text": [
            "(4200, 2)\n"
          ],
          "name": "stdout"
        },
        {
          "output_type": "execute_result",
          "data": {
            "text/html": [
              "<div>\n",
              "<style scoped>\n",
              "    .dataframe tbody tr th:only-of-type {\n",
              "        vertical-align: middle;\n",
              "    }\n",
              "\n",
              "    .dataframe tbody tr th {\n",
              "        vertical-align: top;\n",
              "    }\n",
              "\n",
              "    .dataframe thead th {\n",
              "        text-align: right;\n",
              "    }\n",
              "</style>\n",
              "<table border=\"1\" class=\"dataframe\">\n",
              "  <thead>\n",
              "    <tr style=\"text-align: right;\">\n",
              "      <th></th>\n",
              "      <th>exp</th>\n",
              "      <th>smiles</th>\n",
              "    </tr>\n",
              "  </thead>\n",
              "  <tbody>\n",
              "    <tr>\n",
              "      <th>0</th>\n",
              "      <td>3.54</td>\n",
              "      <td>Cn1c(CN2CCN(CC2)c3ccc(Cl)cc3)nc4ccccc14</td>\n",
              "    </tr>\n",
              "    <tr>\n",
              "      <th>1</th>\n",
              "      <td>-1.18</td>\n",
              "      <td>COc1cc(OC)c(cc1NC(=O)CSCC(=O)O)S(=O)(=O)N2C(C)...</td>\n",
              "    </tr>\n",
              "    <tr>\n",
              "      <th>2</th>\n",
              "      <td>3.69</td>\n",
              "      <td>COC(=O)[C@@H](N1CCc2sccc2C1)c3ccccc3Cl</td>\n",
              "    </tr>\n",
              "    <tr>\n",
              "      <th>3</th>\n",
              "      <td>3.37</td>\n",
              "      <td>OC[C@H](O)CN1C(=O)C(Cc2ccccc12)NC(=O)c3cc4cc(C...</td>\n",
              "    </tr>\n",
              "    <tr>\n",
              "      <th>4</th>\n",
              "      <td>3.10</td>\n",
              "      <td>Cc1cccc(C[C@H](NC(=O)c2cc(nn2C)C(C)(C)C)C(=O)N...</td>\n",
              "    </tr>\n",
              "  </tbody>\n",
              "</table>\n",
              "</div>"
            ],
            "text/plain": [
              "    exp                                             smiles\n",
              "0  3.54            Cn1c(CN2CCN(CC2)c3ccc(Cl)cc3)nc4ccccc14\n",
              "1 -1.18  COc1cc(OC)c(cc1NC(=O)CSCC(=O)O)S(=O)(=O)N2C(C)...\n",
              "2  3.69             COC(=O)[C@@H](N1CCc2sccc2C1)c3ccccc3Cl\n",
              "3  3.37  OC[C@H](O)CN1C(=O)C(Cc2ccccc12)NC(=O)c3cc4cc(C...\n",
              "4  3.10  Cc1cccc(C[C@H](NC(=O)c2cc(nn2C)C(C)(C)C)C(=O)N..."
            ]
          },
          "metadata": {
            "tags": []
          },
          "execution_count": 114
        }
      ]
    },
    {
      "cell_type": "markdown",
      "metadata": {
        "id": "sQX-g6CYOCKz"
      },
      "source": [
        "Visualize Mol with RDKit, and visualize resulting graph with NetworkX."
      ]
    },
    {
      "cell_type": "code",
      "metadata": {
        "id": "ZmvKsc65NfrP",
        "outputId": "b60a48a0-7f98-45af-c3fb-1bdba6d070f9",
        "colab": {
          "base_uri": "https://localhost:8080/",
          "height": 171
        }
      },
      "source": [
        "from rdkit import Chem\n",
        "from rdkit.Chem.Draw import IPythonConsole\n",
        "from rdkit.Chem import Draw\n",
        "IPythonConsole.ipython_useSVG=True\n",
        "\n",
        "import networkx as nx\n",
        "\n",
        "# import random\n",
        "# i = random.choice(range(len(df)))\n",
        "i = 1247\n",
        "\n",
        "def draw_dgl_graph(g, k='feat', **kwargs):\n",
        "  \"use networkx to draw graph structure\"\n",
        "  data = g.ndata[k]\n",
        "  data = data.reshape(data.shape[0], -1).float().mean(-1)\n",
        "  nx.draw_networkx(g.to_networkx(), arrows=False, node_color=data, cmap='tab20',\n",
        "                   vmin=data.min(), vmax=data.max(), **kwargs)\n",
        "\n",
        "Chem.MolFromSmiles(df['smiles'][i])"
      ],
      "execution_count": 115,
      "outputs": [
        {
          "output_type": "execute_result",
          "data": {
            "image/png": "[encoded data removed]",
            "text/plain": [
              "<rdkit.Chem.rdchem.Mol at 0x7f3a61bfda30>"
            ],
            "image/svg+xml": "<?xml version='1.0' encoding='iso-8859-1'?>\n<svg version='1.1' baseProfile='full'\n              xmlns='http://www.w3.org/2000/svg'\n                      xmlns:rdkit='http://www.rdkit.org/xml'\n                      xmlns:xlink='http://www.w3.org/1999/xlink'\n                  xml:space='preserve'\nwidth='450px' height='150px' viewBox='0 0 450 150'>\n<!-- END OF HEADER -->\n<rect style='opacity:1.0;fill:#FFFFFF;stroke:none' width='450' height='150' x='0' y='0'> </rect>\n<path class='bond-0' d='M 193.501,120.546 L 194.438,119.808' style='fill:none;fill-rule:evenodd;stroke:#000000;stroke-width:1.0px;stroke-linecap:butt;stroke-linejoin:miter;stroke-opacity:1' />\n<path class='bond-0' d='M 196.724,125.599 L 198.598,124.122' style='fill:none;fill-rule:evenodd;stroke:#000000;stroke-width:1.0px;stroke-linecap:butt;stroke-linejoin:miter;stroke-opacity:1' />\n<path class='bond-0' d='M 199.947,130.651 L 202.757,128.436' style='fill:none;fill-rule:evenodd;stroke:#000000;stroke-width:1.0px;stroke-linecap:butt;stroke-linejoin:miter;stroke-opacity:1' />\n<path class='bond-0' d='M 203.17,135.704 L 206.917,132.751' style='fill:none;fill-rule:evenodd;stroke:#000000;stroke-width:1.0px;stroke-linecap:butt;stroke-linejoin:miter;stroke-opacity:1' />\n<path class='bond-0' d='M 206.393,140.756 L 211.077,137.065' style='fill:none;fill-rule:evenodd;stroke:#000000;stroke-width:1.0px;stroke-linecap:butt;stroke-linejoin:miter;stroke-opacity:1' />\n<path class='bond-1' d='M 190.278,115.494 L 160.77,119.77' style='fill:none;fill-rule:evenodd;stroke:#000000;stroke-width:2.0px;stroke-linecap:butt;stroke-linejoin:miter;stroke-opacity:1' />\n<path class='bond-30' d='M 190.278,115.494 L 194.812,104.131' style='fill:none;fill-rule:evenodd;stroke:#000000;stroke-width:2.0px;stroke-linecap:butt;stroke-linejoin:miter;stroke-opacity:1' />\n<path class='bond-30' d='M 194.812,104.131 L 199.347,92.7684' style='fill:none;fill-rule:evenodd;stroke:#0000FF;stroke-width:2.0px;stroke-linecap:butt;stroke-linejoin:miter;stroke-opacity:1' />\n<path class='bond-2' d='M 160.77,119.77 L 153.499,110.545' style='fill:none;fill-rule:evenodd;stroke:#000000;stroke-width:2.0px;stroke-linecap:butt;stroke-linejoin:miter;stroke-opacity:1' />\n<path class='bond-2' d='M 153.499,110.545 L 146.228,101.32' style='fill:none;fill-rule:evenodd;stroke:#0000FF;stroke-width:2.0px;stroke-linecap:butt;stroke-linejoin:miter;stroke-opacity:1' />\n<path class='bond-3' d='M 144.295,91.3856 L 148.829,80.0229' style='fill:none;fill-rule:evenodd;stroke:#0000FF;stroke-width:2.0px;stroke-linecap:butt;stroke-linejoin:miter;stroke-opacity:1' />\n<path class='bond-3' d='M 148.829,80.0229 L 153.364,68.6602' style='fill:none;fill-rule:evenodd;stroke:#000000;stroke-width:2.0px;stroke-linecap:butt;stroke-linejoin:miter;stroke-opacity:1' />\n<path class='bond-22' d='M 138.365,96.9251 L 125.585,98.7771' style='fill:none;fill-rule:evenodd;stroke:#0000FF;stroke-width:2.0px;stroke-linecap:butt;stroke-linejoin:miter;stroke-opacity:1' />\n<path class='bond-22' d='M 125.585,98.7771 L 112.804,100.629' style='fill:none;fill-rule:evenodd;stroke:#000000;stroke-width:2.0px;stroke-linecap:butt;stroke-linejoin:miter;stroke-opacity:1' />\n<path class='bond-4' d='M 153.364,68.6602 L 182.872,64.3842' style='fill:none;fill-rule:evenodd;stroke:#000000;stroke-width:2.0px;stroke-linecap:butt;stroke-linejoin:miter;stroke-opacity:1' />\n<path class='bond-5' d='M 182.872,64.3842 L 190.143,73.6089' style='fill:none;fill-rule:evenodd;stroke:#000000;stroke-width:2.0px;stroke-linecap:butt;stroke-linejoin:miter;stroke-opacity:1' />\n<path class='bond-5' d='M 190.143,73.6089 L 197.414,82.8336' style='fill:none;fill-rule:evenodd;stroke:#0000FF;stroke-width:2.0px;stroke-linecap:butt;stroke-linejoin:miter;stroke-opacity:1' />\n<path class='bond-6' d='M 205.277,87.229 L 218.057,85.377' style='fill:none;fill-rule:evenodd;stroke:#0000FF;stroke-width:2.0px;stroke-linecap:butt;stroke-linejoin:miter;stroke-opacity:1' />\n<path class='bond-6' d='M 218.057,85.377 L 230.837,83.525' style='fill:none;fill-rule:evenodd;stroke:#000000;stroke-width:2.0px;stroke-linecap:butt;stroke-linejoin:miter;stroke-opacity:1' />\n<path class='bond-7' d='M 230.837,83.525 L 238.108,92.7497' style='fill:none;fill-rule:evenodd;stroke:#000000;stroke-width:2.0px;stroke-linecap:butt;stroke-linejoin:miter;stroke-opacity:1' />\n<path class='bond-7' d='M 238.108,92.7497 L 245.379,101.974' style='fill:none;fill-rule:evenodd;stroke:#0000FF;stroke-width:2.0px;stroke-linecap:butt;stroke-linejoin:miter;stroke-opacity:1' />\n<path class='bond-7' d='M 237.702,82.601 L 242.791,89.0583' style='fill:none;fill-rule:evenodd;stroke:#000000;stroke-width:2.0px;stroke-linecap:butt;stroke-linejoin:miter;stroke-opacity:1' />\n<path class='bond-7' d='M 242.791,89.0583 L 247.881,95.5156' style='fill:none;fill-rule:evenodd;stroke:#0000FF;stroke-width:2.0px;stroke-linecap:butt;stroke-linejoin:miter;stroke-opacity:1' />\n<path class='bond-31' d='M 230.837,83.525 L 235.371,72.1623' style='fill:none;fill-rule:evenodd;stroke:#000000;stroke-width:2.0px;stroke-linecap:butt;stroke-linejoin:miter;stroke-opacity:1' />\n<path class='bond-31' d='M 235.371,72.1623 L 239.906,60.7996' style='fill:none;fill-rule:evenodd;stroke:#0000FF;stroke-width:2.0px;stroke-linecap:butt;stroke-linejoin:miter;stroke-opacity:1' />\n<path class='bond-8' d='M 253.242,106.37 L 266.022,104.518' style='fill:none;fill-rule:evenodd;stroke:#0000FF;stroke-width:2.0px;stroke-linecap:butt;stroke-linejoin:miter;stroke-opacity:1' />\n<path class='bond-8' d='M 266.022,104.518 L 278.802,102.666' style='fill:none;fill-rule:evenodd;stroke:#000000;stroke-width:2.0px;stroke-linecap:butt;stroke-linejoin:miter;stroke-opacity:1' />\n<path class='bond-9' d='M 278.802,102.666 L 289.853,74.973' style='fill:none;fill-rule:evenodd;stroke:#000000;stroke-width:2.0px;stroke-linecap:butt;stroke-linejoin:miter;stroke-opacity:1' />\n<path class='bond-9' d='M 274.921,96.3017 L 282.657,76.9167' style='fill:none;fill-rule:evenodd;stroke:#000000;stroke-width:2.0px;stroke-linecap:butt;stroke-linejoin:miter;stroke-opacity:1' />\n<path class='bond-10' d='M 289.853,74.973 L 302.297,73.1698' style='fill:none;fill-rule:evenodd;stroke:#000000;stroke-width:2.0px;stroke-linecap:butt;stroke-linejoin:miter;stroke-opacity:1' />\n<path class='bond-10' d='M 302.297,73.1698 L 314.74,71.3667' style='fill:none;fill-rule:evenodd;stroke:#FF0000;stroke-width:2.0px;stroke-linecap:butt;stroke-linejoin:miter;stroke-opacity:1' />\n<path class='bond-20' d='M 289.853,74.973 L 271.396,51.5562' style='fill:none;fill-rule:evenodd;stroke:#000000;stroke-width:2.0px;stroke-linecap:butt;stroke-linejoin:miter;stroke-opacity:1' />\n<path class='bond-11' d='M 323.418,75.8433 L 330.618,84.9785' style='fill:none;fill-rule:evenodd;stroke:#FF0000;stroke-width:2.0px;stroke-linecap:butt;stroke-linejoin:miter;stroke-opacity:1' />\n<path class='bond-11' d='M 330.618,84.9785 L 337.819,94.1138' style='fill:none;fill-rule:evenodd;stroke:#000000;stroke-width:2.0px;stroke-linecap:butt;stroke-linejoin:miter;stroke-opacity:1' />\n<path class='bond-12' d='M 337.819,94.1138 L 367.327,89.8378' style='fill:none;fill-rule:evenodd;stroke:#000000;stroke-width:2.0px;stroke-linecap:butt;stroke-linejoin:miter;stroke-opacity:1' />\n<path class='bond-13' d='M 367.327,89.8378 L 385.784,113.255' style='fill:none;fill-rule:evenodd;stroke:#000000;stroke-width:2.0px;stroke-linecap:butt;stroke-linejoin:miter;stroke-opacity:1' />\n<path class='bond-13' d='M 374.779,89.6589 L 387.699,106.051' style='fill:none;fill-rule:evenodd;stroke:#000000;stroke-width:2.0px;stroke-linecap:butt;stroke-linejoin:miter;stroke-opacity:1' />\n<path class='bond-32' d='M 367.327,89.8378 L 378.378,62.145' style='fill:none;fill-rule:evenodd;stroke:#000000;stroke-width:2.0px;stroke-linecap:butt;stroke-linejoin:miter;stroke-opacity:1' />\n<path class='bond-14' d='M 385.784,113.255 L 415.292,108.979' style='fill:none;fill-rule:evenodd;stroke:#000000;stroke-width:2.0px;stroke-linecap:butt;stroke-linejoin:miter;stroke-opacity:1' />\n<path class='bond-15' d='M 415.292,108.979 L 419.827,97.6159' style='fill:none;fill-rule:evenodd;stroke:#000000;stroke-width:2.0px;stroke-linecap:butt;stroke-linejoin:miter;stroke-opacity:1' />\n<path class='bond-15' d='M 419.827,97.6159 L 424.361,86.2532' style='fill:none;fill-rule:evenodd;stroke:#0000FF;stroke-width:2.0px;stroke-linecap:butt;stroke-linejoin:miter;stroke-opacity:1' />\n<path class='bond-15' d='M 411.114,103.36 L 414.288,95.4057' style='fill:none;fill-rule:evenodd;stroke:#000000;stroke-width:2.0px;stroke-linecap:butt;stroke-linejoin:miter;stroke-opacity:1' />\n<path class='bond-15' d='M 414.288,95.4057 L 417.462,87.4518' style='fill:none;fill-rule:evenodd;stroke:#0000FF;stroke-width:2.0px;stroke-linecap:butt;stroke-linejoin:miter;stroke-opacity:1' />\n<path class='bond-16' d='M 422.428,76.3184 L 415.157,67.0937' style='fill:none;fill-rule:evenodd;stroke:#0000FF;stroke-width:2.0px;stroke-linecap:butt;stroke-linejoin:miter;stroke-opacity:1' />\n<path class='bond-16' d='M 415.157,67.0937 L 407.886,57.869' style='fill:none;fill-rule:evenodd;stroke:#000000;stroke-width:2.0px;stroke-linecap:butt;stroke-linejoin:miter;stroke-opacity:1' />\n<path class='bond-17' d='M 407.886,57.869 L 378.378,62.145' style='fill:none;fill-rule:evenodd;stroke:#000000;stroke-width:2.0px;stroke-linecap:butt;stroke-linejoin:miter;stroke-opacity:1' />\n<path class='bond-17' d='M 404.315,64.412 L 383.659,67.4052' style='fill:none;fill-rule:evenodd;stroke:#000000;stroke-width:2.0px;stroke-linecap:butt;stroke-linejoin:miter;stroke-opacity:1' />\n<path class='bond-18' d='M 378.378,62.145 L 359.921,38.7282' style='fill:none;fill-rule:evenodd;stroke:#000000;stroke-width:2.0px;stroke-linecap:butt;stroke-linejoin:miter;stroke-opacity:1' />\n<path class='bond-19' d='M 359.921,38.7282 L 352.65,29.5035' style='fill:none;fill-rule:evenodd;stroke:#000000;stroke-width:2.0px;stroke-linecap:butt;stroke-linejoin:miter;stroke-opacity:1' />\n<path class='bond-19' d='M 352.65,29.5035 L 345.379,20.2788' style='fill:none;fill-rule:evenodd;stroke:#0000FF;stroke-width:2.0px;stroke-linecap:butt;stroke-linejoin:miter;stroke-opacity:1' />\n<path class='bond-19' d='M 362.423,32.2693 L 356.242,24.4283' style='fill:none;fill-rule:evenodd;stroke:#000000;stroke-width:2.0px;stroke-linecap:butt;stroke-linejoin:miter;stroke-opacity:1' />\n<path class='bond-19' d='M 356.242,24.4283 L 350.062,16.5873' style='fill:none;fill-rule:evenodd;stroke:#0000FF;stroke-width:2.0px;stroke-linecap:butt;stroke-linejoin:miter;stroke-opacity:1' />\n<path class='bond-19' d='M 353.056,39.6522 L 346.876,31.8112' style='fill:none;fill-rule:evenodd;stroke:#000000;stroke-width:2.0px;stroke-linecap:butt;stroke-linejoin:miter;stroke-opacity:1' />\n<path class='bond-19' d='M 346.876,31.8112 L 340.695,23.9702' style='fill:none;fill-rule:evenodd;stroke:#0000FF;stroke-width:2.0px;stroke-linecap:butt;stroke-linejoin:miter;stroke-opacity:1' />\n<path class='bond-21' d='M 271.396,51.5562 L 258.616,53.4082' style='fill:none;fill-rule:evenodd;stroke:#000000;stroke-width:2.0px;stroke-linecap:butt;stroke-linejoin:miter;stroke-opacity:1' />\n<path class='bond-21' d='M 258.616,53.4082 L 245.836,55.2601' style='fill:none;fill-rule:evenodd;stroke:#0000FF;stroke-width:2.0px;stroke-linecap:butt;stroke-linejoin:miter;stroke-opacity:1' />\n<path class='bond-21' d='M 268.417,58.0134 L 259.471,59.3098' style='fill:none;fill-rule:evenodd;stroke:#000000;stroke-width:2.0px;stroke-linecap:butt;stroke-linejoin:miter;stroke-opacity:1' />\n<path class='bond-21' d='M 259.471,59.3098 L 250.525,60.6062' style='fill:none;fill-rule:evenodd;stroke:#0000FF;stroke-width:2.0px;stroke-linecap:butt;stroke-linejoin:miter;stroke-opacity:1' />\n<path class='bond-23' d='M 110.035,99.5239 L 105.51,110.863' style='fill:none;fill-rule:evenodd;stroke:#000000;stroke-width:2.0px;stroke-linecap:butt;stroke-linejoin:miter;stroke-opacity:1' />\n<path class='bond-23' d='M 105.51,110.863 L 100.986,122.202' style='fill:none;fill-rule:evenodd;stroke:#FF0000;stroke-width:2.0px;stroke-linecap:butt;stroke-linejoin:miter;stroke-opacity:1' />\n<path class='bond-23' d='M 115.574,101.734 L 111.049,113.073' style='fill:none;fill-rule:evenodd;stroke:#000000;stroke-width:2.0px;stroke-linecap:butt;stroke-linejoin:miter;stroke-opacity:1' />\n<path class='bond-23' d='M 111.049,113.073 L 106.524,124.412' style='fill:none;fill-rule:evenodd;stroke:#FF0000;stroke-width:2.0px;stroke-linecap:butt;stroke-linejoin:miter;stroke-opacity:1' />\n<path class='bond-24' d='M 112.804,100.629 L 105.604,91.4938' style='fill:none;fill-rule:evenodd;stroke:#000000;stroke-width:2.0px;stroke-linecap:butt;stroke-linejoin:miter;stroke-opacity:1' />\n<path class='bond-24' d='M 105.604,91.4938 L 98.4036,82.3585' style='fill:none;fill-rule:evenodd;stroke:#FF0000;stroke-width:2.0px;stroke-linecap:butt;stroke-linejoin:miter;stroke-opacity:1' />\n<path class='bond-25' d='M 89.7257,77.8819 L 77.2824,79.6851' style='fill:none;fill-rule:evenodd;stroke:#FF0000;stroke-width:2.0px;stroke-linecap:butt;stroke-linejoin:miter;stroke-opacity:1' />\n<path class='bond-25' d='M 77.2824,79.6851 L 64.8391,81.4882' style='fill:none;fill-rule:evenodd;stroke:#000000;stroke-width:2.0px;stroke-linecap:butt;stroke-linejoin:miter;stroke-opacity:1' />\n<path class='bond-26' d='M 64.8391,81.4882 L 46.3819,58.0714' style='fill:none;fill-rule:evenodd;stroke:#000000;stroke-width:2.0px;stroke-linecap:butt;stroke-linejoin:miter;stroke-opacity:1' />\n<path class='bond-27' d='M 46.3819,58.0714 L 38.7813,48.4285' style='fill:none;fill-rule:evenodd;stroke:#000000;stroke-width:2.0px;stroke-linecap:butt;stroke-linejoin:miter;stroke-opacity:1' />\n<path class='bond-27' d='M 38.7813,48.4285 L 31.1806,38.7855' style='fill:none;fill-rule:evenodd;stroke:#33CCCC;stroke-width:2.0px;stroke-linecap:butt;stroke-linejoin:miter;stroke-opacity:1' />\n<path class='bond-28' d='M 46.3819,58.0714 L 36.3015,66.0169' style='fill:none;fill-rule:evenodd;stroke:#000000;stroke-width:2.0px;stroke-linecap:butt;stroke-linejoin:miter;stroke-opacity:1' />\n<path class='bond-28' d='M 36.3015,66.0169 L 26.221,73.9623' style='fill:none;fill-rule:evenodd;stroke:#33CCCC;stroke-width:2.0px;stroke-linecap:butt;stroke-linejoin:miter;stroke-opacity:1' />\n<path class='bond-29' d='M 46.3819,58.0714 L 56.4623,50.126' style='fill:none;fill-rule:evenodd;stroke:#000000;stroke-width:2.0px;stroke-linecap:butt;stroke-linejoin:miter;stroke-opacity:1' />\n<path class='bond-29' d='M 56.4623,50.126 L 66.5427,42.1806' style='fill:none;fill-rule:evenodd;stroke:#33CCCC;stroke-width:2.0px;stroke-linecap:butt;stroke-linejoin:miter;stroke-opacity:1' />\n<path  class='atom-3' d='M 140.446 92.131\nL 143.213 96.6035\nQ 143.487 97.0448, 143.929 97.8439\nQ 144.37 98.6429, 144.394 98.6906\nL 144.394 92.131\nL 145.515 92.131\nL 145.515 100.575\nL 144.358 100.575\nL 141.388 95.6851\nQ 141.042 95.1127, 140.673 94.4567\nQ 140.315 93.8008, 140.208 93.598\nL 140.208 100.575\nL 139.11 100.575\nL 139.11 92.131\nL 140.446 92.131\n' fill='#0000FF'/>\n<path  class='atom-6' d='M 199.462 83.579\nL 202.229 88.0515\nQ 202.504 88.4928, 202.945 89.2918\nQ 203.386 90.0909, 203.41 90.1386\nL 203.41 83.579\nL 204.531 83.579\nL 204.531 92.023\nL 203.374 92.023\nL 200.405 87.1331\nQ 200.059 86.5607, 199.689 85.9047\nQ 199.331 85.2487, 199.224 85.046\nL 199.224 92.023\nL 198.127 92.023\nL 198.127 83.579\nL 199.462 83.579\n' fill='#0000FF'/>\n<path  class='atom-8' d='M 247.428 102.72\nL 250.195 107.192\nQ 250.469 107.634, 250.91 108.433\nQ 251.352 109.232, 251.375 109.279\nL 251.375 102.72\nL 252.497 102.72\nL 252.497 111.164\nL 251.34 111.164\nL 248.37 106.274\nQ 248.024 105.701, 247.654 105.045\nQ 247.297 104.39, 247.189 104.187\nL 247.189 111.164\nL 246.092 111.164\nL 246.092 102.72\nL 247.428 102.72\n' fill='#0000FF'/>\n<path  class='atom-11' d='M 315.485 70.7208\nQ 315.485 68.6933, 316.487 67.5603\nQ 317.489 66.4273, 319.362 66.4273\nQ 321.234 66.4273, 322.236 67.5603\nQ 323.238 68.6933, 323.238 70.7208\nQ 323.238 72.7722, 322.224 73.941\nQ 321.21 75.0979, 319.362 75.0979\nQ 317.501 75.0979, 316.487 73.941\nQ 315.485 72.7841, 315.485 70.7208\nM 319.362 74.1438\nQ 320.65 74.1438, 321.341 73.285\nQ 322.045 72.4144, 322.045 70.7208\nQ 322.045 69.063, 321.341 68.2282\nQ 320.65 67.3814, 319.362 67.3814\nQ 318.073 67.3814, 317.37 68.2163\nQ 316.678 69.0511, 316.678 70.7208\nQ 316.678 72.4263, 317.37 73.285\nQ 318.073 74.1438, 319.362 74.1438\n' fill='#FF0000'/>\n<path  class='atom-16' d='M 424.477 77.0638\nL 427.244 81.5362\nQ 427.518 81.9775, 427.959 82.7766\nQ 428.401 83.5757, 428.424 83.6234\nL 428.424 77.0638\nL 429.545 77.0638\nL 429.545 85.5078\nL 428.389 85.5078\nL 425.419 80.6179\nQ 425.073 80.0454, 424.703 79.3894\nQ 424.345 78.7335, 424.238 78.5307\nL 424.238 85.5078\nL 423.141 85.5078\nL 423.141 77.0638\nL 424.477 77.0638\n' fill='#0000FF'/>\n<path  class='atom-20' d='M 339.597 11.0894\nL 342.364 15.5618\nQ 342.638 16.0031, 343.079 16.8022\nQ 343.521 17.6013, 343.545 17.649\nL 343.545 11.0894\nL 344.666 11.0894\nL 344.666 19.5334\nL 343.509 19.5334\nL 340.539 14.6435\nQ 340.193 14.071, 339.824 13.415\nQ 339.466 12.7591, 339.358 12.5563\nL 339.358 19.5334\nL 338.261 19.5334\nL 338.261 11.0894\nL 339.597 11.0894\n' fill='#0000FF'/>\n<path  class='atom-22' d='M 240.022 51.6102\nL 242.788 56.0827\nQ 243.063 56.5239, 243.504 57.323\nQ 243.945 58.1221, 243.969 58.1698\nL 243.969 51.6102\nL 245.09 51.6102\nL 245.09 60.0542\nL 243.933 60.0542\nL 240.964 55.1643\nQ 240.618 54.5918, 240.248 53.9359\nQ 239.89 53.2799, 239.783 53.0772\nL 239.783 60.0542\nL 238.686 60.0542\nL 238.686 51.6102\nL 240.022 51.6102\n' fill='#0000FF'/>\n<path  class='atom-24' d='M 97.8774 128.346\nQ 97.8774 126.318, 98.8792 125.185\nQ 99.881 124.052, 101.754 124.052\nQ 103.626 124.052, 104.628 125.185\nQ 105.63 126.318, 105.63 128.346\nQ 105.63 130.397, 104.616 131.566\nQ 103.602 132.723, 101.754 132.723\nQ 99.893 132.723, 98.8792 131.566\nQ 97.8774 130.409, 97.8774 128.346\nM 101.754 131.769\nQ 103.042 131.769, 103.733 130.91\nQ 104.437 130.039, 104.437 128.346\nQ 104.437 126.688, 103.733 125.853\nQ 103.042 125.006, 101.754 125.006\nQ 100.465 125.006, 99.7618 125.841\nQ 99.07 126.676, 99.07 128.346\nQ 99.07 130.051, 99.7618 130.91\nQ 100.465 131.769, 101.754 131.769\n' fill='#FF0000'/>\n<path  class='atom-25' d='M 90.4711 77.2361\nQ 90.4711 75.2086, 91.4729 74.0756\nQ 92.4748 72.9425, 94.3472 72.9425\nQ 96.2197 72.9425, 97.2215 74.0756\nQ 98.2234 75.2086, 98.2234 77.2361\nQ 98.2234 79.2875, 97.2096 80.4563\nQ 96.1959 81.6131, 94.3472 81.6131\nQ 92.4867 81.6131, 91.4729 80.4563\nQ 90.4711 79.2994, 90.4711 77.2361\nM 94.3472 80.659\nQ 95.6353 80.659, 96.3271 79.8003\nQ 97.0307 78.9297, 97.0307 77.2361\nQ 97.0307 75.5783, 96.3271 74.7434\nQ 95.6353 73.8967, 94.3472 73.8967\nQ 93.0592 73.8967, 92.3555 74.7315\nQ 91.6638 75.5664, 91.6638 77.2361\nQ 91.6638 78.9416, 92.3555 79.8003\nQ 93.0592 80.659, 94.3472 80.659\n' fill='#FF0000'/>\n<path  class='atom-28' d='M 25.4141 30.4326\nL 30.4352 30.4326\nL 30.4352 31.3987\nL 26.5472 31.3987\nL 26.5472 33.9629\nL 30.0059 33.9629\nL 30.0059 34.9409\nL 26.5472 34.9409\nL 26.5472 38.8766\nL 25.4141 38.8766\nL 25.4141 30.4326\n' fill='#33CCCC'/>\n<path  class='atom-29' d='M 20.4545 72.3067\nL 25.4756 72.3067\nL 25.4756 73.2727\nL 21.5876 73.2727\nL 21.5876 75.8369\nL 25.0463 75.8369\nL 25.0463 76.8149\nL 21.5876 76.8149\nL 21.5876 80.7506\nL 20.4545 80.7506\nL 20.4545 72.3067\n' fill='#33CCCC'/>\n<path  class='atom-30' d='M 67.2882 35.3922\nL 72.3092 35.3922\nL 72.3092 36.3583\nL 68.4212 36.3583\nL 68.4212 38.9225\nL 71.8799 38.9225\nL 71.8799 39.9005\nL 68.4212 39.9005\nL 68.4212 43.8362\nL 67.2882 43.8362\nL 67.2882 35.3922\n' fill='#33CCCC'/>\n</svg>\n"
          },
          "metadata": {
            "tags": []
          },
          "execution_count": 115
        }
      ]
    },
    {
      "cell_type": "markdown",
      "metadata": {
        "id": "dRIMXrxO-Njh"
      },
      "source": [
        "동일 분자의 graph representation"
      ]
    },
    {
      "cell_type": "code",
      "metadata": {
        "id": "HAFOhNfGN6Yk",
        "outputId": "fb80e9dc-bf8c-4ea3-de6e-2255a5398cdc",
        "colab": {
          "base_uri": "https://localhost:8080/",
          "height": 248
        }
      },
      "source": [
        "draw_dgl_graph(ds[i][0])"
      ],
      "execution_count": 116,
      "outputs": [
        {
          "output_type": "display_data",
          "data": {
            "image/png": "[encoded data removed]",
            "text/plain": [
              "<Figure size 432x288 with 1 Axes>"
            ]
          },
          "metadata": {
            "tags": []
          }
        }
      ]
    },
    {
      "cell_type": "code",
      "metadata": {
        "id": "JpSvl-sRM3F7",
        "outputId": "81dc20b8-5983-40a4-8aae-1727d48c7633",
        "colab": {
          "base_uri": "https://localhost:8080/",
          "height": 286
        }
      },
      "source": [
        "import seaborn as sns \n",
        "sns.heatmap(ds[i][0].ndata['feat'])"
      ],
      "execution_count": 117,
      "outputs": [
        {
          "output_type": "execute_result",
          "data": {
            "text/plain": [
              "<matplotlib.axes._subplots.AxesSubplot at 0x7f3a5fcb4cc0>"
            ]
          },
          "metadata": {
            "tags": []
          },
          "execution_count": 117
        },
        {
          "output_type": "display_data",
          "data": {
            "image/png": "[encoded data removed]",
            "text/plain": [
              "<Figure size 432x288 with 2 Axes>"
            ]
          },
          "metadata": {
            "tags": [],
            "needs_background": "light"
          }
        }
      ]
    },
    {
      "cell_type": "code",
      "metadata": {
        "id": "ZuNrg2OEM80g",
        "outputId": "e529cf85-5208-4973-e11d-24c576147333",
        "colab": {
          "base_uri": "https://localhost:8080/",
          "height": 286
        }
      },
      "source": [
        "sns.heatmap(ds[i][0].edata['feat'])"
      ],
      "execution_count": 118,
      "outputs": [
        {
          "output_type": "execute_result",
          "data": {
            "text/plain": [
              "<matplotlib.axes._subplots.AxesSubplot at 0x7f3a5fbfbe80>"
            ]
          },
          "metadata": {
            "tags": []
          },
          "execution_count": 118
        },
        {
          "output_type": "display_data",
          "data": {
            "image/png": "[encoded data removed]",
            "text/plain": [
              "<Figure size 432x288 with 2 Axes>"
            ]
          },
          "metadata": {
            "tags": [],
            "needs_background": "light"
          }
        }
      ]
    },
    {
      "cell_type": "markdown",
      "metadata": {
        "id": "mmpSKSDKa3Ow"
      },
      "source": [
        "Node feature 9개, edge feature 3개가 있네요. 어떻게 이게 만들어졌는지는 전수업 듣고 어느정도 감이 잡히셨을텐데, 구체적으로 이들이 어떻게 구현했냐는 좀 코드 발굴필요합니다."
      ]
    },
    {
      "cell_type": "code",
      "metadata": {
        "id": "VnTUP5ZUWeMY",
        "outputId": "8a27583b-2e59-4ae7-b59f-3b5b2c2beec1",
        "colab": {
          "base_uri": "https://localhost:8080/",
          "height": 0
        }
      },
      "source": [
        "from ogb.utils.features import allowable_features\n",
        "import pprint\n",
        "\n",
        "pprint.pprint(list(allowable_features.keys()))"
      ],
      "execution_count": 119,
      "outputs": [
        {
          "output_type": "stream",
          "text": [
            "['possible_atomic_num_list',\n",
            " 'possible_chirality_list',\n",
            " 'possible_degree_list',\n",
            " 'possible_formal_charge_list',\n",
            " 'possible_numH_list',\n",
            " 'possible_number_radical_e_list',\n",
            " 'possible_hybridization_list',\n",
            " 'possible_is_aromatic_list',\n",
            " 'possible_is_in_ring_list',\n",
            " 'possible_bond_type_list',\n",
            " 'possible_bond_stereo_list',\n",
            " 'possible_is_conjugated_list']\n"
          ],
          "name": "stdout"
        }
      ]
    },
    {
      "cell_type": "markdown",
      "metadata": {
        "id": "IZyBw1apm-mb"
      },
      "source": [
        "이정도면 mol을 충분히 표현했다고 생각이 드시나요?\n",
        "\n",
        "### HOMEWORK\n",
        "\n",
        "- 전 수업의 Node/Edge Featurizer 코드와 위에 읽어드린 raw data csv파일 (SMILES)로 원하는 형태의 featurization 된 데이터셋 생성하세요.\n",
        "\n",
        "아래에는 dgllife 패키지의 featurization 코드를 활용 진행하겠으나, 자유로운 featurization은 chem data로 ml 하시는데에 가장 기초입니다. (text token으로 처리하지 않으실것이면)\n",
        "\n",
        "## Mol->Graph helper functions\n",
        "\n",
        "Mol object를 graph형식으로 읽어드리는 작업은 자주하니, dgllife (또는 deepchem 등등) 같은 lib로 반복적인 작업 encapsulate하는 것을 추천드립니다."
      ]
    },
    {
      "cell_type": "code",
      "metadata": {
        "id": "m-m67-LWfDYF"
      },
      "source": [
        "from functools import partial\n",
        "from dgllife.utils import mol_to_bigraph, mol_to_complete_graph, \\\n",
        "    PretrainAtomFeaturizer, PretrainBondFeaturizer\n",
        "\n",
        "molgraph = partial(mol_to_bigraph, \n",
        "                   add_self_loop=True,\n",
        "                   node_featurizer=PretrainAtomFeaturizer(),\n",
        "                   edge_featurizer=PretrainBondFeaturizer(self_loop=True),\n",
        "                   canonical_atom_order=False)"
      ],
      "execution_count": 120,
      "outputs": []
    },
    {
      "cell_type": "code",
      "metadata": {
        "id": "DVk5PmHMJBkw",
        "outputId": "371b8b71-117d-4da3-bb04-3eb9cbe62a02",
        "colab": {
          "base_uri": "https://localhost:8080/",
          "height": 248
        }
      },
      "source": [
        "mol = Chem.MolFromSmiles(df['smiles'][0])\n",
        "draw_dgl_graph(molgraph(mol),'atomic_number')"
      ],
      "execution_count": 121,
      "outputs": [
        {
          "output_type": "display_data",
          "data": {
            "image/png": "[encoded data removed]",
            "text/plain": [
              "<Figure size 432x288 with 1 Axes>"
            ]
          },
          "metadata": {
            "tags": []
          }
        }
      ]
    },
    {
      "cell_type": "code",
      "metadata": {
        "id": "q_Sk9C0tIb-1",
        "outputId": "8de7f6f2-412b-4cc6-9162-4253972cbee7",
        "colab": {
          "base_uri": "https://localhost:8080/",
          "height": 248
        }
      },
      "source": [
        "draw_dgl_graph(\n",
        "    mol_to_complete_graph(mol, node_featurizer=PretrainAtomFeaturizer()),\n",
        "    'atomic_number')"
      ],
      "execution_count": 122,
      "outputs": [
        {
          "output_type": "display_data",
          "data": {
            "image/png": "[encoded data removed]",
            "text/plain": [
              "<Figure size 432x288 with 1 Axes>"
            ]
          },
          "metadata": {
            "tags": []
          }
        }
      ]
    },
    {
      "cell_type": "markdown",
      "metadata": {
        "id": "p-E3C77xOsb_"
      },
      "source": [
        "BERT/Transformer를 좀 공부하신 분들은, 위 그래프가 반갑고 친근하실 수 있습니다. \n",
        "\n",
        "Self-attention은 곧 자기 자신 (sequence) 내 모든 token (node) 들이 서로 fully-connected된 에서 msg주고받는것이기 때문입니다.\n",
        "\n",
        "\n",
        "**Self attention for one token**\n",
        "\n",
        "<img src='https://drive.google.com/uc?id=1EQOVNhaAwAsU3f5h5j8BHXeohg4daGTq' height=160/>\n",
        "\n",
        "Ainslie et al., 2020\n",
        "\n",
        "---\n",
        "\n",
        "**Self attention for all tokens**\n",
        "\n",
        "<img src='https://i.imgur.com/zV5LmTX.png' height=160 />\n",
        "\n",
        "Wang et al., 2019\n",
        "\n",
        "\n",
        "\n",
        "\n"
      ]
    },
    {
      "cell_type": "code",
      "metadata": {
        "id": "Ga1osn-UKImZ",
        "outputId": "d00c736a-089e-4f17-ad7d-6b728f610c07",
        "colab": {
          "base_uri": "https://localhost:8080/",
          "height": 0
        }
      },
      "source": [
        "def smiles2molgraph(smiles: str): # SMILES가 단수인지 복수인지 애매하니 되도록 type hint\n",
        "    try:\n",
        "        mol = Chem.MolFromSmiles(smiles)\n",
        "        g = molgraph(mol)\n",
        "    except:\n",
        "        # 실패하는 mol은 그냥 무시하기\n",
        "        g = None\n",
        "    return g\n",
        "\n",
        "%time graphs = [x for x in list(map(smiles2molgraph, df['smiles'])) if x is not None]"
      ],
      "execution_count": 123,
      "outputs": [
        {
          "output_type": "stream",
          "text": [
            "CPU times: user 9.9 s, sys: 61.4 ms, total: 9.96 s\n",
            "Wall time: 9.99 s\n"
          ],
          "name": "stdout"
        }
      ]
    },
    {
      "cell_type": "code",
      "metadata": {
        "id": "x9u5QuTOKSVF",
        "outputId": "be8cf201-5ce2-454b-d582-fb8b50aee461",
        "colab": {
          "base_uri": "https://localhost:8080/",
          "height": 0
        }
      },
      "source": [
        "graphs[:4]"
      ],
      "execution_count": 124,
      "outputs": [
        {
          "output_type": "execute_result",
          "data": {
            "text/plain": [
              "[Graph(num_nodes=24, num_edges=78,\n",
              "       ndata_schemes={'atomic_number': Scheme(shape=(), dtype=torch.int64), 'chirality_type': Scheme(shape=(), dtype=torch.int64)}\n",
              "       edata_schemes={'bond_type': Scheme(shape=(), dtype=torch.int64), 'bond_direction_type': Scheme(shape=(), dtype=torch.int64)}),\n",
              " Graph(num_nodes=33, num_edges=103,\n",
              "       ndata_schemes={'atomic_number': Scheme(shape=(), dtype=torch.int64), 'chirality_type': Scheme(shape=(), dtype=torch.int64)}\n",
              "       edata_schemes={'bond_type': Scheme(shape=(), dtype=torch.int64), 'bond_direction_type': Scheme(shape=(), dtype=torch.int64)}),\n",
              " Graph(num_nodes=21, num_edges=67,\n",
              "       ndata_schemes={'atomic_number': Scheme(shape=(), dtype=torch.int64), 'chirality_type': Scheme(shape=(), dtype=torch.int64)}\n",
              "       edata_schemes={'bond_type': Scheme(shape=(), dtype=torch.int64), 'bond_direction_type': Scheme(shape=(), dtype=torch.int64)}),\n",
              " Graph(num_nodes=28, num_edges=90,\n",
              "       ndata_schemes={'atomic_number': Scheme(shape=(), dtype=torch.int64), 'chirality_type': Scheme(shape=(), dtype=torch.int64)}\n",
              "       edata_schemes={'bond_type': Scheme(shape=(), dtype=torch.int64), 'bond_direction_type': Scheme(shape=(), dtype=torch.int64)})]"
            ]
          },
          "metadata": {
            "tags": []
          },
          "execution_count": 124
        }
      ]
    },
    {
      "cell_type": "markdown",
      "metadata": {
        "id": "N55pKWgcSAxH"
      },
      "source": [
        "## Dataloading\n",
        "\n",
        "앞서 말씀드린 collate_fn을 다룰 때가 왔습니다. \n",
        "\n",
        "저희가 바라는 fn: `[g1, g2, ... gN]`을 input으로 받고, 하나의 `batch` 뭉치를 받기 원합니다.\n",
        "\n",
        "다행히 DGL에 편리한 `batch` fn 이 존재합니다.\n",
        "\n",
        "\n",
        "\n",
        "    Batch a collection of :class:`DGLGraph` s into one graph for more efficient\n",
        "    graph computation.\n",
        "\n",
        "    Each input graph becomes one disjoint component of the batched graph. The nodes\n",
        "    and edges are relabeled to be disjoint segments:\n",
        "\n",
        "    =================  =========  =================  ===  =========\n",
        "                       graphs[0]  graphs[1]          ...  graphs[k]\n",
        "    =================  =========  =================  ===  =========\n",
        "    Original node ID   0 ~ N_0    0 ~ N_1            ...  0 ~ N_k\n",
        "    New node ID        0 ~ N_0    N_0+1 ~ N_0+N_1+1  ...  1+\\sum_{i=0}^{k-1} N_i ~\n",
        "                                                          1+\\sum_{i=0}^k N_i\n",
        "    =================  =========  =================  ===  =========\n",
        "\n",
        "\n",
        "참고: https://pytorch-geometric.readthedocs.io/en/latest/notes/batching.html"
      ]
    },
    {
      "cell_type": "code",
      "metadata": {
        "id": "IQUTyCIGzhyN"
      },
      "source": [
        "# print(dgl.batch.__doc__)"
      ],
      "execution_count": 125,
      "outputs": []
    },
    {
      "cell_type": "code",
      "metadata": {
        "id": "qnRWw0FBxFLn",
        "outputId": "1c57f080-12c2-4acc-ddaf-1264002bab68",
        "colab": {
          "base_uri": "https://localhost:8080/"
        }
      },
      "source": [
        "# batch graphs\n",
        "bg = dgl.batch([graphs[i] for i in range(3)])"
      ],
      "execution_count": 245,
      "outputs": [
        {
          "output_type": "execute_result",
          "data": {
            "text/plain": [
              "Graph(num_nodes=78, num_edges=248,\n",
              "      ndata_schemes={'atomic_number': Scheme(shape=(), dtype=torch.int64), 'chirality_type': Scheme(shape=(), dtype=torch.int64)}\n",
              "      edata_schemes={'bond_type': Scheme(shape=(), dtype=torch.int64), 'bond_direction_type': Scheme(shape=(), dtype=torch.int64)})"
            ]
          },
          "metadata": {
            "tags": []
          },
          "execution_count": 245
        }
      ]
    },
    {
      "cell_type": "markdown",
      "metadata": {
        "id": "Ay5t9acFz0DV"
      },
      "source": [
        "좀더 가시적으로 확인해보면, batch된 graph는 하나의 dgl.DGLGraph 오브젝트이지만, 이 안에는 n개의 graph 정보가 내재되어 있습니다. Batching 방식은, node/edge feature는 바로 concatenate, 그리고 edge를 정의하는 adjacency matrix는 diagonally concatenate하는 것입니다.\n",
        "\n",
        "<img src='https://drive.google.com/uc?id=1pisw98_0QL5kbrfmVzhGiETnALGDkiOo' height=100/>\n",
        "\n",
        "이런 batching의 장점은\n",
        "\n",
        "1. message passing정의에 변형 전혀 없이 신경망을 그대로 적용할 수 있다 (message가 subgraph간 오염이 될 리가 없으니)\n",
        "2. padding, truncation걱정할 것 없다\n",
        "\n",
        "https://pytorch-geometric.readthedocs.io/en/latest/notes/batching.html\n",
        "\n",
        "\n",
        "Adjacency matrix를 그려보면, graph의 경계선을 넘는 edge는 없다고 확인할 수 있습니다\n"
      ]
    },
    {
      "cell_type": "code",
      "metadata": {
        "id": "IjS-X8DDC6j3",
        "outputId": "5f6aed64-636b-44c5-8ab5-8d2bb0d749da",
        "colab": {
          "base_uri": "https://localhost:8080/",
          "height": 286
        }
      },
      "source": [
        "# Create adj matrix\n",
        "A = bg.adj(scipy_fmt='coo').todense()\n",
        "sns.heatmap(A)"
      ],
      "execution_count": 235,
      "outputs": [
        {
          "output_type": "execute_result",
          "data": {
            "text/plain": [
              "<matplotlib.axes._subplots.AxesSubplot at 0x7f3855470a58>"
            ]
          },
          "metadata": {
            "tags": []
          },
          "execution_count": 235
        },
        {
          "output_type": "display_data",
          "data": {
            "image/png": "[encoded data removed]",
            "text/plain": [
              "<Figure size 432x288 with 2 Axes>"
            ]
          },
          "metadata": {
            "tags": [],
            "needs_background": "light"
          }
        }
      ]
    },
    {
      "cell_type": "code",
      "metadata": {
        "id": "lnUplmUkF4Rz",
        "outputId": "fbc8e64c-062c-4760-f17d-de4e2f09f08a",
        "colab": {
          "base_uri": "https://localhost:8080/",
          "height": 286
        }
      },
      "source": [
        "# mark graph bounds and viz\n",
        "c = 0\n",
        "for i, n in enumerate(bg.batch_num_nodes()):\n",
        "    A[c:n+c, c:n+c] += i + 1\n",
        "    c+=n\n",
        "sns.heatmap(A)"
      ],
      "execution_count": 236,
      "outputs": [
        {
          "output_type": "execute_result",
          "data": {
            "text/plain": [
              "<matplotlib.axes._subplots.AxesSubplot at 0x7f385540d908>"
            ]
          },
          "metadata": {
            "tags": []
          },
          "execution_count": 236
        },
        {
          "output_type": "display_data",
          "data": {
            "image/png": "[encoded data removed]",
            "text/plain": [
              "<Figure size 432x288 with 2 Axes>"
            ]
          },
          "metadata": {
            "tags": [],
            "needs_background": "light"
          }
        }
      ]
    },
    {
      "cell_type": "markdown",
      "metadata": {
        "id": "DFyzfgax1i1M"
      },
      "source": [
        "그래프를 그려봐도, 서로 떨어져 있다는 것이 확인 됩니다."
      ]
    },
    {
      "cell_type": "code",
      "metadata": {
        "id": "GgHg0pGeFwth",
        "outputId": "208bb0b3-2eb8-4584-d8fd-24ab19d2d96f",
        "colab": {
          "base_uri": "https://localhost:8080/",
          "height": 248
        }
      },
      "source": [
        "# featurize nodes by graph idx\n",
        "g_idxs = []\n",
        "for i, n in enumerate(bg.batch_num_nodes()):\n",
        "    g_idxs.append(th.repeat_interleave(th.tensor([i]), n))\n",
        "bg.ndata['feat'] = th.cat(g_idxs)\n",
        "bg.ndata['feat']\n",
        "\n",
        "# visualize\n",
        "draw_dgl_graph(bg, pos=nx.spring_layout(bg.to_networkx(),\n",
        "                                        iterations=150))"
      ],
      "execution_count": 249,
      "outputs": [
        {
          "output_type": "display_data",
          "data": {
            "image/png": "[encoded data removed]",
            "text/plain": [
              "<Figure size 432x288 with 1 Axes>"
            ]
          },
          "metadata": {
            "tags": []
          }
        }
      ]
    },
    {
      "cell_type": "markdown",
      "metadata": {
        "id": "IVuG_q2nQxMc"
      },
      "source": [
        "graph collation은 `dgl.batch`로 처리할 수 있고, 그 외 데이터 (y tensor 또는 SMILES str등)은 list 또는 tensor.cat/stack으로 쉽게 처리 가능합니다.\n",
        "\n",
        "위에서 정의한 dataframe과 featurize한 molgraph들을 합쳐서 dataset을 만들어보고, 이를 batching할 수 있는 collate_fn을 작성해보겠습니다."
      ]
    },
    {
      "cell_type": "code",
      "metadata": {
        "id": "v0LVMx9a3sLa",
        "outputId": "1eeb0060-a879-4e8c-8ed6-e46bd8bfa114",
        "colab": {
          "base_uri": "https://localhost:8080/",
          "height": 204
        }
      },
      "source": [
        "df.head()"
      ],
      "execution_count": 128,
      "outputs": [
        {
          "output_type": "execute_result",
          "data": {
            "text/html": [
              "<div>\n",
              "<style scoped>\n",
              "    .dataframe tbody tr th:only-of-type {\n",
              "        vertical-align: middle;\n",
              "    }\n",
              "\n",
              "    .dataframe tbody tr th {\n",
              "        vertical-align: top;\n",
              "    }\n",
              "\n",
              "    .dataframe thead th {\n",
              "        text-align: right;\n",
              "    }\n",
              "</style>\n",
              "<table border=\"1\" class=\"dataframe\">\n",
              "  <thead>\n",
              "    <tr style=\"text-align: right;\">\n",
              "      <th></th>\n",
              "      <th>exp</th>\n",
              "      <th>smiles</th>\n",
              "    </tr>\n",
              "  </thead>\n",
              "  <tbody>\n",
              "    <tr>\n",
              "      <th>0</th>\n",
              "      <td>3.54</td>\n",
              "      <td>Cn1c(CN2CCN(CC2)c3ccc(Cl)cc3)nc4ccccc14</td>\n",
              "    </tr>\n",
              "    <tr>\n",
              "      <th>1</th>\n",
              "      <td>-1.18</td>\n",
              "      <td>COc1cc(OC)c(cc1NC(=O)CSCC(=O)O)S(=O)(=O)N2C(C)...</td>\n",
              "    </tr>\n",
              "    <tr>\n",
              "      <th>2</th>\n",
              "      <td>3.69</td>\n",
              "      <td>COC(=O)[C@@H](N1CCc2sccc2C1)c3ccccc3Cl</td>\n",
              "    </tr>\n",
              "    <tr>\n",
              "      <th>3</th>\n",
              "      <td>3.37</td>\n",
              "      <td>OC[C@H](O)CN1C(=O)C(Cc2ccccc12)NC(=O)c3cc4cc(C...</td>\n",
              "    </tr>\n",
              "    <tr>\n",
              "      <th>4</th>\n",
              "      <td>3.10</td>\n",
              "      <td>Cc1cccc(C[C@H](NC(=O)c2cc(nn2C)C(C)(C)C)C(=O)N...</td>\n",
              "    </tr>\n",
              "  </tbody>\n",
              "</table>\n",
              "</div>"
            ],
            "text/plain": [
              "    exp                                             smiles\n",
              "0  3.54            Cn1c(CN2CCN(CC2)c3ccc(Cl)cc3)nc4ccccc14\n",
              "1 -1.18  COc1cc(OC)c(cc1NC(=O)CSCC(=O)O)S(=O)(=O)N2C(C)...\n",
              "2  3.69             COC(=O)[C@@H](N1CCc2sccc2C1)c3ccccc3Cl\n",
              "3  3.37  OC[C@H](O)CN1C(=O)C(Cc2ccccc12)NC(=O)c3cc4cc(C...\n",
              "4  3.10  Cc1cccc(C[C@H](NC(=O)c2cc(nn2C)C(C)(C)C)C(=O)N..."
            ]
          },
          "metadata": {
            "tags": []
          },
          "execution_count": 128
        }
      ]
    },
    {
      "cell_type": "code",
      "metadata": {
        "id": "rD4lthVw3tg_",
        "outputId": "57d31bb4-7211-4ff1-ad14-e23782c57ecc",
        "colab": {
          "base_uri": "https://localhost:8080/",
          "height": 0
        }
      },
      "source": [
        "# df값들을 array로 받고...\n",
        "df.values.T"
      ],
      "execution_count": 129,
      "outputs": [
        {
          "output_type": "execute_result",
          "data": {
            "text/plain": [
              "array([[3.54, -1.18, 3.69, ..., 2.1, 2.65, 2.7],\n",
              "       ['Cn1c(CN2CCN(CC2)c3ccc(Cl)cc3)nc4ccccc14',\n",
              "        'COc1cc(OC)c(cc1NC(=O)CSCC(=O)O)S(=O)(=O)N2C(C)CCc3ccccc23',\n",
              "        'COC(=O)[C@@H](N1CCc2sccc2C1)c3ccccc3Cl', ...,\n",
              "        'COc1cccc2[nH]ncc12', 'Clc1ccc2ncccc2c1C(=O)NCC3CCCCC3',\n",
              "        'CN1C(=O)C=C(CCc2ccc3ccccc3c2)N=C1N']], dtype=object)"
            ]
          },
          "metadata": {
            "tags": []
          },
          "execution_count": 129
        }
      ]
    },
    {
      "cell_type": "code",
      "metadata": {
        "id": "_2isqqAz2UJM",
        "outputId": "cd2bf8c4-62b2-4393-bb69-e121e0680c58",
        "colab": {
          "base_uri": "https://localhost:8080/",
          "height": 0
        }
      },
      "source": [
        "# zip으로 graph들과 합침\n",
        "dataset = list(zip(graphs, *df.values.T))\n",
        "dataset[0]"
      ],
      "execution_count": 130,
      "outputs": [
        {
          "output_type": "execute_result",
          "data": {
            "text/plain": [
              "(Graph(num_nodes=24, num_edges=78,\n",
              "       ndata_schemes={'atomic_number': Scheme(shape=(), dtype=torch.int64), 'chirality_type': Scheme(shape=(), dtype=torch.int64)}\n",
              "       edata_schemes={'bond_type': Scheme(shape=(), dtype=torch.int64), 'bond_direction_type': Scheme(shape=(), dtype=torch.int64)}),\n",
              " 3.54,\n",
              " 'Cn1c(CN2CCN(CC2)c3ccc(Cl)cc3)nc4ccccc14')"
            ]
          },
          "metadata": {
            "tags": []
          },
          "execution_count": 130
        }
      ]
    },
    {
      "cell_type": "code",
      "metadata": {
        "id": "sNyUqIKZ3JY1"
      },
      "source": [
        "# 위 dataset zipping을 그대로 꺼꾸로 풀어주는데, graph는 batch하고 y값은 tensor로\n",
        "def my_collate_fn(datums):\n",
        "    graphs, ys, smiles = list(zip(*datums))\n",
        "    return smiles, dgl.batch(graphs), th.tensor(ys)"
      ],
      "execution_count": 131,
      "outputs": []
    },
    {
      "cell_type": "code",
      "metadata": {
        "id": "NvNHFfDk3Gcg",
        "outputId": "8eca7ed3-f44c-44f4-c37d-1c3fc2577ec8",
        "colab": {
          "base_uri": "https://localhost:8080/",
          "height": 0
        }
      },
      "source": [
        "import torch \n",
        "from torch.utils.data import DataLoader\n",
        "\n",
        "# 위에 정의한 collate_fn 사용...\n",
        "dl = DataLoader(dataset, batch_size=8, collate_fn=my_collate_fn, shuffle=True)\n",
        "\n",
        "ex_batch = next(iter(dl))\n",
        "ex_batch"
      ],
      "execution_count": 132,
      "outputs": [
        {
          "output_type": "execute_result",
          "data": {
            "text/plain": [
              "(('Cn1cncc1c2c3C(=O)N(CC=C)C(=O)N(CC4CC4)c3nn2Cc5ccnc6ccc(Cl)cc56',\n",
              "  'CC(C)CN1C(=O)N(C)C(=O)c2c(SC3CCCCC3)c(Cc4ccccc4C(F)(F)F)sc12',\n",
              "  'COc1ccc(F)c(F)c1C(=O)c2cnc(NC3CCN(CC3)S(=O)(=O)C)nc2N',\n",
              "  'Clc1ccc(cc1C(=O)NCC23CC4CC(CC(C4)C2)C3)N5N=CC(=O)NC5=O',\n",
              "  'CN1C(=O)N(CC2CC2)c3nn(Cc4ccnc5ccc(Cl)cc45)c(c3C1=O)c6nc(cn6C)S(=O)(=O)C',\n",
              "  'CC(C)NNC(=O)c1ccncc1',\n",
              "  'CC(C)c1c(cnn1c2ccc(cc2)C(=O)O)C(=O)NC3C4CC5CC(CC3C5)C4',\n",
              "  'Oc1ccc(cc1)c2oc3cc(O)ccc3n2'),\n",
              " Graph(num_nodes=227, num_edges=731,\n",
              "       ndata_schemes={'atomic_number': Scheme(shape=(), dtype=torch.int64), 'chirality_type': Scheme(shape=(), dtype=torch.int64)}\n",
              "       edata_schemes={'bond_type': Scheme(shape=(), dtype=torch.int64), 'bond_direction_type': Scheme(shape=(), dtype=torch.int64)}),\n",
              " tensor([3.6200, 4.1400, 2.0800, 2.1000, 2.6400, 0.3300, 1.1500, 3.3000]))"
            ]
          },
          "metadata": {
            "tags": []
          },
          "execution_count": 132
        }
      ]
    },
    {
      "cell_type": "markdown",
      "metadata": {
        "id": "WKL3R5Xl5HWc"
      },
      "source": [
        "어떤경우에는 Y값이 없거나 필요없는 dataloader도 있겠지요. inference하여 prediction을 뽑거나, 그냥 embedding만 얻고싶거나.\n",
        "\n",
        "중요한 점은, **collater는 내 데이터와 모델을 연결해주는 mini pipeline**, 내 데이터 형태와 모델이 바라는 데이터 유형에 따라 얼마든지 flexible할 수 있습니다. 몇가지 예시를 보시려면 dgl, ogb, [pytorch_geometric](https://pytorch-geometric.readthedocs.io/en/latest/_modules/torch_geometric/data/dataloader.html) 소스코드 좀 뒤져보시면 어느정도 패턴이 보입니다.\n",
        "\n",
        "### Homework\n",
        "- 위와 동일하지만 y를 무시하는 collate_fn 만들어보세요."
      ]
    },
    {
      "cell_type": "markdown",
      "metadata": {
        "id": "grepcmZSDNVk"
      },
      "source": [
        "---\n",
        "이제 드디어 첫 GNN이 등장합니다. \"왜이렇게 데이터만 만지작 거리고 AI수업에 신경망은 없냐?\" 생각하실 수 있지만, AI의 Rule 0를 잊지 마시길 바랍니다:\n",
        "\n",
        "> \"Become one with the data\"\n",
        "\n",
        "\n",
        "<img src='https://img.cinemablend.com/filter:scale/quill/b/f/c/9/e/a/bfc9ea0491efca53eec2350421e1911d07120072.jpg?mw=600' height=200/>\n",
        "\n",
        "\n",
        "다들 아시겠지만, 정말 지겨울정도로 데이터를 만지다 보면 어떤 신경망이 그 위에 얹혀져야할지는 당연스레 드러납니다. \n",
        "\n",
        "<font color='red'>**SOTA모델은 매주 바뀌지만, SOTA데이터는 10년단위로 바뀝니다**</font>\n",
        "\n",
        "# Simple GNN for Molecules\n",
        "\n",
        "구조가 간단하고 baseline으로 나쁘지 않은 GIN-e 사용하도록 하겠습니다. 아래와 같은 update를 갖고 있네요.\n",
        "\n",
        "\\begin{equation}\n",
        "x_v^{(l+1)} = \\text{MLP}_θ^{(l+1)} \\left( (1+ε) \\cdot x_v^{(l)} + \\sum_{w\\in \\mathcal{N}(v)} x_w^{(l)}  + e^{(l)}_{w,v}\\right)\n",
        "\\end{equation}\n",
        "\n",
        "\n",
        "Fey et al., 2020\n",
        "\n",
        "\n",
        "<img src='https://drive.google.com/uc?id=1nxtdwDxGcilJyZOgvL4U-iiW5Ba8RW81' height=320/>\n",
        "\n",
        "Dwivedi et al., 2020\n"
      ]
    },
    {
      "cell_type": "code",
      "metadata": {
        "id": "pKzWKq9TDQSt",
        "outputId": "f24cf25f-5dbe-4525-a06e-946d4903fc4b",
        "colab": {
          "base_uri": "https://localhost:8080/",
          "height": 0
        }
      },
      "source": [
        "from dgllife.model import GIN\n",
        "\n",
        "gin = GIN(num_node_emb_list=[120, 3], # 이숫자들! 어디서 온것일까요? Hint: featurizer를 드려다 보세요\n",
        "          num_edge_emb_list=[6, 3],\n",
        "          # hyperparameters\n",
        "          num_layers=2,\n",
        "          emb_dim=256,\n",
        "          JK='last', # jumping knowledge, resnet의 재발견과 약간 비슷한 개념\n",
        "          dropout=0.1)\n",
        "gin"
      ],
      "execution_count": 133,
      "outputs": [
        {
          "output_type": "execute_result",
          "data": {
            "text/plain": [
              "GIN(\n",
              "  (dropout): Dropout(p=0.1, inplace=False)\n",
              "  (node_embeddings): ModuleList(\n",
              "    (0): Embedding(120, 256)\n",
              "    (1): Embedding(3, 256)\n",
              "  )\n",
              "  (gnn_layers): ModuleList(\n",
              "    (0): GINLayer(\n",
              "      (mlp): Sequential(\n",
              "        (0): Linear(in_features=256, out_features=512, bias=True)\n",
              "        (1): ReLU()\n",
              "        (2): Linear(in_features=512, out_features=256, bias=True)\n",
              "      )\n",
              "      (edge_embeddings): ModuleList(\n",
              "        (0): Embedding(6, 256)\n",
              "        (1): Embedding(3, 256)\n",
              "      )\n",
              "      (bn): BatchNorm1d(256, eps=1e-05, momentum=0.1, affine=True, track_running_stats=True)\n",
              "    )\n",
              "    (1): GINLayer(\n",
              "      (mlp): Sequential(\n",
              "        (0): Linear(in_features=256, out_features=512, bias=True)\n",
              "        (1): ReLU()\n",
              "        (2): Linear(in_features=512, out_features=256, bias=True)\n",
              "      )\n",
              "      (edge_embeddings): ModuleList(\n",
              "        (0): Embedding(6, 256)\n",
              "        (1): Embedding(3, 256)\n",
              "      )\n",
              "      (bn): BatchNorm1d(256, eps=1e-05, momentum=0.1, affine=True, track_running_stats=True)\n",
              "    )\n",
              "  )\n",
              ")"
            ]
          },
          "metadata": {
            "tags": []
          },
          "execution_count": 133
        }
      ]
    },
    {
      "cell_type": "code",
      "metadata": {
        "id": "bBFXb42QMpKu",
        "outputId": "069c25d2-20df-4b77-d95f-25a65b619e3b",
        "colab": {
          "base_uri": "https://localhost:8080/",
          "height": 0
        }
      },
      "source": [
        "from operator import itemgetter\n",
        "\n",
        "# 이게 왜 python 기본적으로 없는지...\n",
        "nget = itemgetter('atomic_number', 'chirality_type')\n",
        "eget = itemgetter('bond_type', 'bond_direction_type')\n",
        "\n",
        "\n",
        "g = ex_batch[1]\n",
        "out = gin(g, nget(g.ndata), eget(g.edata))\n",
        "print(out.shape)\n",
        "out"
      ],
      "execution_count": 134,
      "outputs": [
        {
          "output_type": "stream",
          "text": [
            "torch.Size([227, 256])\n"
          ],
          "name": "stdout"
        },
        {
          "output_type": "execute_result",
          "data": {
            "text/plain": [
              "tensor([[ 1.0527, -0.9089, -1.1723,  ..., -0.9115, -0.1975, -0.1372],\n",
              "        [ 0.3137, -0.4144, -0.0080,  ..., -0.3630, -0.7128,  0.2858],\n",
              "        [-0.2338, -0.5176,  0.5465,  ..., -0.8726,  0.3647,  0.9399],\n",
              "        ...,\n",
              "        [-0.7131, -0.0000, -0.3017,  ..., -0.6753,  1.4890,  1.0937],\n",
              "        [-1.2685, -0.1024,  0.0000,  ..., -0.0000,  1.9479,  1.3488],\n",
              "        [-0.1210, -0.9326, -0.1081,  ..., -0.9781,  1.3632,  0.7874]],\n",
              "       grad_fn=<MulBackward0>)"
            ]
          },
          "metadata": {
            "tags": []
          },
          "execution_count": 134
        }
      ]
    },
    {
      "cell_type": "code",
      "metadata": {
        "id": "QbadViHl7Up4"
      },
      "source": [
        "class MolEmbWrapper(nn.Module):\n",
        "    def __init__(self, net, ngetter, egetter):\n",
        "        super().__init__()\n",
        "        self.nget = ngetter\n",
        "        self.eget = egetter\n",
        "        self.net = net\n",
        "\n",
        "    def forward(self, g):\n",
        "        return self.net(g, \n",
        "                        self.nget(g.ndata), \n",
        "                        self.eget(g.edata))"
      ],
      "execution_count": 135,
      "outputs": []
    },
    {
      "cell_type": "code",
      "metadata": {
        "id": "Eh6yBHcm8CtP"
      },
      "source": [
        "mew = MolEmbWrapper(gin, nget, eget)\n",
        "g_embs = mew(g)"
      ],
      "execution_count": 239,
      "outputs": []
    },
    {
      "cell_type": "code",
      "metadata": {
        "id": "RaSIbc-xO3ns",
        "outputId": "73a7eb67-a2eb-4866-8753-4778ad114950",
        "colab": {
          "base_uri": "https://localhost:8080/"
        }
      },
      "source": [
        "g_embs"
      ],
      "execution_count": 242,
      "outputs": [
        {
          "output_type": "execute_result",
          "data": {
            "text/plain": [
              "tensor([[ 1.0110, -0.9321, -1.3451,  ..., -0.9974, -0.3964,  0.1075],\n",
              "        [ 0.2245, -0.2099,  0.0000,  ..., -0.9377, -0.8571,  0.2257],\n",
              "        [-0.1961, -0.6296,  0.6367,  ..., -1.0847,  0.3134,  1.0641],\n",
              "        ...,\n",
              "        [-0.4615, -0.6726, -0.2765,  ..., -0.9242,  1.7748,  0.7565],\n",
              "        [-0.4570,  0.4623,  1.6741,  ..., -1.6209,  1.5490,  1.2344],\n",
              "        [-0.1108, -0.8082,  0.4449,  ..., -1.1737,  1.1177,  0.8430]],\n",
              "       grad_fn=<MulBackward0>)"
            ]
          },
          "metadata": {
            "tags": []
          },
          "execution_count": 242
        }
      ]
    },
    {
      "cell_type": "code",
      "metadata": {
        "id": "luiefGJNO2A4",
        "outputId": "33cc1226-29a2-4588-bc0f-5cbe2223241f",
        "colab": {
          "base_uri": "https://localhost:8080/"
        }
      },
      "source": [
        "g_embs.shape"
      ],
      "execution_count": 241,
      "outputs": [
        {
          "output_type": "execute_result",
          "data": {
            "text/plain": [
              "torch.Size([227, 256])"
            ]
          },
          "metadata": {
            "tags": []
          },
          "execution_count": 241
        }
      ]
    },
    {
      "cell_type": "code",
      "metadata": {
        "id": "zMvOAbhtNnZZ",
        "outputId": "918ea508-f1f8-47b9-c4b4-02c494c20d54",
        "colab": {
          "base_uri": "https://localhost:8080/"
        }
      },
      "source": [
        "ex_batch[-1]"
      ],
      "execution_count": 243,
      "outputs": [
        {
          "output_type": "execute_result",
          "data": {
            "text/plain": [
              "tensor([3.6200, 4.1400, 2.0800, 2.1000, 2.6400, 0.3300, 1.1500, 3.3000])"
            ]
          },
          "metadata": {
            "tags": []
          },
          "execution_count": 243
        }
      ]
    },
    {
      "cell_type": "markdown",
      "metadata": {
        "id": "1mDDx-B7U0-l"
      },
      "source": [
        "분명히 8개짜리 batch를 collate하여 입력했는데, 출력값은 batch dimension이 안보이네요... \n",
        "\n",
        "이 모양의 Mismatch는 왜일까요?"
      ]
    },
    {
      "cell_type": "code",
      "metadata": {
        "id": "y5UZMyLgUrxr",
        "outputId": "79c688e7-05e4-419a-916f-a0348c5763c7",
        "colab": {
          "base_uri": "https://localhost:8080/",
          "height": 0
        }
      },
      "source": [
        "g.batch_num_nodes()"
      ],
      "execution_count": 139,
      "outputs": [
        {
          "output_type": "execute_result",
          "data": {
            "text/plain": [
              "tensor([36, 34, 30, 29, 38, 13, 30, 17])"
            ]
          },
          "metadata": {
            "tags": []
          },
          "execution_count": 139
        }
      ]
    },
    {
      "cell_type": "markdown",
      "metadata": {
        "id": "jPmwHx0BB_kf"
      },
      "source": [
        "graph batch의 node/edge feature들은 1D로 쭉 늘어나지, batch dimension이 추가되지 않습니다. batch 내 어느 sample의 node인지에 대한 정보는 adjacency matrix (edge indices)에 포함되어 있는것이지, 다른 tensor처럼 batch dimension이 따로 있지 않습니다.\n",
        "\n",
        "Batch 단위 연산을 하고싶다면, scatter/gather operation이 필요하게 됩니다.\n",
        "\n",
        "이는 사각형 tensor보다 조금 더 복잡하단 단점이 있지만, padding/truncation 걱정이 사라지는 장점이 있습니다.\n",
        "\n",
        "<img src='https://raw.githubusercontent.com/rusty1s/pytorch_scatter/master/docs/source/_figures/add.svg?sanitize=true' height=200/>\n",
        "\n",
        "https://github.com/rusty1s/pytorch_scatter"
      ]
    },
    {
      "cell_type": "code",
      "metadata": {
        "id": "knMdkrGNYA5Z"
      },
      "source": [
        "from dgl.readout import readout_nodes\n",
        "from dgllife.model import MLPNodeReadout\n",
        "\n",
        "g.ndata['out'] = out\n",
        "mean_out = readout_nodes(g, 'out', op='mean')"
      ],
      "execution_count": 141,
      "outputs": []
    },
    {
      "cell_type": "code",
      "metadata": {
        "id": "MYTMIAosYnMs",
        "outputId": "7bf6abd0-c6f2-489e-81ed-2b883b763ab6",
        "colab": {
          "base_uri": "https://localhost:8080/",
          "height": 0
        }
      },
      "source": [
        "mean_out.shape"
      ],
      "execution_count": 153,
      "outputs": [
        {
          "output_type": "execute_result",
          "data": {
            "text/plain": [
              "torch.Size([8, 256])"
            ]
          },
          "metadata": {
            "tags": []
          },
          "execution_count": 153
        }
      ]
    },
    {
      "cell_type": "markdown",
      "metadata": {
        "id": "cgwNGNMgYuFf"
      },
      "source": [
        "Readout해주니 기대되는 y의 모양 (즉 num_graphs 수)과 일치하네요. \n",
        "\n",
        "왜 다른 모델에서 하듯 `torch.mean(x, dim=-1)` 하면 안될까요?\n",
        "\n",
        "## Homework\n",
        "- MLPNodeReadout, Set2Set readout, AttentiveFP readout 등 적용시켜보기 "
      ]
    },
    {
      "cell_type": "markdown",
      "metadata": {
        "id": "mYxaizwUDCFc"
      },
      "source": [
        "## Inference with Pretrained Mol Encoder"
      ]
    },
    {
      "cell_type": "code",
      "metadata": {
        "id": "4TUfp0ffcD3m",
        "outputId": "e28acac4-2706-4aac-af27-f6086942c973",
        "colab": {
          "base_uri": "https://localhost:8080/",
          "height": 0
        }
      },
      "source": [
        "from dgllife.model import load_pretrained\n",
        "\n",
        "mol_model = load_pretrained('gin_supervised_infomax').cuda()\n",
        "mol_model = mol_model.eval()\n",
        "# print(mol_model)"
      ],
      "execution_count": 143,
      "outputs": [
        {
          "output_type": "stream",
          "text": [
            "Downloading gin_supervised_infomax_pre_trained.pth from https://data.dgl.ai/dgllife/pre_trained/gin_supervised_infomax.pth...\n",
            "Pretrained model loaded\n"
          ],
          "name": "stdout"
        }
      ]
    },
    {
      "cell_type": "code",
      "metadata": {
        "id": "crIrJbrM5mZz"
      },
      "source": [
        "# 아까 숙제라고 했지만 하나 예시...\n",
        "def embedder_collate_fn(datums):\n",
        "    graphs, _, smiles = list(zip(*datums))\n",
        "    return smiles, dgl.batch(graphs)"
      ],
      "execution_count": 144,
      "outputs": []
    },
    {
      "cell_type": "code",
      "metadata": {
        "id": "_InjCNC9AKeR"
      },
      "source": [
        "def embed_mol(net, g):\n",
        "    # net을 활용해서 g를 embed 한다. 유의할점은 cuda부르는 것 (실제코드에서는 이렇게 manual하게 안함), \n",
        "    # 그리고 ndata/edata의 datakey들이 하드코딩 됬다는 점 (실제코드에선 이렇게 brittle하게 안함).\n",
        "    g = g.to(th.device('cuda:0'))\n",
        "    nf = [g.ndata['atomic_number'].cuda(),\n",
        "          g.ndata['chirality_type'].cuda()]\n",
        "    ef = [g.edata['bond_type'].cuda(),\n",
        "          g.edata['bond_direction_type'].cuda()]\n",
        "    with th.no_grad():\n",
        "        return net.cuda()(g, nf, ef)"
      ],
      "execution_count": 145,
      "outputs": []
    },
    {
      "cell_type": "code",
      "metadata": {
        "id": "Xat9yuqf589S",
        "outputId": "e3ed759f-0bcc-465e-f0b3-1bbd830ed3c5",
        "colab": {
          "base_uri": "https://localhost:8080/",
          "height": 0
        }
      },
      "source": [
        "from tqdm import tqdm\n",
        "\n",
        "dl = DataLoader(dataset, batch_size=32, collate_fn=embedder_collate_fn, shuffle=True)\n",
        "\n",
        "smiles = []\n",
        "embs = []\n",
        "for i, (smi, g) in tqdm(enumerate(dl)):\n",
        "    emb = embed_mol(mol_model, g)\n",
        "    embs.extend(emb)\n",
        "    smiles.extend(smi)"
      ],
      "execution_count": 80,
      "outputs": [
        {
          "output_type": "stream",
          "text": [
            "132it [00:01, 67.22it/s]\n"
          ],
          "name": "stderr"
        }
      ]
    },
    {
      "cell_type": "code",
      "metadata": {
        "id": "abjFapML7Lpe",
        "outputId": "f52555b7-f452-4a87-ea55-913945f22f43",
        "colab": {
          "base_uri": "https://localhost:8080/",
          "height": 0
        }
      },
      "source": [
        "len(smiles), len(embs)"
      ],
      "execution_count": 81,
      "outputs": [
        {
          "output_type": "execute_result",
          "data": {
            "text/plain": [
              "(4200, 113568)"
            ]
          },
          "metadata": {
            "tags": []
          },
          "execution_count": 81
        }
      ]
    },
    {
      "cell_type": "markdown",
      "metadata": {
        "id": "ulHrq5VqAo9S"
      },
      "source": [
        "왜 SMILES보다 embedded mols가 더 많은지는 이제 아시지요?\n",
        "\n",
        "바로 readout을 하지 않고, 이렇게 node별 hidden representation을 유지하는데에 장점이 있을까요?\n",
        "\n",
        "1. node level pretraining\n",
        "2. node level prediction\n",
        "3. node aware graph level prediction"
      ]
    },
    {
      "cell_type": "markdown",
      "metadata": {
        "id": "o1fuT2p8mFj1"
      },
      "source": [
        "# Protein Repr. with Transformers\n",
        "\n",
        "NLP툴체인/아키텍쳐로 단백직서열으로 처리하는 연구는 많이 진행되고있습니다.\n",
        "\n",
        "\n",
        "- [ProtTrans](https://github.com/agemagician/ProtTrans)\n",
        "    - 2.1B protein sequences (~400B amino acids) + Transformer => train on TPU pods and Summit supercomputer => pretrained models\n",
        "- [BERTology meets Biology](https://www.biorxiv.org/content/10.1101/2020.06.26.174417v1?rss=1)"
      ]
    },
    {
      "cell_type": "code",
      "metadata": {
        "id": "cfPcEj6vW5t1"
      },
      "source": [
        "from transformers import BertTokenizer, BertModel\n",
        "import re\n",
        "import numpy as np\n",
        "import gc\n",
        "\n",
        "class PretrainedProteinEmbed(nn.Module):\n",
        "    def __init__(self, id='Rostlab/prot_bert', device='cuda:0'):\n",
        "        \"\"\"\n",
        "        Download and load pretrained huggingface transformer model.\n",
        "        See: https://www.biorxiv.org/content/10.1101/2020.07.12.199554v2\n",
        "        \"\"\"\n",
        "        super().__init__()\n",
        "        self.device = th.device(device)\n",
        "        # loading happens here\n",
        "        self.model = BertModel.from_pretrained(id).to(self.device).eval()\n",
        "        self.tokenizer = BertTokenizer.from_pretrained(id, do_lower_case=False)\n",
        "        gc.collect()\n",
        "\n",
        "    def process_str(self, s):\n",
        "        s = re.sub(r'\\s', '', s)\n",
        "        x = str.join(' ', list(re.sub(r' ', '', s.upper())))\n",
        "        x = re.sub(r'[UZOB]', 'X', x)\n",
        "        return x\n",
        "\n",
        "    def process_seqs(self, seqs):\n",
        "        \"\"\"\n",
        "        Process sequence for input into model\n",
        "        \"\"\"\n",
        "        seqs = [self.process_str(s) for s in seqs]\n",
        "        ids = self.tokenizer.batch_encode_plus(\n",
        "            seqs, add_special_tokens=True, pad_to_max_length=True)\n",
        "        input_ids = th.tensor(ids['input_ids']).to(self.device)\n",
        "        attn_mask = th.tensor(ids['attention_mask']).to(self.device)\n",
        "        return input_ids, attn_mask\n",
        "\n",
        "    def forward(self, sequences):\n",
        "        \"\"\"\n",
        "        Forward pass, outputting embeddings\n",
        "        \"\"\"\n",
        "        in_ids, attn_mask = self.process_seqs(sequences)\n",
        "        with th.no_grad():\n",
        "            embeddings = self.model(input_ids=in_ids,\n",
        "                                    attention_mask=attn_mask)[0]\n",
        "        return embeddings * attn_mask.unsqueeze(-1)\n",
        "    \n",
        "    def postprocess_embeddings(self, embeddings):\n",
        "        \"\"\"\n",
        "        Remove CLS, SEP, PAD tokens from output embedding.\n",
        "        \"\"\"\n",
        "        features = []\n",
        "        for i, emb in enumerate(embeddings):\n",
        "            seq_len = (attn_mask[i] == 1).sum()\n",
        "            features.append(emb[1:seq_len-1])\n",
        "        return features"
      ],
      "execution_count": 82,
      "outputs": []
    },
    {
      "cell_type": "code",
      "metadata": {
        "id": "pR8Hd1yssfMK"
      },
      "source": [
        "def count_params(model: nn.Module):\n",
        "    \"\"\"\n",
        "    Counts the number of trainable parameters in given model\n",
        "    \"\"\"\n",
        "    return sum(p.numel() for p in model.parameters() if p.requires_grad)"
      ],
      "execution_count": 83,
      "outputs": []
    },
    {
      "cell_type": "code",
      "metadata": {
        "id": "e3mGZ-iuhnI0"
      },
      "source": [
        "ppe = PretrainedProteinEmbed()"
      ],
      "execution_count": 84,
      "outputs": []
    },
    {
      "cell_type": "code",
      "metadata": {
        "id": "HAyWp-6orssw",
        "outputId": "7c327bcf-5f66-4f0a-a03f-52738285807c",
        "colab": {
          "base_uri": "https://localhost:8080/",
          "height": 0
        }
      },
      "source": [
        "# protein model is much larger, paramter-wise\n",
        "count_params(ppe) // count_params(mol_model)"
      ],
      "execution_count": 85,
      "outputs": [
        {
          "output_type": "execute_result",
          "data": {
            "text/plain": [
              "226"
            ]
          },
          "metadata": {
            "tags": []
          },
          "execution_count": 85
        }
      ]
    },
    {
      "cell_type": "markdown",
      "metadata": {
        "id": "OSIO_lQT-Dgf"
      },
      "source": [
        "테스팅 용으로 UniProt에서 EGFR sequence를 받아와 봅니다.\n",
        "\n",
        "https://www.uniprot.org/uniprot/P00533.fasta"
      ]
    },
    {
      "cell_type": "code",
      "metadata": {
        "id": "gkH1jZ8e9wSO"
      },
      "source": [
        "egfr = \"\"\"MRPSGTAGAALLALLAALCPASRALEEKKVCQGTSNKLTQLGTFEDHFLSLQRMFNNCEV\n",
        "VLGNLEITYVQRNYDLSFLKTIQEVAGYVLIALNTVERIPLENLQIIRGNMYYENSYALA\n",
        "VLSNYDANKTGLKELPMRNLQEILHGAVRFSNNPALCNVESIQWRDIVSSDFLSNMSMDF\n",
        "QNHLGSCQKCDPSCPNGSCWGAGEENCQKLTKIICAQQCSGRCRGKSPSDCCHNQCAAGC\n",
        "TGPRESDCLVCRKFRDEATCKDTCPPLMLYNPTTYQMDVNPEGKYSFGATCVKKCPRNYV\n",
        "VTDHGSCVRACGADSYEMEEDGVRKCKKCEGPCRKVCNGIGIGEFKDSLSINATNIKHFK\n",
        "NCTSISGDLHILPVAFRGDSFTHTPPLDPQELDILKTVKEITGFLLIQAWPENRTDLHAF\n",
        "ENLEIIRGRTKQHGQFSLAVVSLNITSLGLRSLKEISDGDVIISGNKNLCYANTINWKKL\n",
        "FGTSGQKTKIISNRGENSCKATGQVCHALCSPEGCWGPEPRDCVSCRNVSRGRECVDKCN\n",
        "LLEGEPREFVENSECIQCHPECLPQAMNITCTGRGPDNCIQCAHYIDGPHCVKTCPAGVM\n",
        "GENNTLVWKYADAGHVCHLCHPNCTYGCTGPGLEGCPTNGPKIPSIATGMVGALLLLLVV\n",
        "ALGIGLFMRRRHIVRKRTLRRLLQERELVEPLTPSGEAPNQALLRILKETEFKKIKVLGS\n",
        "GAFGTVYKGLWIPEGEKVKIPVAIKELREATSPKANKEILDEAYVMASVDNPHVCRLLGI\n",
        "CLTSTVQLITQLMPFGCLLDYVREHKDNIGSQYLLNWCVQIAKGMNYLEDRRLVHRDLAA\n",
        "RNVLVKTPQHVKITDFGLAKLLGAEEKEYHAEGGKVPIKWMALESILHRIYTHQSDVWSY\n",
        "GVTVWELMTFGSKPYDGIPASEISSILEKGERLPQPPICTIDVYMIMVKCWMIDADSRPK\n",
        "FRELIIEFSKMARDPQRYLVIQGDERMHLPSPTDSNFYRALMDEEDMDDVVDADEYLIPQ\n",
        "QGFFSSPSTSRTPLLSSLSATSNNSTVACIDRNGLQSCPIKEDSFLQRYSSDPTGALTED\n",
        "SIDDTFLPVPEYINQSVPKRPAGSVQNPVYHNQPLNPAPSRDPHYQDPHSTAVGNPEYLN\n",
        "TVQPTCVNSTFDSPAHWAQKGSHQISLDNPDYQQDFFPKEAKPNGIFKGSTAENAEYLRV\n",
        "APQSSEFIGA\"\"\""
      ],
      "execution_count": 86,
      "outputs": []
    },
    {
      "cell_type": "code",
      "metadata": {
        "id": "Yfu33nNq_GBe",
        "outputId": "7c2e81cc-1951-4b5c-9294-cb5d0f0057cd",
        "colab": {
          "base_uri": "https://localhost:8080/",
          "height": 154
        }
      },
      "source": [
        "ppe.process_str(egfr)"
      ],
      "execution_count": 87,
      "outputs": [
        {
          "output_type": "execute_result",
          "data": {
            "application/vnd.google.colaboratory.intrinsic+json": {
              "type": "string"
            },
            "text/plain": [
              "'M R P S G T A G A A L L A L L A A L C P A S R A L E E K K V C Q G T S N K L T Q L G T F E D H F L S L Q R M F N N C E V V L G N L E I T Y V Q R N Y D L S F L K T I Q E V A G Y V L I A L N T V E R I P L E N L Q I I R G N M Y Y E N S Y A L A V L S N Y D A N K T G L K E L P M R N L Q E I L H G A V R F S N N P A L C N V E S I Q W R D I V S S D F L S N M S M D F Q N H L G S C Q K C D P S C P N G S C W G A G E E N C Q K L T K I I C A Q Q C S G R C R G K S P S D C C H N Q C A A G C T G P R E S D C L V C R K F R D E A T C K D T C P P L M L Y N P T T Y Q M D V N P E G K Y S F G A T C V K K C P R N Y V V T D H G S C V R A C G A D S Y E M E E D G V R K C K K C E G P C R K V C N G I G I G E F K D S L S I N A T N I K H F K N C T S I S G D L H I L P V A F R G D S F T H T P P L D P Q E L D I L K T V K E I T G F L L I Q A W P E N R T D L H A F E N L E I I R G R T K Q H G Q F S L A V V S L N I T S L G L R S L K E I S D G D V I I S G N K N L C Y A N T I N W K K L F G T S G Q K T K I I S N R G E N S C K A T G Q V C H A L C S P E G C W G P E P R D C V S C R N V S R G R E C V D K C N L L E G E P R E F V E N S E C I Q C H P E C L P Q A M N I T C T G R G P D N C I Q C A H Y I D G P H C V K T C P A G V M G E N N T L V W K Y A D A G H V C H L C H P N C T Y G C T G P G L E G C P T N G P K I P S I A T G M V G A L L L L L V V A L G I G L F M R R R H I V R K R T L R R L L Q E R E L V E P L T P S G E A P N Q A L L R I L K E T E F K K I K V L G S G A F G T V Y K G L W I P E G E K V K I P V A I K E L R E A T S P K A N K E I L D E A Y V M A S V D N P H V C R L L G I C L T S T V Q L I T Q L M P F G C L L D Y V R E H K D N I G S Q Y L L N W C V Q I A K G M N Y L E D R R L V H R D L A A R N V L V K T P Q H V K I T D F G L A K L L G A E E K E Y H A E G G K V P I K W M A L E S I L H R I Y T H Q S D V W S Y G V T V W E L M T F G S K P Y D G I P A S E I S S I L E K G E R L P Q P P I C T I D V Y M I M V K C W M I D A D S R P K F R E L I I E F S K M A R D P Q R Y L V I Q G D E R M H L P S P T D S N F Y R A L M D E E D M D D V V D A D E Y L I P Q Q G F F S S P S T S R T P L L S S L S A T S N N S T V A C I D R N G L Q S C P I K E D S F L Q R Y S S D P T G A L T E D S I D D T F L P V P E Y I N Q S V P K R P A G S V Q N P V Y H N Q P L N P A P S R D P H Y Q D P H S T A V G N P E Y L N T V Q P T C V N S T F D S P A H W A Q K G S H Q I S L D N P D Y Q Q D F F P K E A K P N G I F K G S T A E N A E Y L R V A P Q S S E F I G A'"
            ]
          },
          "metadata": {
            "tags": []
          },
          "execution_count": 87
        }
      ]
    },
    {
      "cell_type": "code",
      "metadata": {
        "id": "NEpnJA8aicNl",
        "outputId": "e452868c-11f6-4e2e-b13a-5dc78472c089",
        "colab": {
          "base_uri": "https://localhost:8080/",
          "height": 0
        }
      },
      "source": [
        "ppe([egfr])"
      ],
      "execution_count": 88,
      "outputs": [
        {
          "output_type": "stream",
          "text": [
            "/usr/local/lib/python3.6/dist-packages/transformers/tokenization_utils_base.py:1944: FutureWarning: The `pad_to_max_length` argument is deprecated and will be removed in a future version, use `padding=True` or `padding='longest'` to pad to the longest sequence in the batch, or use `padding='max_length'` to pad to a max length. In this case, you can give a specific length with `max_length` (e.g. `max_length=45`) or leave max_length to None to pad to the maximal input size of the model (e.g. 512 for Bert).\n",
            "  FutureWarning,\n"
          ],
          "name": "stderr"
        },
        {
          "output_type": "execute_result",
          "data": {
            "text/plain": [
              "tensor([[[ 1.3019e-01,  6.0025e-02,  7.7961e-02,  ..., -9.4421e-02,\n",
              "           1.6033e-04, -9.5430e-03],\n",
              "         [ 4.5659e-02, -1.1708e-02, -1.4669e-01,  ...,  4.3669e-02,\n",
              "           6.0659e-02, -9.0526e-02],\n",
              "         [ 1.1839e-01,  7.6940e-02, -3.8128e-02,  ...,  9.2220e-02,\n",
              "          -1.3974e-01, -4.3242e-02],\n",
              "         ...,\n",
              "         [ 6.6020e-02, -3.2431e-02,  1.7804e-01,  ...,  1.6731e-01,\n",
              "          -9.9195e-02, -1.2446e-01],\n",
              "         [ 1.4298e-01,  4.4622e-02,  1.1772e-01,  ...,  1.3067e-01,\n",
              "          -6.2030e-02, -9.9651e-02],\n",
              "         [ 7.6950e-02, -4.3625e-02,  3.9496e-02,  ..., -7.2713e-02,\n",
              "          -4.4393e-02,  6.1550e-02]]], device='cuda:0')"
            ]
          },
          "metadata": {
            "tags": []
          },
          "execution_count": 88
        }
      ]
    },
    {
      "cell_type": "markdown",
      "metadata": {
        "id": "aFqxgBGGoBnu"
      },
      "source": [
        "### Homework\n",
        "\n",
        "- 본인 연구 관심있으신 단백질서열 embedding 진행해보시오\n"
      ]
    },
    {
      "cell_type": "markdown",
      "metadata": {
        "id": "2fciRIWpr8gE"
      },
      "source": [
        "지금까지 배운개념들 Review:\n",
        "\n",
        "1. Molecule을 SMILES로 부터 자유자제로 featurization\n",
        "2. Featurized molecular graph를 처리할 수 있는 GNN\n",
        "3. GNN의 output은 atom (node) level, molecule (graph) level 둘다 가능\n",
        "4. AA seq를 읽어들이는 Transformer\n",
        "5. Protein Transformer output 마찬가지로 aa단위, sequence 단위 \n",
        "\n",
        "# Chemical + Protein => Interaction\n",
        "\n",
        "chemical과 protein의 representation을 합쳐서 그들의 interaction을 예측하려면 어떤 접근이 가능할까?\n",
        "\n",
        "1. concat => MLP\n",
        "\n",
        "    <img src='https://github.com/hkmztrk/DeepDTA/raw/master/docs/figures/deepdta.PNG' height=200/>\n",
        "    \n",
        "    Ozturk et al., 2018\n",
        "\n",
        "2. embed to same space (w/ co-attention) => cosine distance\n",
        "\n",
        "    <img src='https://drive.google.com/uc?id=1RDD8Ny2zhX3Tp5FAUu8H0szZSU5J9zl6' height=300/>\n",
        "\n",
        "    Weng et al., 2019\n",
        "\n",
        "3. dual attention network\n",
        "\n",
        "    <img src='https://drive.google.com/uc?id=1y8SoFlmTvcBURyrG93ayM1P8_EA0Fj4Z' height=300 />\n",
        "\n",
        "    Nam et al., 2017\n",
        "\n",
        "4. ..."
      ]
    },
    {
      "cell_type": "markdown",
      "metadata": {
        "id": "qE9DTE6EnYO8"
      },
      "source": [
        "## Concat then MLP"
      ]
    },
    {
      "cell_type": "code",
      "metadata": {
        "id": "k3fTcfOGr9in"
      },
      "source": [
        "class ConcatInteraction(nn.Module):\n",
        "    def __init__(self, dim):\n",
        "        super().__init__()\n",
        "        inner_dim = dim // 2\n",
        "        self.layers = nn.Sequential(\n",
        "            nn.Linear(dim, inner_dim),\n",
        "            nn.BatchNorm1d(inner_dim),\n",
        "            nn.ReLU(),\n",
        "            nn.Linear(inner_dim, 1)\n",
        "        )\n",
        "    \n",
        "    def forward(self, c, p, op='mean'):\n",
        "        c_readout = readout_nodes(c, 'out', op=op)\n",
        "        p_readout = p.mean(-2)\n",
        "        return self.layers(th.cat([c_readout, p_readout], dim=-1))\n",
        "\n",
        "\n",
        "class DTIModel(nn.Module):\n",
        "    def __init__(self, mol_embed, prot_embed, interaction):\n",
        "        super().__init__()\n",
        "        self.mol_embedder = MolEmbWrapper(mol_embed, nget, eget)\n",
        "        self.prot_embedder = prot_embed\n",
        "        self.interaction = interaction\n",
        "\n",
        "    def forward(self, mol, prot, op='mean'):\n",
        "        m = self.mol_embedder(mol)\n",
        "        mol.ndata['out'] = m\n",
        "        p = self.prot_embedder(prot)\n",
        "\n",
        "        # interaction\n",
        "        interaction = self.interaction(mol, p)\n",
        "        return interaction"
      ],
      "execution_count": 89,
      "outputs": []
    },
    {
      "cell_type": "code",
      "metadata": {
        "id": "IJuvcfGNwfwY",
        "outputId": "63465d2f-7f94-4dd7-e8d5-c1d67a02eafa",
        "colab": {
          "base_uri": "https://localhost:8080/",
          "height": 0
        }
      },
      "source": [
        "concat_interaction = ConcatInteraction(300 + 1024)\n",
        "concat_interaction"
      ],
      "execution_count": 90,
      "outputs": [
        {
          "output_type": "execute_result",
          "data": {
            "text/plain": [
              "ConcatInteraction(\n",
              "  (layers): Sequential(\n",
              "    (0): Linear(in_features=1324, out_features=662, bias=True)\n",
              "    (1): BatchNorm1d(662, eps=1e-05, momentum=0.1, affine=True, track_running_stats=True)\n",
              "    (2): ReLU()\n",
              "    (3): Linear(in_features=662, out_features=1, bias=True)\n",
              "  )\n",
              ")"
            ]
          },
          "metadata": {
            "tags": []
          },
          "execution_count": 90
        }
      ]
    },
    {
      "cell_type": "code",
      "metadata": {
        "id": "Mt8xVEHmvqpr"
      },
      "source": [
        "dti_net = DTIModel(mol_model, ppe, concat_interaction).cuda()"
      ],
      "execution_count": 91,
      "outputs": []
    },
    {
      "cell_type": "code",
      "metadata": {
        "id": "nen6_d1bj0wq"
      },
      "source": [
        "mols = ex_batch[1].to('cuda:0')"
      ],
      "execution_count": 92,
      "outputs": []
    },
    {
      "cell_type": "code",
      "metadata": {
        "id": "wgmz8CzRlHeu",
        "outputId": "acae2ec3-caca-431e-889d-42a27226e568",
        "colab": {
          "base_uri": "https://localhost:8080/",
          "height": 0
        }
      },
      "source": [
        "dti_net(mols, [egfr] * 8)"
      ],
      "execution_count": 93,
      "outputs": [
        {
          "output_type": "stream",
          "text": [
            "/usr/local/lib/python3.6/dist-packages/transformers/tokenization_utils_base.py:1944: FutureWarning: The `pad_to_max_length` argument is deprecated and will be removed in a future version, use `padding=True` or `padding='longest'` to pad to the longest sequence in the batch, or use `padding='max_length'` to pad to a max length. In this case, you can give a specific length with `max_length` (e.g. `max_length=45`) or leave max_length to None to pad to the maximal input size of the model (e.g. 512 for Bert).\n",
            "  FutureWarning,\n"
          ],
          "name": "stderr"
        },
        {
          "output_type": "execute_result",
          "data": {
            "text/plain": [
              "tensor([[ 0.0995],\n",
              "        [-0.1107],\n",
              "        [-0.4438],\n",
              "        [ 0.3488],\n",
              "        [ 0.1236],\n",
              "        [-0.0561],\n",
              "        [-0.5662],\n",
              "        [ 0.0548]], device='cuda:0', grad_fn=<AddmmBackward>)"
            ]
          },
          "metadata": {
            "tags": []
          },
          "execution_count": 93
        }
      ]
    },
    {
      "cell_type": "markdown",
      "metadata": {
        "id": "dm8Gu61-W6E1"
      },
      "source": [
        "## Attention Pooling\n",
        "\n",
        "Task: 두 개 (길이가 다른) input이 주어질 시, 서로간의 상호관계를 활용하여 각 input의 pooled representation을 만들 수 있을까?\n",
        "\n",
        "\"Q\"이 주어질 때 여러가지 candidate 답변 중 가장 적합한 답변을 찾는 과제 ~= virtual screening?\n",
        "\n",
        "<img src='https://drive.google.com/uc?id=1rgpFRS9N4c52PQ2TIPEhkPQAKVjPJDy1' height=500/>\n",
        "\n",
        "dos Santos et al., 2016"
      ]
    },
    {
      "cell_type": "code",
      "metadata": {
        "id": "jpHQW3BvXw31"
      },
      "source": [
        "Q = th.randn(17, 1024)\n",
        "A = th.randn(8, 300)\n",
        "U = th.randn(1024, 300)\n",
        "\n",
        "scaling = (300 * 1024) ** 0.5"
      ],
      "execution_count": 94,
      "outputs": []
    },
    {
      "cell_type": "code",
      "metadata": {
        "id": "H4HhomoMX6vO"
      },
      "source": [
        "G = th.tanh((Q @ U) @ A.T)\n",
        "Gs = th.tanh(((Q @ U) @ A.T / scaling))"
      ],
      "execution_count": 95,
      "outputs": []
    },
    {
      "cell_type": "markdown",
      "metadata": {
        "id": "EeKm4TwoBVS4"
      },
      "source": [
        "Why use scaling factor?"
      ]
    },
    {
      "cell_type": "code",
      "metadata": {
        "id": "6jBvd5vfazbQ",
        "outputId": "9fe65799-cc7a-4e88-a0f5-3e942337c97f",
        "colab": {
          "base_uri": "https://localhost:8080/",
          "height": 286
        }
      },
      "source": [
        "sns.heatmap(G)"
      ],
      "execution_count": 253,
      "outputs": [
        {
          "output_type": "execute_result",
          "data": {
            "text/plain": [
              "<matplotlib.axes._subplots.AxesSubplot at 0x7f3855d6c5f8>"
            ]
          },
          "metadata": {
            "tags": []
          },
          "execution_count": 253
        },
        {
          "output_type": "display_data",
          "data": {
            "image/png": "[encoded data removed]",
            "text/plain": [
              "<Figure size 432x288 with 2 Axes>"
            ]
          },
          "metadata": {
            "tags": [],
            "needs_background": "light"
          }
        }
      ]
    },
    {
      "cell_type": "code",
      "metadata": {
        "id": "_61ZU4qYbMFP",
        "outputId": "e57d888d-fc14-4611-91fd-7cd554a6702f",
        "colab": {
          "base_uri": "https://localhost:8080/",
          "height": 282
        }
      },
      "source": [
        "sns.heatmap(Gs)"
      ],
      "execution_count": 252,
      "outputs": [
        {
          "output_type": "execute_result",
          "data": {
            "text/plain": [
              "<matplotlib.axes._subplots.AxesSubplot at 0x7f3855540c18>"
            ]
          },
          "metadata": {
            "tags": []
          },
          "execution_count": 252
        },
        {
          "output_type": "display_data",
          "data": {
            "image/png": "[encoded data removed]",
            "text/plain": [
              "<Figure size 432x288 with 2 Axes>"
            ]
          },
          "metadata": {
            "tags": [],
            "needs_background": "light"
          }
        }
      ]
    },
    {
      "cell_type": "code",
      "metadata": {
        "id": "gswW_CBuXmOK"
      },
      "source": [
        "class AttentionPooling(nn.Module):\n",
        "    def __init__(self, q_dim, a_dim):\n",
        "        super().__init__()\n",
        "        self.U = nn.Parameter(th.randn(q_dim, a_dim))\n",
        "        self.scaling = (q_dim * a_dim) ** 0.5\n",
        "\n",
        "    def forward(self, q, a):\n",
        "        G = th.einsum('...nd,dh,...mh->...nm', q, self.U, a)\n",
        "        G = th.tanh(G / scaling)\n",
        "\n",
        "        q_weights = th.softmax(G.max(-1)[0], -1)\n",
        "        a_weights = th.softmax(G.max(-2)[0], -1)\n",
        "\n",
        "        Q = th.einsum('...n,...nd->...d', q_weights, q)\n",
        "        A = th.einsum('...n,...nd->...d', a_weights, a)\n",
        "\n",
        "        return Q, A"
      ],
      "execution_count": 98,
      "outputs": []
    },
    {
      "cell_type": "code",
      "metadata": {
        "id": "9w_ngqKSdiB1",
        "outputId": "b0079214-d065-4efb-b5dd-99a7e8e7263a",
        "colab": {
          "base_uri": "https://localhost:8080/",
          "height": 0
        }
      },
      "source": [
        "ap = AttentionPooling(300, 1024)\n",
        "\n",
        "q = th.randn(3, 10, 300)\n",
        "a = th.randn(3, 15, 1024)\n",
        "Q, A = ap(q, a)\n",
        "\n",
        "Q.shape, A.shape"
      ],
      "execution_count": 99,
      "outputs": [
        {
          "output_type": "execute_result",
          "data": {
            "text/plain": [
              "(torch.Size([3, 300]), torch.Size([3, 1024]))"
            ]
          },
          "metadata": {
            "tags": []
          },
          "execution_count": 99
        }
      ]
    },
    {
      "cell_type": "markdown",
      "metadata": {
        "id": "utxtXtlKjjTk"
      },
      "source": [
        "## Siamese Net\n",
        "\n",
        "<img src='https://drive.google.com/uc?id=1kHQuJj3Z9U9Yqs_aebAYnqA8Io8dh-D4' height=300/>\n",
        "\n",
        "Gao et al., 2018"
      ]
    },
    {
      "cell_type": "code",
      "metadata": {
        "id": "An-pj-VPhywB"
      },
      "source": [
        "class AttnPoolSiamese(nn.Module):\n",
        "    \"\"\"\n",
        "    Attentive pooling for mol/prot followed by MLP projection and cosine \n",
        "    similarity measure.\n",
        "    \"\"\"\n",
        "\n",
        "    def __init__(self, q_dim, a_dim, dim):\n",
        "        super().__init__()\n",
        "        self.attn_pool = AttentionPooling(q_dim, a_dim)\n",
        "        self.q_mlp = nn.Sequential(nn.Linear(q_dim, dim),\n",
        "                                   nn.ReLU(),\n",
        "                                   nn.Linear(dim, dim))\n",
        "        self.a_mlp = nn.Sequential(nn.Linear(a_dim, dim),\n",
        "                                   nn.ReLU(),\n",
        "                                   nn.Linear(dim, dim))\n",
        "        self.similarity = nn.CosineSimilarity(dim=-1)\n",
        "\n",
        "    def forward(self, mol, prot):\n",
        "        # batching and padding of mol\n",
        "        splits = th.split(mol.ndata['out'], \n",
        "                          tuple(mols.batch_num_nodes().cpu().numpy()),\n",
        "                          dim=0)\n",
        "        batched = nn.utils.rnn.pad_sequence(splits, batch_first=True)\n",
        "\n",
        "        # co-attn => cosine-sim\n",
        "        Q, A = self.attn_pool(batched, prot)\n",
        "        Q = self.q_mlp(Q)\n",
        "        A = self.a_mlp(A)\n",
        "        return self.similarity(Q, A)"
      ],
      "execution_count": 146,
      "outputs": []
    },
    {
      "cell_type": "code",
      "metadata": {
        "id": "BJkaChDdgj_-"
      },
      "source": [
        "apsim = AttnPoolSiamese(300, 1024, 512)"
      ],
      "execution_count": 147,
      "outputs": []
    },
    {
      "cell_type": "code",
      "metadata": {
        "id": "BfAIQiAV01o-"
      },
      "source": [
        "dti_w_siam = DTIModel(mol_model, ppe, apsim).cuda()"
      ],
      "execution_count": 148,
      "outputs": []
    },
    {
      "cell_type": "code",
      "metadata": {
        "id": "B45zxs7O4Qo6",
        "outputId": "79002ed5-9978-4966-902a-41b793e5faf9",
        "colab": {
          "base_uri": "https://localhost:8080/",
          "height": 0
        }
      },
      "source": [
        "out = dti_w_siam(mols, [egfr] * 8)\n",
        "out"
      ],
      "execution_count": 149,
      "outputs": [
        {
          "output_type": "stream",
          "text": [
            "/usr/local/lib/python3.6/dist-packages/transformers/tokenization_utils_base.py:1944: FutureWarning: The `pad_to_max_length` argument is deprecated and will be removed in a future version, use `padding=True` or `padding='longest'` to pad to the longest sequence in the batch, or use `padding='max_length'` to pad to a max length. In this case, you can give a specific length with `max_length` (e.g. `max_length=45`) or leave max_length to None to pad to the maximal input size of the model (e.g. 512 for Bert).\n",
            "  FutureWarning,\n"
          ],
          "name": "stderr"
        },
        {
          "output_type": "execute_result",
          "data": {
            "text/plain": [
              "tensor([ 0.0151,  0.0175,  0.0282,  0.0308,  0.0192, -0.0093,  0.0534,  0.0562],\n",
              "       device='cuda:0', grad_fn=<DivBackward0>)"
            ]
          },
          "metadata": {
            "tags": []
          },
          "execution_count": 149
        }
      ]
    }
  ]
}