{
  "nbformat": 4,
  "nbformat_minor": 0,
  "metadata": {
    "colab": {
      "name": "knowledge_based_dr.ipynb",
      "provenance": [],
      "collapsed_sections": [],
      "toc_visible": true
    },
    "kernelspec": {
      "name": "python3",
      "display_name": "Python 3"
    }
  },
  "cells": [
    {
      "cell_type": "markdown",
      "metadata": {
        "id": "vUnxi-EV-p8l"
      },
      "source": [
        "Author : Erkhembayar J.\n",
        "\n",
        "Purpose : Advanced Training for AI Drug Discovery (Educational Purpose)\n",
        "\n",
        "Link :\n",
        "\n",
        "Korea AI Center for Drug Discovery and Development (KAICD) 2020"
      ]
    },
    {
      "cell_type": "markdown",
      "metadata": {
        "id": "055Pln7BHI9B"
      },
      "source": [
        "# **Coding Session Environment Setting**\n",
        "---"
      ]
    },
    {
      "cell_type": "code",
      "metadata": {
        "id": "XDvpGnkAHK9e",
        "outputId": "4c48a3d4-9997-4f45-e771-bfaaf1c09340",
        "colab": {
          "base_uri": "https://localhost:8080/"
        }
      },
      "source": [
        "!pip install dgl==0.4.3\n",
        "!pip install dglke"
      ],
      "execution_count": null,
      "outputs": [
        {
          "output_type": "stream",
          "text": [
            "Collecting dgl==0.4.3\n",
            "\u001b[?25l  Downloading https://files.pythonhosted.org/packages/9f/07/978ee25929b35e1e9c8165407683e3f4f1565a75f699a6da7cb48bf492d8/dgl-0.4.3-cp36-cp36m-manylinux1_x86_64.whl (3.0MB)\n",
            "\u001b[K     |████████████████████████████████| 3.0MB 2.8MB/s \n",
            "\u001b[?25hRequirement already satisfied: scipy>=1.1.0 in /usr/local/lib/python3.6/dist-packages (from dgl==0.4.3) (1.4.1)\n",
            "Requirement already satisfied: numpy>=1.14.0 in /usr/local/lib/python3.6/dist-packages (from dgl==0.4.3) (1.18.5)\n",
            "Requirement already satisfied: networkx>=2.1 in /usr/local/lib/python3.6/dist-packages (from dgl==0.4.3) (2.5)\n",
            "Requirement already satisfied: requests>=2.19.0 in /usr/local/lib/python3.6/dist-packages (from dgl==0.4.3) (2.23.0)\n",
            "Requirement already satisfied: decorator>=4.3.0 in /usr/local/lib/python3.6/dist-packages (from networkx>=2.1->dgl==0.4.3) (4.4.2)\n",
            "Requirement already satisfied: chardet<4,>=3.0.2 in /usr/local/lib/python3.6/dist-packages (from requests>=2.19.0->dgl==0.4.3) (3.0.4)\n",
            "Requirement already satisfied: certifi>=2017.4.17 in /usr/local/lib/python3.6/dist-packages (from requests>=2.19.0->dgl==0.4.3) (2020.6.20)\n",
            "Requirement already satisfied: idna<3,>=2.5 in /usr/local/lib/python3.6/dist-packages (from requests>=2.19.0->dgl==0.4.3) (2.10)\n",
            "Requirement already satisfied: urllib3!=1.25.0,!=1.25.1,<1.26,>=1.21.1 in /usr/local/lib/python3.6/dist-packages (from requests>=2.19.0->dgl==0.4.3) (1.24.3)\n",
            "Installing collected packages: dgl\n",
            "Successfully installed dgl-0.4.3\n",
            "Collecting dglke\n",
            "\u001b[?25l  Downloading https://files.pythonhosted.org/packages/06/24/3a0398e06bf1bf0b367ee5388a3643174361b7732a73d1385488be63ffb9/dglke-0.1.1-py3-none-any.whl (68kB)\n",
            "\u001b[K     |████████████████████████████████| 71kB 2.0MB/s \n",
            "\u001b[?25hRequirement already satisfied: numpy in /usr/local/lib/python3.6/dist-packages (from dglke) (1.18.5)\n",
            "Requirement already satisfied: setuptools in /usr/local/lib/python3.6/dist-packages (from dglke) (50.3.2)\n",
            "Installing collected packages: dglke\n",
            "Successfully installed dglke-0.1.1\n"
          ],
          "name": "stdout"
        }
      ]
    },
    {
      "cell_type": "markdown",
      "metadata": {
        "id": "bZ-QUCbnFHdD"
      },
      "source": [
        "# **WHAT WILL YOU LEARN?**"
      ]
    },
    {
      "cell_type": "markdown",
      "metadata": {
        "id": "mIVGCf8R-oGC"
      },
      "source": [
        ""
      ]
    },
    {
      "cell_type": "markdown",
      "metadata": {
        "id": "oFWXOFZtFYE6"
      },
      "source": [
        "<p align=\"center\">\n",
        "  <img src=\"https://drive.google.com/uc?id=1mQZ0EwwEL_ioYLUpuvnw02E4CLe6jM-Y\" />\n",
        "</p>\n"
      ]
    },
    {
      "cell_type": "markdown",
      "metadata": {
        "id": "K_6dsIUAgRkN"
      },
      "source": [
        ""
      ]
    },
    {
      "cell_type": "markdown",
      "metadata": {
        "id": "Q8sw7oUcm_nZ"
      },
      "source": [
        "# 1) **UNDERSTANDING KNOWLEDGE GRAPH**"
      ]
    },
    {
      "cell_type": "markdown",
      "metadata": {
        "id": "K5QqDzgunNAL"
      },
      "source": [
        "## **Data ETL (Extraction, Transform, Load)**\n",
        "----"
      ]
    },
    {
      "cell_type": "markdown",
      "metadata": {
        "id": "8lIVVO_6nE2B"
      },
      "source": [
        "### Download DGL-KE DR Knowledge Graph Database (DRKG)\n",
        "\n",
        "\n",
        "\n"
      ]
    },
    {
      "cell_type": "code",
      "metadata": {
        "id": "c-aqwG1gfVv8",
        "outputId": "abf33588-1193-46de-b426-1f135049aa8e",
        "colab": {
          "base_uri": "https://localhost:8080/"
        }
      },
      "source": [
        "!wget https://dgl-data.s3-us-west-2.amazonaws.com/dataset/DRKG/drkg.tar.gz"
      ],
      "execution_count": null,
      "outputs": [
        {
          "output_type": "stream",
          "text": [
            "--2020-11-10 21:08:16--  https://dgl-data.s3-us-west-2.amazonaws.com/dataset/DRKG/drkg.tar.gz\n",
            "Resolving dgl-data.s3-us-west-2.amazonaws.com (dgl-data.s3-us-west-2.amazonaws.com)... 52.218.152.25\n",
            "Connecting to dgl-data.s3-us-west-2.amazonaws.com (dgl-data.s3-us-west-2.amazonaws.com)|52.218.152.25|:443... connected.\n",
            "HTTP request sent, awaiting response... 200 OK\n",
            "Length: 216650245 (207M) [application/x-tar]\n",
            "Saving to: ‘drkg.tar.gz’\n",
            "\n",
            "drkg.tar.gz         100%[===================>] 206.61M  34.3MB/s    in 6.6s    \n",
            "\n",
            "2020-11-10 21:08:24 (31.1 MB/s) - ‘drkg.tar.gz’ saved [216650245/216650245]\n",
            "\n"
          ],
          "name": "stdout"
        }
      ]
    },
    {
      "cell_type": "code",
      "metadata": {
        "id": "rc0yHOVDfct8",
        "outputId": "01dabb95-b152-4fa9-e562-74c73fafb297",
        "colab": {
          "base_uri": "https://localhost:8080/"
        }
      },
      "source": [
        "!ls"
      ],
      "execution_count": null,
      "outputs": [
        {
          "output_type": "stream",
          "text": [
            "drkg.tar.gz  sample_data\n"
          ],
          "name": "stdout"
        }
      ]
    },
    {
      "cell_type": "code",
      "metadata": {
        "id": "2EOxd7n5ff07",
        "outputId": "a3816821-7cc4-4db5-a8ff-0296b45518c8",
        "colab": {
          "base_uri": "https://localhost:8080/"
        }
      },
      "source": [
        "!tar xvzf drkg.tar.gz"
      ],
      "execution_count": null,
      "outputs": [
        {
          "output_type": "stream",
          "text": [
            "._drkg.tsv\n",
            "drkg.tsv\n",
            "._embed\n",
            "embed/\n",
            "embed/DRKG_TransE_l2_relation.npy\n",
            "embed/._relations.tsv\n",
            "embed/relations.tsv\n",
            "embed/._entities.tsv\n",
            "embed/entities.tsv\n",
            "embed/Readme.md\n",
            "embed/mol_edgepred.npy\n",
            "embed/mol_infomax.npy\n",
            "embed/mol_masking.npy\n",
            "embed/mol_contextpred.npy\n",
            "embed/DRKG_TransE_l2_entity.npy\n",
            "._entity2src.tsv\n",
            "entity2src.tsv\n",
            "._relation_glossary.tsv\n",
            "relation_glossary.tsv\n"
          ],
          "name": "stdout"
        }
      ]
    },
    {
      "cell_type": "code",
      "metadata": {
        "id": "YKO4tDvJflc-",
        "outputId": "a9d40383-84d4-49c9-9212-686ab7ebf6a2",
        "colab": {
          "base_uri": "https://localhost:8080/"
        }
      },
      "source": [
        "!ls"
      ],
      "execution_count": null,
      "outputs": [
        {
          "output_type": "stream",
          "text": [
            "drkg.tar.gz  embed\t     relation_glossary.tsv\n",
            "drkg.tsv     entity2src.tsv  sample_data\n"
          ],
          "name": "stdout"
        }
      ]
    },
    {
      "cell_type": "markdown",
      "metadata": {
        "id": "rur3PfTQnw86"
      },
      "source": [
        "## About DRKG\n",
        "---\n",
        "* released by amazon (Amazon Shanhai AI Lab)\n",
        "* 97,238 entities (compound , target, disease etc.)\n",
        "* 5,874,261 triplets\n",
        "* 107 types of relations"
      ]
    },
    {
      "cell_type": "markdown",
      "metadata": {
        "id": "rv0qtt5YgPVX"
      },
      "source": [
        "<p align=\"center\">\n",
        "  <img src=\"https://drive.google.com/uc?id=1_g9VNC1k8AXkaD6bIn0yIpV5Qh8HSse0\" />\n",
        "</p>\n",
        "\n",
        "Paper link: [DGL-KE](https://)"
      ]
    },
    {
      "cell_type": "code",
      "metadata": {
        "id": "KhEVyKqMmylI",
        "outputId": "acd5a878-a3fe-4d22-9b63-37ad17d56a69",
        "colab": {
          "base_uri": "https://localhost:8080/"
        }
      },
      "source": [
        "!ls"
      ],
      "execution_count": null,
      "outputs": [
        {
          "output_type": "stream",
          "text": [
            "drkg.tar.gz  embed\t     relation_glossary.tsv\n",
            "drkg.tsv     entity2src.tsv  sample_data\n"
          ],
          "name": "stdout"
        }
      ]
    },
    {
      "cell_type": "markdown",
      "metadata": {
        "id": "CmgihJkTlwH2"
      },
      "source": [
        "<p align=\"center\">\n",
        "  <h1>Knowledge Graph<h1>\n",
        "  <img src=\"https://drive.google.com/uc?id=1lkzFHJJqMxpRLilatDgsildFRMg29N26\" />\n",
        "</p>\n",
        "---\n",
        "\n",
        "* CONCEPTS\n",
        "    * **TRIPLETS** (ENTITY--RELATION---ENTITY) => ${h, r, t}$\n",
        "        * Each triplet contains one connection (relation)\n",
        "    * **RELATIONSHIP**\n",
        "        * ontology of the KG\n"
      ]
    },
    {
      "cell_type": "markdown",
      "metadata": {
        "id": "3QFTcBcwo7-R"
      },
      "source": [
        "## How to read (understand) biomedical knowledge graphs ?"
      ]
    },
    {
      "cell_type": "markdown",
      "metadata": {
        "id": "4pvL6AXzhuS6"
      },
      "source": [
        ""
      ]
    },
    {
      "cell_type": "code",
      "metadata": {
        "id": "UCKTiZNxgLX6",
        "outputId": "d8bef671-b0e4-4d7e-c788-6949273078b7",
        "colab": {
          "base_uri": "https://localhost:8080/"
        }
      },
      "source": [
        "from enum import Enum, unique\n",
        "\n",
        "## Define Triplet\n",
        "\n",
        "@unique\n",
        "class TripletNames(Enum):\n",
        "\n",
        "    HEAD = 'HEAD'\n",
        "    RELATION = 'RELATION'\n",
        "    TAIL = 'TAIL'\n",
        "\n",
        "col_names = [name.value for name in TripletNames]\n",
        "col_names"
      ],
      "execution_count": null,
      "outputs": [
        {
          "output_type": "execute_result",
          "data": {
            "text/plain": [
              "['HEAD', 'RELATION', 'TAIL']"
            ]
          },
          "metadata": {
            "tags": []
          },
          "execution_count": 9
        }
      ]
    },
    {
      "cell_type": "code",
      "metadata": {
        "id": "5oY68whvjZ_X",
        "outputId": "45a3b0c4-04bb-45c6-b6e5-b8b4165fdd74",
        "colab": {
          "base_uri": "https://localhost:8080/",
          "height": 35
        }
      },
      "source": [
        "TripletNames.RELATION.value"
      ],
      "execution_count": null,
      "outputs": [
        {
          "output_type": "execute_result",
          "data": {
            "application/vnd.google.colaboratory.intrinsic+json": {
              "type": "string"
            },
            "text/plain": [
              "'RELATION'"
            ]
          },
          "metadata": {
            "tags": []
          },
          "execution_count": 10
        }
      ]
    },
    {
      "cell_type": "code",
      "metadata": {
        "id": "OC8lE64Pio1y",
        "outputId": "fa8f3e56-c9f3-4c33-cb01-1c31e64faebc",
        "colab": {
          "base_uri": "https://localhost:8080/"
        }
      },
      "source": [
        "!ls"
      ],
      "execution_count": null,
      "outputs": [
        {
          "output_type": "stream",
          "text": [
            "drkg.tar.gz  embed\t     relation_glossary.tsv\n",
            "drkg.tsv     entity2src.tsv  sample_data\n"
          ],
          "name": "stdout"
        }
      ]
    },
    {
      "cell_type": "code",
      "metadata": {
        "id": "PHO5RnbPfoVI"
      },
      "source": [
        "import pandas as pd \n",
        "\n",
        "_file = 'drkg.tsv'\n",
        "_df = pd.read_csv('drkg.tsv', sep='\\t', names= col_names)\n"
      ],
      "execution_count": null,
      "outputs": []
    },
    {
      "cell_type": "code",
      "metadata": {
        "id": "cVW5_1bwf89N",
        "outputId": "cce0acaa-f7c3-4cfb-d227-f58e5dbc6f0e",
        "colab": {
          "base_uri": "https://localhost:8080/",
          "height": 204
        }
      },
      "source": [
        "_df.head()"
      ],
      "execution_count": null,
      "outputs": [
        {
          "output_type": "execute_result",
          "data": {
            "text/html": [
              "<div>\n",
              "<style scoped>\n",
              "    .dataframe tbody tr th:only-of-type {\n",
              "        vertical-align: middle;\n",
              "    }\n",
              "\n",
              "    .dataframe tbody tr th {\n",
              "        vertical-align: top;\n",
              "    }\n",
              "\n",
              "    .dataframe thead th {\n",
              "        text-align: right;\n",
              "    }\n",
              "</style>\n",
              "<table border=\"1\" class=\"dataframe\">\n",
              "  <thead>\n",
              "    <tr style=\"text-align: right;\">\n",
              "      <th></th>\n",
              "      <th>HEAD</th>\n",
              "      <th>RELATION</th>\n",
              "      <th>TAIL</th>\n",
              "    </tr>\n",
              "  </thead>\n",
              "  <tbody>\n",
              "    <tr>\n",
              "      <th>0</th>\n",
              "      <td>Gene::2157</td>\n",
              "      <td>bioarx::HumGenHumGen:Gene:Gene</td>\n",
              "      <td>Gene::2157</td>\n",
              "    </tr>\n",
              "    <tr>\n",
              "      <th>1</th>\n",
              "      <td>Gene::2157</td>\n",
              "      <td>bioarx::HumGenHumGen:Gene:Gene</td>\n",
              "      <td>Gene::5264</td>\n",
              "    </tr>\n",
              "    <tr>\n",
              "      <th>2</th>\n",
              "      <td>Gene::2157</td>\n",
              "      <td>bioarx::HumGenHumGen:Gene:Gene</td>\n",
              "      <td>Gene::2158</td>\n",
              "    </tr>\n",
              "    <tr>\n",
              "      <th>3</th>\n",
              "      <td>Gene::2157</td>\n",
              "      <td>bioarx::HumGenHumGen:Gene:Gene</td>\n",
              "      <td>Gene::3309</td>\n",
              "    </tr>\n",
              "    <tr>\n",
              "      <th>4</th>\n",
              "      <td>Gene::2157</td>\n",
              "      <td>bioarx::HumGenHumGen:Gene:Gene</td>\n",
              "      <td>Gene::28912</td>\n",
              "    </tr>\n",
              "  </tbody>\n",
              "</table>\n",
              "</div>"
            ],
            "text/plain": [
              "         HEAD                        RELATION         TAIL\n",
              "0  Gene::2157  bioarx::HumGenHumGen:Gene:Gene   Gene::2157\n",
              "1  Gene::2157  bioarx::HumGenHumGen:Gene:Gene   Gene::5264\n",
              "2  Gene::2157  bioarx::HumGenHumGen:Gene:Gene   Gene::2158\n",
              "3  Gene::2157  bioarx::HumGenHumGen:Gene:Gene   Gene::3309\n",
              "4  Gene::2157  bioarx::HumGenHumGen:Gene:Gene  Gene::28912"
            ]
          },
          "metadata": {
            "tags": []
          },
          "execution_count": 13
        }
      ]
    },
    {
      "cell_type": "markdown",
      "metadata": {
        "id": "f72LkUbSj_nm"
      },
      "source": [
        "### **TRIPLETs**"
      ]
    },
    {
      "cell_type": "markdown",
      "metadata": {
        "id": "2oEhteW3kFPe"
      },
      "source": [
        "<p align=\"center\">\n",
        "  <img src=\"https://drive.google.com/uc?id=1FCJRiCU-kGmf3BTwZQZyhLggO-7JgXKK\" />\n",
        "</p>"
      ]
    },
    {
      "cell_type": "code",
      "metadata": {
        "id": "TZcNC-pZgFXW",
        "outputId": "55ec66da-e42a-4cf0-cb59-bfeeaf608678",
        "colab": {
          "base_uri": "https://localhost:8080/"
        }
      },
      "source": [
        "# number of triplets and relationships in training Knowledge Graph\n",
        "print(f'# of triplets: {_df.shape[0]}')\n",
        "print(f'# of relation: {len(_df[TripletNames.RELATION.value].unique())}')\n"
      ],
      "execution_count": null,
      "outputs": [
        {
          "output_type": "stream",
          "text": [
            "# of triplets: 5874261\n",
            "# of relation: 107\n"
          ],
          "name": "stdout"
        }
      ]
    },
    {
      "cell_type": "markdown",
      "metadata": {
        "id": "-4jeduG7mfsP"
      },
      "source": [
        "### **RELATIONs**\n",
        "* Relation (ontologies) represent the backbone of the formal semantics of a knowledge graph.\n",
        "\n"
      ]
    },
    {
      "cell_type": "code",
      "metadata": {
        "id": "JIDMkIcbr3Bl",
        "outputId": "5d6a743b-9031-4876-b434-7c1694e485e2",
        "colab": {
          "base_uri": "https://localhost:8080/"
        }
      },
      "source": [
        "relation_types = _df[TripletNames.RELATION.value].unique()\n",
        "relation_types"
      ],
      "execution_count": null,
      "outputs": [
        {
          "output_type": "execute_result",
          "data": {
            "text/plain": [
              "array(['bioarx::HumGenHumGen:Gene:Gene', 'bioarx::VirGenHumGen:Gene:Gene',\n",
              "       'bioarx::DrugVirGen:Compound:Gene',\n",
              "       'bioarx::DrugHumGen:Compound:Gene',\n",
              "       'bioarx::Covid2_acc_host_gene::Disease:Gene',\n",
              "       'bioarx::Coronavirus_ass_host_gene::Disease:Gene',\n",
              "       'DGIDB::INHIBITOR::Gene:Compound',\n",
              "       'DGIDB::ANTAGONIST::Gene:Compound', 'DGIDB::OTHER::Gene:Compound',\n",
              "       'DGIDB::AGONIST::Gene:Compound', 'DGIDB::BINDER::Gene:Compound',\n",
              "       'DGIDB::MODULATOR::Gene:Compound', 'DGIDB::BLOCKER::Gene:Compound',\n",
              "       'DGIDB::CHANNEL BLOCKER::Gene:Compound',\n",
              "       'DGIDB::ANTIBODY::Gene:Compound',\n",
              "       'DGIDB::POSITIVE ALLOSTERIC MODULATOR::Gene:Compound',\n",
              "       'DGIDB::ALLOSTERIC MODULATOR::Gene:Compound',\n",
              "       'DGIDB::ACTIVATOR::Gene:Compound',\n",
              "       'DGIDB::PARTIAL AGONIST::Gene:Compound',\n",
              "       'DRUGBANK::x-atc::Compound:Atc',\n",
              "       'DRUGBANK::ddi-interactor-in::Compound:Compound',\n",
              "       'DRUGBANK::target::Compound:Gene',\n",
              "       'DRUGBANK::enzyme::Compound:Gene',\n",
              "       'DRUGBANK::carrier::Compound:Gene',\n",
              "       'DRUGBANK::treats::Compound:Disease', 'GNBR::E::Compound:Gene',\n",
              "       'GNBR::A+::Compound:Gene', 'GNBR::N::Compound:Gene',\n",
              "       'GNBR::K::Compound:Gene', 'GNBR::A-::Compound:Gene',\n",
              "       'GNBR::E+::Compound:Gene', 'GNBR::B::Compound:Gene',\n",
              "       'GNBR::E-::Compound:Gene', 'GNBR::O::Compound:Gene',\n",
              "       'GNBR::Z::Compound:Gene', 'GNBR::T::Compound:Disease',\n",
              "       'GNBR::C::Compound:Disease', 'GNBR::Sa::Compound:Disease',\n",
              "       'GNBR::Pa::Compound:Disease', 'GNBR::Mp::Compound:Disease',\n",
              "       'GNBR::Pr::Compound:Disease', 'GNBR::J::Compound:Disease',\n",
              "       'GNBR::L::Gene:Disease', 'GNBR::U::Gene:Disease',\n",
              "       'GNBR::Y::Gene:Disease', 'GNBR::J::Gene:Disease',\n",
              "       'GNBR::Te::Gene:Disease', 'GNBR::Md::Gene:Disease',\n",
              "       'GNBR::G::Gene:Disease', 'GNBR::D::Gene:Disease',\n",
              "       'GNBR::X::Gene:Disease', 'GNBR::Ud::Gene:Disease',\n",
              "       'GNBR::V+::Gene:Gene', 'GNBR::Q::Gene:Gene', 'GNBR::Rg::Gene:Gene',\n",
              "       'GNBR::B::Gene:Gene', 'GNBR::I::Gene:Gene', 'GNBR::E+::Gene:Gene',\n",
              "       'GNBR::H::Gene:Gene', 'GNBR::W::Gene:Gene', 'GNBR::E::Gene:Gene',\n",
              "       'GNBR::in_tax::Gene:Tax',\n",
              "       'Hetionet::GpBP::Gene:Biological Process',\n",
              "       'Hetionet::GiG::Gene:Gene', 'Hetionet::CrC::Compound:Compound',\n",
              "       'Hetionet::DdG::Disease:Gene', 'Hetionet::DpS::Disease:Symptom',\n",
              "       'Hetionet::DlA::Disease:Anatomy',\n",
              "       'Hetionet::CtD::Compound:Disease', 'Hetionet::CbG::Compound:Gene',\n",
              "       'Hetionet::CuG::Compound:Gene', 'Hetionet::DrD::Disease:Disease',\n",
              "       'Hetionet::DaG::Disease:Gene', 'Hetionet::CpD::Compound:Disease',\n",
              "       'Hetionet::AdG::Anatomy:Gene', 'Hetionet::AuG::Anatomy:Gene',\n",
              "       'Hetionet::GcG::Gene:Gene',\n",
              "       'Hetionet::GpMF::Gene:Molecular Function',\n",
              "       'Hetionet::PCiC::Pharmacologic Class:Compound',\n",
              "       'Hetionet::GpCC::Gene:Cellular Component',\n",
              "       'Hetionet::Gr>G::Gene:Gene', 'Hetionet::CdG::Compound:Gene',\n",
              "       'Hetionet::DuG::Disease:Gene', 'Hetionet::GpPW::Gene:Pathway',\n",
              "       'Hetionet::CcSE::Compound:Side Effect',\n",
              "       'Hetionet::AeG::Anatomy:Gene',\n",
              "       'INTACT::PHYSICAL ASSOCIATION::Compound:Gene',\n",
              "       'INTACT::DIRECT INTERACTION::Compound:Gene',\n",
              "       'INTACT::ASSOCIATION::Compound:Gene',\n",
              "       'INTACT::ASSOCIATION::Gene:Gene',\n",
              "       'INTACT::PHYSICAL ASSOCIATION::Gene:Gene',\n",
              "       'INTACT::COLOCALIZATION::Gene:Gene',\n",
              "       'INTACT::DEPHOSPHORYLATION REACTION::Gene:Gene',\n",
              "       'INTACT::CLEAVAGE REACTION::Gene:Gene',\n",
              "       'INTACT::DIRECT INTERACTION::Gene:Gene',\n",
              "       'INTACT::PHOSPHORYLATION REACTION::Gene:Gene',\n",
              "       'INTACT::ADP RIBOSYLATION REACTION::Gene:Gene',\n",
              "       'INTACT::UBIQUITINATION REACTION::Gene:Gene',\n",
              "       'INTACT::PROTEIN CLEAVAGE::Gene:Gene',\n",
              "       'STRING::REACTION::Gene:Gene', 'STRING::CATALYSIS::Gene:Gene',\n",
              "       'STRING::ACTIVATION::Gene:Gene', 'STRING::INHIBITION::Gene:Gene',\n",
              "       'STRING::OTHER::Gene:Gene', 'STRING::BINDING::Gene:Gene',\n",
              "       'STRING::PTMOD::Gene:Gene', 'STRING::EXPRESSION::Gene:Gene'],\n",
              "      dtype=object)"
            ]
          },
          "metadata": {
            "tags": []
          },
          "execution_count": 25
        }
      ]
    },
    {
      "cell_type": "markdown",
      "metadata": {
        "id": "HaZhQGheG8Ak"
      },
      "source": [
        "### **HOW TO READ RELATIONS**\n",
        "\n",
        "* RELATION EXAMPLE \n",
        "<p align=\"center\">\n",
        "  <img src=\"https://drive.google.com/uc?id=1MXougxsK_z4VNUdfDJAOrTMY5eZFo4xM\" />\n",
        "</p>\n",
        "\n"
      ]
    },
    {
      "cell_type": "markdown",
      "metadata": {
        "id": "0JMm7FYIGubd"
      },
      "source": [
        "<p align=\"center\">\n",
        "  <img src=\"https://drive.google.com/uc?id=1wVdnTzHVT2f36R_wJauIG-4VGmG6k64-\" />\n",
        "</p>\n",
        "\n"
      ]
    },
    {
      "cell_type": "code",
      "metadata": {
        "id": "W9m2S_FCslgd",
        "outputId": "756c6136-2fb6-4604-ad43-38994d1e4f9e",
        "colab": {
          "base_uri": "https://localhost:8080/"
        }
      },
      "source": [
        "!ls"
      ],
      "execution_count": null,
      "outputs": [
        {
          "output_type": "stream",
          "text": [
            "drkg.tar.gz  embed\t     relation_glossary.tsv\n",
            "drkg.tsv     entity2src.tsv  sample_data\n"
          ],
          "name": "stdout"
        }
      ]
    },
    {
      "cell_type": "code",
      "metadata": {
        "id": "c5sXHeshs0vR",
        "outputId": "015ea1f0-5c49-41f8-d8fe-e5266565f83c",
        "colab": {
          "base_uri": "https://localhost:8080/",
          "height": 289
        }
      },
      "source": [
        "ontology = pd.read_csv('relation_glossary.tsv', sep='\\t')\n",
        "ontology.head()"
      ],
      "execution_count": null,
      "outputs": [
        {
          "output_type": "execute_result",
          "data": {
            "text/html": [
              "<div>\n",
              "<style scoped>\n",
              "    .dataframe tbody tr th:only-of-type {\n",
              "        vertical-align: middle;\n",
              "    }\n",
              "\n",
              "    .dataframe tbody tr th {\n",
              "        vertical-align: top;\n",
              "    }\n",
              "\n",
              "    .dataframe thead th {\n",
              "        text-align: right;\n",
              "    }\n",
              "</style>\n",
              "<table border=\"1\" class=\"dataframe\">\n",
              "  <thead>\n",
              "    <tr style=\"text-align: right;\">\n",
              "      <th></th>\n",
              "      <th>Relation-name</th>\n",
              "      <th>Data-source</th>\n",
              "      <th>Connected entity-types</th>\n",
              "      <th>Interaction-type</th>\n",
              "      <th>Description</th>\n",
              "      <th>Reference for the description</th>\n",
              "    </tr>\n",
              "  </thead>\n",
              "  <tbody>\n",
              "    <tr>\n",
              "      <th>0</th>\n",
              "      <td>DGIDB::ACTIVATOR::Gene:Compound</td>\n",
              "      <td>DGIDB</td>\n",
              "      <td>Compound:Gene</td>\n",
              "      <td>activation</td>\n",
              "      <td>An activator interaction is when a drug activa...</td>\n",
              "      <td>http://www.dgidb.org/getting_started</td>\n",
              "    </tr>\n",
              "    <tr>\n",
              "      <th>1</th>\n",
              "      <td>DGIDB::AGONIST::Gene:Compound</td>\n",
              "      <td>DGIDB</td>\n",
              "      <td>Compound:Gene</td>\n",
              "      <td>agonism</td>\n",
              "      <td>An agonist interaction occurs when a drug bind...</td>\n",
              "      <td>http://www.dgidb.org/getting_started</td>\n",
              "    </tr>\n",
              "    <tr>\n",
              "      <th>2</th>\n",
              "      <td>DGIDB::ALLOSTERIC MODULATOR::Gene:Compound</td>\n",
              "      <td>DGIDB</td>\n",
              "      <td>Compound:Gene</td>\n",
              "      <td>allosteric modulation</td>\n",
              "      <td>An allosteric modulator interaction occurs whe...</td>\n",
              "      <td>http://www.dgidb.org/getting_started</td>\n",
              "    </tr>\n",
              "    <tr>\n",
              "      <th>3</th>\n",
              "      <td>DGIDB::ANTAGONIST::Gene:Compound</td>\n",
              "      <td>DGIDB</td>\n",
              "      <td>Compound:Gene</td>\n",
              "      <td>antagonism</td>\n",
              "      <td>An antagonist interaction occurs when a drug b...</td>\n",
              "      <td>http://www.dgidb.org/getting_started</td>\n",
              "    </tr>\n",
              "    <tr>\n",
              "      <th>4</th>\n",
              "      <td>DGIDB::ANTIBODY::Gene:Compound</td>\n",
              "      <td>DGIDB</td>\n",
              "      <td>Compound:Gene</td>\n",
              "      <td>antibody</td>\n",
              "      <td>An antibody interaction occurs when an antibod...</td>\n",
              "      <td>http://www.dgidb.org/getting_started</td>\n",
              "    </tr>\n",
              "  </tbody>\n",
              "</table>\n",
              "</div>"
            ],
            "text/plain": [
              "                                Relation-name  ...         Reference for the description\n",
              "0             DGIDB::ACTIVATOR::Gene:Compound  ...  http://www.dgidb.org/getting_started\n",
              "1               DGIDB::AGONIST::Gene:Compound  ...  http://www.dgidb.org/getting_started\n",
              "2  DGIDB::ALLOSTERIC MODULATOR::Gene:Compound  ...  http://www.dgidb.org/getting_started\n",
              "3            DGIDB::ANTAGONIST::Gene:Compound  ...  http://www.dgidb.org/getting_started\n",
              "4              DGIDB::ANTIBODY::Gene:Compound  ...  http://www.dgidb.org/getting_started\n",
              "\n",
              "[5 rows x 6 columns]"
            ]
          },
          "metadata": {
            "tags": []
          },
          "execution_count": 17
        }
      ]
    },
    {
      "cell_type": "code",
      "metadata": {
        "id": "68hjEO983pIi",
        "outputId": "a1789677-097b-4821-ff51-773767295b31",
        "colab": {
          "base_uri": "https://localhost:8080/"
        }
      },
      "source": [
        "ontology['Data-source'].unique()"
      ],
      "execution_count": null,
      "outputs": [
        {
          "output_type": "execute_result",
          "data": {
            "text/plain": [
              "array(['DGIDB', 'DRUGBANK', 'GNBR', 'HETIONET', 'IntAct', 'STRING',\n",
              "       'BIBLIOGRAPHY'], dtype=object)"
            ]
          },
          "metadata": {
            "tags": []
          },
          "execution_count": 18
        }
      ]
    },
    {
      "cell_type": "code",
      "metadata": {
        "id": "yNEmJgzOs9gl",
        "outputId": "e4937d7d-a0db-4534-f767-7781a15fd763",
        "colab": {
          "base_uri": "https://localhost:8080/",
          "height": 80
        }
      },
      "source": [
        "ontology[ontology['Relation-name'] == 'bioarx::HumGenHumGen:Gene:Gene']\n"
      ],
      "execution_count": null,
      "outputs": [
        {
          "output_type": "execute_result",
          "data": {
            "text/html": [
              "<div>\n",
              "<style scoped>\n",
              "    .dataframe tbody tr th:only-of-type {\n",
              "        vertical-align: middle;\n",
              "    }\n",
              "\n",
              "    .dataframe tbody tr th {\n",
              "        vertical-align: top;\n",
              "    }\n",
              "\n",
              "    .dataframe thead th {\n",
              "        text-align: right;\n",
              "    }\n",
              "</style>\n",
              "<table border=\"1\" class=\"dataframe\">\n",
              "  <thead>\n",
              "    <tr style=\"text-align: right;\">\n",
              "      <th></th>\n",
              "      <th>Relation-name</th>\n",
              "      <th>Data-source</th>\n",
              "      <th>Connected entity-types</th>\n",
              "      <th>Interaction-type</th>\n",
              "      <th>Description</th>\n",
              "      <th>Reference for the description</th>\n",
              "    </tr>\n",
              "  </thead>\n",
              "  <tbody>\n",
              "    <tr>\n",
              "      <th>105</th>\n",
              "      <td>bioarx::HumGenHumGen:Gene:Gene</td>\n",
              "      <td>BIBLIOGRAPHY</td>\n",
              "      <td>Gene:Gene</td>\n",
              "      <td>interaction</td>\n",
              "      <td>Protein-protein interaction</td>\n",
              "      <td>NaN</td>\n",
              "    </tr>\n",
              "  </tbody>\n",
              "</table>\n",
              "</div>"
            ],
            "text/plain": [
              "                      Relation-name  ... Reference for the description\n",
              "105  bioarx::HumGenHumGen:Gene:Gene  ...                           NaN\n",
              "\n",
              "[1 rows x 6 columns]"
            ]
          },
          "metadata": {
            "tags": []
          },
          "execution_count": 19
        }
      ]
    },
    {
      "cell_type": "code",
      "metadata": {
        "id": "pgtZ2I-EuZdj",
        "outputId": "5985e86f-e6d4-4592-9816-b9a7f9ab3a1a",
        "colab": {
          "base_uri": "https://localhost:8080/"
        }
      },
      "source": [
        "interaction_types = ontology['Interaction-type'].unique()\n",
        "interaction_types"
      ],
      "execution_count": null,
      "outputs": [
        {
          "output_type": "execute_result",
          "data": {
            "text/plain": [
              "array(['activation', 'agonism', 'allosteric modulation', 'antagonism',\n",
              "       'antibody', 'binding', 'blocking', 'channel blocking',\n",
              "       'inhibition', 'modulation', 'other', 'partial agonism',\n",
              "       'positive allosteric modulation', 'carrier',\n",
              "       'drug-drug interaction', 'enzyme', 'target',\n",
              "       'Compound belongs to Anatomical Therapeutic Chemical (ATC) code.',\n",
              "       'Compound treats the disease', 'agonism, activation',\n",
              "       'antagonism, blocking', 'binding, ligand (esp. receptors)',\n",
              "       'inhibits cell growth (esp. cancers)', 'drug targets',\n",
              "       'increases expression/production',\n",
              "       'decreases expression/production',\n",
              "       'affects expression/production (neutral)', 'promotes progression',\n",
              "       'same protein or complex', 'signaling pathway',\n",
              "       'role in disease pathogenesis', 'role in pathogenesis',\n",
              "       'metabolism, pharmacokinetics',\n",
              "       'improper regulation linked to disease', 'biomarkers (diagnostic)',\n",
              "       'biomarkers (of disease progression)', 'inhibits',\n",
              "       'transport, channels', 'alleviates, reduces',\n",
              "       'prevents, suppresses', 'production by cell population',\n",
              "       'regulation', 'side effect/adverse event',\n",
              "       'treatment/therapy (including investigatory)',\n",
              "       'possible therapeutic effect', 'causal mutations',\n",
              "       'mutations affecting disease course', 'activates, stimulates',\n",
              "       'enhances response', 'overexpression in disease',\n",
              "       'polymorphisms alter risk', 'enzyme activity',\n",
              "       'gene belongs to taxonomy', 'downregulatation', 'expression',\n",
              "       'upregulation', 'causes', 'downregulation', 'palliation',\n",
              "       'resemblence', 'treatment', 'association', 'localization',\n",
              "       'presents', 'covariation', 'interaction', 'participation',\n",
              "       'inclusion', 'ADP ribosylation reaction', 'cleavage reaction',\n",
              "       'colocalization', 'dephosphorylation reaction',\n",
              "       'direct interation', 'phosphorylation reaction',\n",
              "       'physical association', 'protein cleavage',\n",
              "       'ubiquitination reaction', 'catalysis',\n",
              "       'post-translational modification', 'reaction'], dtype=object)"
            ]
          },
          "metadata": {
            "tags": []
          },
          "execution_count": 23
        }
      ]
    },
    {
      "cell_type": "code",
      "metadata": {
        "id": "9Tma7NNDwEzk",
        "outputId": "3fb4e9a8-3af0-4e82-e2f6-9bb74c618424",
        "colab": {
          "base_uri": "https://localhost:8080/"
        }
      },
      "source": [
        "!ls"
      ],
      "execution_count": null,
      "outputs": [
        {
          "output_type": "stream",
          "text": [
            "drkg.tar.gz  embed\t     relation_glossary.tsv\n",
            "drkg.tsv     entity2src.tsv  sample_data\n"
          ],
          "name": "stdout"
        }
      ]
    },
    {
      "cell_type": "markdown",
      "metadata": {
        "id": "RzjmZEN-LsNy"
      },
      "source": [
        "# COVID19: Targets and Drugs\n",
        "## all codes are available in officiel DGL-KE site"
      ]
    },
    {
      "cell_type": "code",
      "metadata": {
        "id": "1k_9cIvf6gLY",
        "outputId": "5eb00b67-c099-4953-a496-8ee9d83babc3",
        "colab": {
          "base_uri": "https://localhost:8080/"
        }
      },
      "source": [
        "!wget https://www.dropbox.com/s/6wkwkq1702howzm/coronavirus-related-host-genes.tsv\n",
        "!wget https://www.dropbox.com/s/1ic85679gj56a5t/COVID19_clinical_trial_drugs.tsv\n",
        "!wget https://www.dropbox.com/s/ppgdw32bw9pyas3/covid19-host-genes.tsv\n",
        "!wget https://www.dropbox.com/s/id0rmebzzopm25j/infer_drug.tsv\n"
      ],
      "execution_count": null,
      "outputs": [
        {
          "output_type": "stream",
          "text": [
            "--2020-11-10 21:12:55--  https://www.dropbox.com/s/6wkwkq1702howzm/coronavirus-related-host-genes.tsv\n",
            "Resolving www.dropbox.com (www.dropbox.com)... 162.125.5.1, 2620:100:601d:1::a27d:501\n",
            "Connecting to www.dropbox.com (www.dropbox.com)|162.125.5.1|:443... connected.\n",
            "HTTP request sent, awaiting response... 301 Moved Permanently\n",
            "Location: /s/raw/6wkwkq1702howzm/coronavirus-related-host-genes.tsv [following]\n",
            "--2020-11-10 21:12:55--  https://www.dropbox.com/s/raw/6wkwkq1702howzm/coronavirus-related-host-genes.tsv\n",
            "Reusing existing connection to www.dropbox.com:443.\n",
            "HTTP request sent, awaiting response... 302 Found\n",
            "Location: https://uccceee71d3db8a190d456ae33e1.dl.dropboxusercontent.com/cd/0/inline/BC_IFs2ms69uzGurmoD_mBCwI2DCkuB5jp35GNbO1_rxwJh9J3iFxP1PJn9qaWD-Y5HwQ82gOe500BHCQn_BJ9U9YmSw6zlKti7g53rfKRBQ5kn61iDSbq9G0hAONeeWwBo/file# [following]\n",
            "--2020-11-10 21:12:56--  https://uccceee71d3db8a190d456ae33e1.dl.dropboxusercontent.com/cd/0/inline/BC_IFs2ms69uzGurmoD_mBCwI2DCkuB5jp35GNbO1_rxwJh9J3iFxP1PJn9qaWD-Y5HwQ82gOe500BHCQn_BJ9U9YmSw6zlKti7g53rfKRBQ5kn61iDSbq9G0hAONeeWwBo/file\n",
            "Resolving uccceee71d3db8a190d456ae33e1.dl.dropboxusercontent.com (uccceee71d3db8a190d456ae33e1.dl.dropboxusercontent.com)... 162.125.5.15, 2620:100:601d:15::a27d:50f\n",
            "Connecting to uccceee71d3db8a190d456ae33e1.dl.dropboxusercontent.com (uccceee71d3db8a190d456ae33e1.dl.dropboxusercontent.com)|162.125.5.15|:443... connected.\n",
            "HTTP request sent, awaiting response... 200 OK\n",
            "Length: 10480 (10K) [text/plain]\n",
            "Saving to: ‘coronavirus-related-host-genes.tsv’\n",
            "\n",
            "coronavirus-related 100%[===================>]  10.23K  --.-KB/s    in 0s      \n",
            "\n",
            "2020-11-10 21:12:56 (206 MB/s) - ‘coronavirus-related-host-genes.tsv’ saved [10480/10480]\n",
            "\n",
            "--2020-11-10 21:12:56--  https://www.dropbox.com/s/1ic85679gj56a5t/COVID19_clinical_trial_drugs.tsv\n",
            "Resolving www.dropbox.com (www.dropbox.com)... 162.125.5.1, 2620:100:601f:1::a27d:901\n",
            "Connecting to www.dropbox.com (www.dropbox.com)|162.125.5.1|:443... connected.\n",
            "HTTP request sent, awaiting response... 301 Moved Permanently\n",
            "Location: /s/raw/1ic85679gj56a5t/COVID19_clinical_trial_drugs.tsv [following]\n",
            "--2020-11-10 21:12:57--  https://www.dropbox.com/s/raw/1ic85679gj56a5t/COVID19_clinical_trial_drugs.tsv\n",
            "Reusing existing connection to www.dropbox.com:443.\n",
            "HTTP request sent, awaiting response... 302 Found\n",
            "Location: https://uc38ea07eb23991022955984e5af.dl.dropboxusercontent.com/cd/0/inline/BC_P9pLavDnuTzhsaAjot14rcjTIy0hSsRgvLy1szcUEbnVm_XekPU1GCXCyLCylEfOzx3XurV4SO4FYZ1ioFfqGWiidW7AiL7C80rdW3WknH0O9kNW9laVRtiWyQdr0UZs/file# [following]\n",
            "--2020-11-10 21:12:57--  https://uc38ea07eb23991022955984e5af.dl.dropboxusercontent.com/cd/0/inline/BC_P9pLavDnuTzhsaAjot14rcjTIy0hSsRgvLy1szcUEbnVm_XekPU1GCXCyLCylEfOzx3XurV4SO4FYZ1ioFfqGWiidW7AiL7C80rdW3WknH0O9kNW9laVRtiWyQdr0UZs/file\n",
            "Resolving uc38ea07eb23991022955984e5af.dl.dropboxusercontent.com (uc38ea07eb23991022955984e5af.dl.dropboxusercontent.com)... 162.125.5.15, 2620:100:601f:15::a27d:90f\n",
            "Connecting to uc38ea07eb23991022955984e5af.dl.dropboxusercontent.com (uc38ea07eb23991022955984e5af.dl.dropboxusercontent.com)|162.125.5.15|:443... connected.\n",
            "HTTP request sent, awaiting response... 200 OK\n",
            "Length: 738 [text/plain]\n",
            "Saving to: ‘COVID19_clinical_trial_drugs.tsv’\n",
            "\n",
            "COVID19_clinical_tr 100%[===================>]     738  --.-KB/s    in 0s      \n",
            "\n",
            "2020-11-10 21:12:57 (109 MB/s) - ‘COVID19_clinical_trial_drugs.tsv’ saved [738/738]\n",
            "\n",
            "--2020-11-10 21:12:57--  https://www.dropbox.com/s/ppgdw32bw9pyas3/covid19-host-genes.tsv\n",
            "Resolving www.dropbox.com (www.dropbox.com)... 162.125.5.1, 2620:100:601d:1::a27d:501\n",
            "Connecting to www.dropbox.com (www.dropbox.com)|162.125.5.1|:443... connected.\n",
            "HTTP request sent, awaiting response... 301 Moved Permanently\n",
            "Location: /s/raw/ppgdw32bw9pyas3/covid19-host-genes.tsv [following]\n",
            "--2020-11-10 21:12:58--  https://www.dropbox.com/s/raw/ppgdw32bw9pyas3/covid19-host-genes.tsv\n",
            "Reusing existing connection to www.dropbox.com:443.\n",
            "HTTP request sent, awaiting response... 302 Found\n",
            "Location: https://uc0e903bddde06ad4d01bd21b7bc.dl.dropboxusercontent.com/cd/0/inline/BC89VBOklXs5k0BULW3D5bctIyvdSajNOto6d7lmmm53CImWlHyio3lsXWDIm6uv9f9LanAdtvp3gZ9vymJPxg4Au8pxpB8T2C2nWIJHjdm9bUMnY3KYCbqb8u5Iyy9Anf0/file# [following]\n",
            "--2020-11-10 21:12:58--  https://uc0e903bddde06ad4d01bd21b7bc.dl.dropboxusercontent.com/cd/0/inline/BC89VBOklXs5k0BULW3D5bctIyvdSajNOto6d7lmmm53CImWlHyio3lsXWDIm6uv9f9LanAdtvp3gZ9vymJPxg4Au8pxpB8T2C2nWIJHjdm9bUMnY3KYCbqb8u5Iyy9Anf0/file\n",
            "Resolving uc0e903bddde06ad4d01bd21b7bc.dl.dropboxusercontent.com (uc0e903bddde06ad4d01bd21b7bc.dl.dropboxusercontent.com)... 162.125.5.15, 2620:100:601d:15::a27d:50f\n",
            "Connecting to uc0e903bddde06ad4d01bd21b7bc.dl.dropboxusercontent.com (uc0e903bddde06ad4d01bd21b7bc.dl.dropboxusercontent.com)|162.125.5.15|:443... connected.\n",
            "HTTP request sent, awaiting response... 200 OK\n",
            "Length: 26099 (25K) [text/plain]\n",
            "Saving to: ‘covid19-host-genes.tsv’\n",
            "\n",
            "covid19-host-genes. 100%[===================>]  25.49K  --.-KB/s    in 0.02s   \n",
            "\n",
            "2020-11-10 21:12:59 (1.05 MB/s) - ‘covid19-host-genes.tsv’ saved [26099/26099]\n",
            "\n",
            "--2020-11-10 21:12:59--  https://www.dropbox.com/s/id0rmebzzopm25j/infer_drug.tsv\n",
            "Resolving www.dropbox.com (www.dropbox.com)... 162.125.5.1, 2620:100:601d:1::a27d:501\n",
            "Connecting to www.dropbox.com (www.dropbox.com)|162.125.5.1|:443... connected.\n",
            "HTTP request sent, awaiting response... 301 Moved Permanently\n",
            "Location: /s/raw/id0rmebzzopm25j/infer_drug.tsv [following]\n",
            "--2020-11-10 21:12:59--  https://www.dropbox.com/s/raw/id0rmebzzopm25j/infer_drug.tsv\n",
            "Reusing existing connection to www.dropbox.com:443.\n",
            "HTTP request sent, awaiting response... 302 Found\n",
            "Location: https://uc6278378aaafb508beaae5372da.dl.dropboxusercontent.com/cd/0/inline/BC9Qts0tNxyAhtxk-crAH3dK-Tv93e3yTdncJ9gPuZJeGxqChO8CiEeTxyHQ4RBSfHUdQWAIp4Lpb6Lu7dx1iktSsahIE-hsyBmkDT6pnuUQPbFio0yYg8w2-cIsvT6cI3U/file# [following]\n",
            "--2020-11-10 21:12:59--  https://uc6278378aaafb508beaae5372da.dl.dropboxusercontent.com/cd/0/inline/BC9Qts0tNxyAhtxk-crAH3dK-Tv93e3yTdncJ9gPuZJeGxqChO8CiEeTxyHQ4RBSfHUdQWAIp4Lpb6Lu7dx1iktSsahIE-hsyBmkDT6pnuUQPbFio0yYg8w2-cIsvT6cI3U/file\n",
            "Resolving uc6278378aaafb508beaae5372da.dl.dropboxusercontent.com (uc6278378aaafb508beaae5372da.dl.dropboxusercontent.com)... 162.125.5.15, 2620:100:601d:15::a27d:50f\n",
            "Connecting to uc6278378aaafb508beaae5372da.dl.dropboxusercontent.com (uc6278378aaafb508beaae5372da.dl.dropboxusercontent.com)|162.125.5.15|:443... connected.\n",
            "HTTP request sent, awaiting response... 200 OK\n",
            "Length: 192458 (188K) [text/plain]\n",
            "Saving to: ‘infer_drug.tsv’\n",
            "\n",
            "infer_drug.tsv      100%[===================>] 187.95K  --.-KB/s    in 0.08s   \n",
            "\n",
            "2020-11-10 21:13:00 (2.20 MB/s) - ‘infer_drug.tsv’ saved [192458/192458]\n",
            "\n"
          ],
          "name": "stdout"
        }
      ]
    },
    {
      "cell_type": "code",
      "metadata": {
        "id": "EnR_QAbeM1R9",
        "outputId": "950f998a-56b1-4b44-c6d9-5f814ad34742",
        "colab": {
          "base_uri": "https://localhost:8080/"
        }
      },
      "source": [
        "!ls"
      ],
      "execution_count": null,
      "outputs": [
        {
          "output_type": "stream",
          "text": [
            "coronavirus-related-host-genes.tsv  drkg.tsv\t    relation_glossary.tsv\n",
            "COVID19_clinical_trial_drugs.tsv    embed\t    sample_data\n",
            "covid19-host-genes.tsv\t\t    entity2src.tsv\n",
            "drkg.tar.gz\t\t\t    infer_drug.tsv\n"
          ],
          "name": "stdout"
        }
      ]
    },
    {
      "cell_type": "code",
      "metadata": {
        "id": "A9VPvjx1JvvV"
      },
      "source": [
        "\n",
        "\n",
        "import pandas as pd\n",
        "import numpy as np\n",
        "\n",
        "\n",
        "clinical_trials = ''\n",
        "\n",
        "\n",
        "df = pd.read_csv('coronavirus-related-host-genes.tsv', sep=\"\\t\", names=col_names)\n",
        "df_host = pd.read_csv('covid19-host-genes.tsv',  sep=\"\\t\", names=col_names)\n"
      ],
      "execution_count": null,
      "outputs": []
    },
    {
      "cell_type": "code",
      "metadata": {
        "id": "7bjzUUsG61mR",
        "outputId": "4d7094c7-8c39-45ac-c00a-05f0f43b49db",
        "colab": {
          "base_uri": "https://localhost:8080/",
          "height": 204
        }
      },
      "source": [
        "df.head()"
      ],
      "execution_count": null,
      "outputs": [
        {
          "output_type": "execute_result",
          "data": {
            "text/html": [
              "<div>\n",
              "<style scoped>\n",
              "    .dataframe tbody tr th:only-of-type {\n",
              "        vertical-align: middle;\n",
              "    }\n",
              "\n",
              "    .dataframe tbody tr th {\n",
              "        vertical-align: top;\n",
              "    }\n",
              "\n",
              "    .dataframe thead th {\n",
              "        text-align: right;\n",
              "    }\n",
              "</style>\n",
              "<table border=\"1\" class=\"dataframe\">\n",
              "  <thead>\n",
              "    <tr style=\"text-align: right;\">\n",
              "      <th></th>\n",
              "      <th>HEAD</th>\n",
              "      <th>RELATION</th>\n",
              "      <th>TAIL</th>\n",
              "    </tr>\n",
              "  </thead>\n",
              "  <tbody>\n",
              "    <tr>\n",
              "      <th>0</th>\n",
              "      <td>Disease::MESH:D001351</td>\n",
              "      <td>bioarx::Coronavirus_ass_host_gene::Disease:Gene</td>\n",
              "      <td>Gene::2931</td>\n",
              "    </tr>\n",
              "    <tr>\n",
              "      <th>1</th>\n",
              "      <td>Disease::MESH:D001351</td>\n",
              "      <td>bioarx::Coronavirus_ass_host_gene::Disease:Gene</td>\n",
              "      <td>Gene::2932</td>\n",
              "    </tr>\n",
              "    <tr>\n",
              "      <th>2</th>\n",
              "      <td>Disease::MESH:D001351</td>\n",
              "      <td>bioarx::Coronavirus_ass_host_gene::Disease:Gene</td>\n",
              "      <td>Gene::26986</td>\n",
              "    </tr>\n",
              "    <tr>\n",
              "      <th>3</th>\n",
              "      <td>Disease::MESH:D001351</td>\n",
              "      <td>bioarx::Coronavirus_ass_host_gene::Disease:Gene</td>\n",
              "      <td>Gene::8761</td>\n",
              "    </tr>\n",
              "    <tr>\n",
              "      <th>4</th>\n",
              "      <td>Disease::MESH:D001351</td>\n",
              "      <td>bioarx::Coronavirus_ass_host_gene::Disease:Gene</td>\n",
              "      <td>Gene::3178</td>\n",
              "    </tr>\n",
              "  </tbody>\n",
              "</table>\n",
              "</div>"
            ],
            "text/plain": [
              "                    HEAD  ...         TAIL\n",
              "0  Disease::MESH:D001351  ...   Gene::2931\n",
              "1  Disease::MESH:D001351  ...   Gene::2932\n",
              "2  Disease::MESH:D001351  ...  Gene::26986\n",
              "3  Disease::MESH:D001351  ...   Gene::8761\n",
              "4  Disease::MESH:D001351  ...   Gene::3178\n",
              "\n",
              "[5 rows x 3 columns]"
            ]
          },
          "metadata": {
            "tags": []
          },
          "execution_count": 30
        }
      ]
    },
    {
      "cell_type": "code",
      "metadata": {
        "id": "0kZuA0ly7FdL",
        "outputId": "f2cbde1a-6200-4fa4-d393-12943e5e2849",
        "colab": {
          "base_uri": "https://localhost:8080/",
          "height": 204
        }
      },
      "source": [
        "df_host.head()"
      ],
      "execution_count": null,
      "outputs": [
        {
          "output_type": "execute_result",
          "data": {
            "text/html": [
              "<div>\n",
              "<style scoped>\n",
              "    .dataframe tbody tr th:only-of-type {\n",
              "        vertical-align: middle;\n",
              "    }\n",
              "\n",
              "    .dataframe tbody tr th {\n",
              "        vertical-align: top;\n",
              "    }\n",
              "\n",
              "    .dataframe thead th {\n",
              "        text-align: right;\n",
              "    }\n",
              "</style>\n",
              "<table border=\"1\" class=\"dataframe\">\n",
              "  <thead>\n",
              "    <tr style=\"text-align: right;\">\n",
              "      <th></th>\n",
              "      <th>HEAD</th>\n",
              "      <th>RELATION</th>\n",
              "      <th>TAIL</th>\n",
              "    </tr>\n",
              "  </thead>\n",
              "  <tbody>\n",
              "    <tr>\n",
              "      <th>0</th>\n",
              "      <td>Disease::SARS-CoV2 E</td>\n",
              "      <td>bioarx::Covid2_acc_host_gene::Disease:Gene</td>\n",
              "      <td>Gene::8546</td>\n",
              "    </tr>\n",
              "    <tr>\n",
              "      <th>1</th>\n",
              "      <td>Disease::SARS-CoV2 E</td>\n",
              "      <td>bioarx::Covid2_acc_host_gene::Disease:Gene</td>\n",
              "      <td>Gene::23476</td>\n",
              "    </tr>\n",
              "    <tr>\n",
              "      <th>2</th>\n",
              "      <td>Disease::SARS-CoV2 E</td>\n",
              "      <td>bioarx::Covid2_acc_host_gene::Disease:Gene</td>\n",
              "      <td>Gene::6046</td>\n",
              "    </tr>\n",
              "    <tr>\n",
              "      <th>3</th>\n",
              "      <td>Disease::SARS-CoV2 E</td>\n",
              "      <td>bioarx::Covid2_acc_host_gene::Disease:Gene</td>\n",
              "      <td>Gene::10283</td>\n",
              "    </tr>\n",
              "    <tr>\n",
              "      <th>4</th>\n",
              "      <td>Disease::SARS-CoV2 E</td>\n",
              "      <td>bioarx::Covid2_acc_host_gene::Disease:Gene</td>\n",
              "      <td>Gene::124245</td>\n",
              "    </tr>\n",
              "  </tbody>\n",
              "</table>\n",
              "</div>"
            ],
            "text/plain": [
              "                   HEAD  ...          TAIL\n",
              "0  Disease::SARS-CoV2 E  ...    Gene::8546\n",
              "1  Disease::SARS-CoV2 E  ...   Gene::23476\n",
              "2  Disease::SARS-CoV2 E  ...    Gene::6046\n",
              "3  Disease::SARS-CoV2 E  ...   Gene::10283\n",
              "4  Disease::SARS-CoV2 E  ...  Gene::124245\n",
              "\n",
              "[5 rows x 3 columns]"
            ]
          },
          "metadata": {
            "tags": []
          },
          "execution_count": 31
        }
      ]
    },
    {
      "cell_type": "code",
      "metadata": {
        "id": "4duEw7rVP0Dg",
        "outputId": "319659e0-6df8-4da6-d1d6-579e3eaf227f",
        "colab": {
          "base_uri": "https://localhost:8080/"
        }
      },
      "source": [
        "df_host.shape"
      ],
      "execution_count": null,
      "outputs": [
        {
          "output_type": "execute_result",
          "data": {
            "text/plain": [
              "(332, 3)"
            ]
          },
          "metadata": {
            "tags": []
          },
          "execution_count": 32
        }
      ]
    },
    {
      "cell_type": "markdown",
      "metadata": {
        "id": "ED9rq_ulRShF"
      },
      "source": [
        "# COVID19 REPOSITIONING\n",
        "\n",
        "\n",
        "1.   Define target virus entities and drug entities (e.g: fda drugs)   [DRUG-TREATMENT-VIRUS]\n",
        "2.   Get pretrained Knowledge Graph embedding\n",
        "3.   Predict the connection scores of all possible triplets (Drug, Treatment, Virus) using some algorithms (e.g: TransE)\n",
        "4.   \n",
        "\n"
      ]
    },
    {
      "cell_type": "markdown",
      "metadata": {
        "id": "k5VOYcbJTfEE"
      },
      "source": [
        "## COVID19 Virus Related Entities"
      ]
    },
    {
      "cell_type": "code",
      "metadata": {
        "id": "5dueRqVnTJEO"
      },
      "source": [
        "## covid related virus pheno\n",
        "COV_disease_list = [\n",
        "'Disease::SARS-CoV2 E',\n",
        "'Disease::SARS-CoV2 M',\n",
        "'Disease::SARS-CoV2 N',\n",
        "'Disease::SARS-CoV2 Spike',\n",
        "'Disease::SARS-CoV2 nsp1',\n",
        "'Disease::SARS-CoV2 nsp10',\n",
        "'Disease::SARS-CoV2 nsp11',\n",
        "'Disease::SARS-CoV2 nsp12',\n",
        "'Disease::SARS-CoV2 nsp13',\n",
        "'Disease::SARS-CoV2 nsp14',\n",
        "'Disease::SARS-CoV2 nsp15',\n",
        "'Disease::SARS-CoV2 nsp2',\n",
        "'Disease::SARS-CoV2 nsp4',\n",
        "'Disease::SARS-CoV2 nsp5',\n",
        "'Disease::SARS-CoV2 nsp5_C145A',\n",
        "'Disease::SARS-CoV2 nsp6',\n",
        "'Disease::SARS-CoV2 nsp7',\n",
        "'Disease::SARS-CoV2 nsp8',\n",
        "'Disease::SARS-CoV2 nsp9',\n",
        "'Disease::SARS-CoV2 orf10',\n",
        "'Disease::SARS-CoV2 orf3a',\n",
        "'Disease::SARS-CoV2 orf3b',\n",
        "'Disease::SARS-CoV2 orf6',\n",
        "'Disease::SARS-CoV2 orf7a',\n",
        "'Disease::SARS-CoV2 orf8',\n",
        "'Disease::SARS-CoV2 orf9b',\n",
        "'Disease::SARS-CoV2 orf9c',\n",
        "'Disease::MESH:D045169',\n",
        "'Disease::MESH:D045473',\n",
        "'Disease::MESH:D001351',\n",
        "'Disease::MESH:D065207',\n",
        "'Disease::MESH:D028941',\n",
        "'Disease::MESH:D058957',\n",
        "'Disease::MESH:D006517'\n",
        "]\n",
        "\n",
        "\n",
        "# treatment relations\n",
        "treatment = ['GNBR::T::Compound:Disease']\n",
        "# treatment = ['Hetionet::CtD::Compound:Disease','GNBR::T::Compound:Disease']"
      ],
      "execution_count": null,
      "outputs": []
    },
    {
      "cell_type": "code",
      "metadata": {
        "id": "7lwAbQj9BM1e",
        "outputId": "9dd02300-478c-4f17-87f0-38de9813cb5f",
        "colab": {
          "base_uri": "https://localhost:8080/"
        }
      },
      "source": [
        "!ls"
      ],
      "execution_count": null,
      "outputs": [
        {
          "output_type": "stream",
          "text": [
            "coronavirus-related-host-genes.tsv  drkg.tsv\t    relation_glossary.tsv\n",
            "COVID19_clinical_trial_drugs.tsv    embed\t    sample_data\n",
            "covid19-host-genes.tsv\t\t    entity2src.tsv\n",
            "drkg.tar.gz\t\t\t    infer_drug.tsv\n"
          ],
          "name": "stdout"
        }
      ]
    },
    {
      "cell_type": "markdown",
      "metadata": {
        "id": "Cdt9EiB_TU_u"
      },
      "source": [
        "## Drugs to Reposition (FDA approved drugs)\n",
        "---"
      ]
    },
    {
      "cell_type": "code",
      "metadata": {
        "id": "81wgOIVPSrPx"
      },
      "source": [
        "\n",
        "import csv\n",
        "\n",
        "# Load entity file\n",
        "drug_list = []\n",
        "with open(\"./infer_drug.tsv\", newline='', encoding='utf-8') as csvfile:\n",
        "    reader = csv.DictReader(csvfile, delimiter='\\t', fieldnames=['drug','ids'])\n",
        "    for row_val in reader:\n",
        "        drug_list.append(row_val['drug'])"
      ],
      "execution_count": null,
      "outputs": []
    },
    {
      "cell_type": "code",
      "metadata": {
        "id": "gG31V2gTXtem",
        "outputId": "dc153ad1-64c6-45b6-928c-ffe5bb69c454",
        "colab": {
          "base_uri": "https://localhost:8080/"
        }
      },
      "source": [
        "\n",
        "drug_list[:10]"
      ],
      "execution_count": null,
      "outputs": [
        {
          "output_type": "execute_result",
          "data": {
            "text/plain": [
              "['Compound::DB00605',\n",
              " 'Compound::DB00983',\n",
              " 'Compound::DB01240',\n",
              " 'Compound::DB11755',\n",
              " 'Compound::DB12184',\n",
              " 'Compound::DB00404',\n",
              " 'Compound::DB01223',\n",
              " 'Compound::DB00572',\n",
              " 'Compound::DB00669',\n",
              " 'Compound::DB00494']"
            ]
          },
          "metadata": {
            "tags": []
          },
          "execution_count": 48
        }
      ]
    },
    {
      "cell_type": "code",
      "metadata": {
        "id": "yPFXi2lPYENr"
      },
      "source": [
        ""
      ],
      "execution_count": null,
      "outputs": []
    },
    {
      "cell_type": "markdown",
      "metadata": {
        "id": "V91in9XXUS1p"
      },
      "source": [
        "## Treatment Relation"
      ]
    },
    {
      "cell_type": "code",
      "metadata": {
        "id": "J3hx2NgeUrlm"
      },
      "source": [
        "entity_idmap_file = 'embed/entities.tsv'\n",
        "relation_idmap_file = 'embed/relations.tsv'"
      ],
      "execution_count": null,
      "outputs": []
    },
    {
      "cell_type": "code",
      "metadata": {
        "id": "iImCWNrNW59q"
      },
      "source": [
        "# Get drugname/disease name to entity ID mappings\n",
        "entity_map = {}\n",
        "entity_id_map = {}\n",
        "relation_map = {}\n",
        "with open(entity_idmap_file, newline='', encoding='utf-8') as csvfile:\n",
        "    reader = csv.DictReader(csvfile, delimiter='\\t', fieldnames=['name','id'])\n",
        "    for row_val in reader:\n",
        "        entity_map[row_val['name']] = int(row_val['id'])\n",
        "        entity_id_map[int(row_val['id'])] = row_val['name']\n",
        "        \n",
        "with open(relation_idmap_file, newline='', encoding='utf-8') as csvfile:\n",
        "    reader = csv.DictReader(csvfile, delimiter='\\t', fieldnames=['name','id'])\n",
        "    for row_val in reader:\n",
        "        relation_map[row_val['name']] = int(row_val['id'])\n",
        "        \n",
        "# handle the ID mapping\n",
        "drug_ids = []\n",
        "disease_ids = []\n",
        "for drug in drug_list:\n",
        "    drug_ids.append(entity_map[drug])\n",
        "    \n",
        "for disease in COV_disease_list:\n",
        "    disease_ids.append(entity_map[disease])\n",
        "\n",
        "treatment_rid = [relation_map[treat]  for treat in treatment]"
      ],
      "execution_count": null,
      "outputs": []
    },
    {
      "cell_type": "code",
      "metadata": {
        "id": "zorZWOo4W9EL",
        "outputId": "16273538-5ab8-493b-dbc8-2721c34171b9",
        "colab": {
          "base_uri": "https://localhost:8080/"
        }
      },
      "source": [
        "len(entity_id_map)"
      ],
      "execution_count": null,
      "outputs": [
        {
          "output_type": "execute_result",
          "data": {
            "text/plain": [
              "97238"
            ]
          },
          "metadata": {
            "tags": []
          },
          "execution_count": 52
        }
      ]
    },
    {
      "cell_type": "markdown",
      "metadata": {
        "id": "FwPp6AKxQsAZ"
      },
      "source": [
        "### Get the pretrained DRKG knowledge graph embedding."
      ]
    },
    {
      "cell_type": "code",
      "metadata": {
        "id": "lGALdoKbQ4Lo",
        "outputId": "de418314-1ec4-4cc8-99e6-e8011a108e9b",
        "colab": {
          "base_uri": "https://localhost:8080/"
        }
      },
      "source": [
        "!ls"
      ],
      "execution_count": null,
      "outputs": [
        {
          "output_type": "stream",
          "text": [
            "coronavirus-related-host-genes.tsv    drkg.tsv\n",
            "coronavirus-related-host-genes.tsv.1  embed\n",
            "coronavirus-related-host-genes.tsv.2  entity2src.tsv\n",
            "COVID19_clinical_trial_drugs.tsv      infer_drug.tsv\n",
            "covid19-host-genes.tsv\t\t      relation_glossary.tsv\n",
            "drkg.tar.gz\t\t\t      sample_data\n"
          ],
          "name": "stdout"
        }
      ]
    },
    {
      "cell_type": "code",
      "metadata": {
        "id": "HX7SUIsSQrX4"
      },
      "source": [
        "# Load embeddings\n",
        "import torch as th\n",
        "entity_emb = np.load('embed/DRKG_TransE_l2_entity.npy')\n",
        "rel_emb = np.load('embed/DRKG_TransE_l2_relation.npy')\n",
        "\n",
        "drug_ids = th.tensor(drug_ids).long()\n",
        "disease_ids = th.tensor(disease_ids).long()\n",
        "treatment_rid = th.tensor(treatment_rid)\n",
        "\n",
        "drug_emb = th.tensor(entity_emb[drug_ids])\n",
        "treatment_embs = [th.tensor(rel_emb[rid]) for rid in treatment_rid]"
      ],
      "execution_count": null,
      "outputs": []
    },
    {
      "cell_type": "code",
      "metadata": {
        "id": "M5qchQ5AYwb_",
        "outputId": "12897dea-3d61-4c94-e3ac-1c95d9414bcd",
        "colab": {
          "base_uri": "https://localhost:8080/"
        }
      },
      "source": [
        "entity_emb.shape"
      ],
      "execution_count": null,
      "outputs": [
        {
          "output_type": "execute_result",
          "data": {
            "text/plain": [
              "(97238, 400)"
            ]
          },
          "metadata": {
            "tags": []
          },
          "execution_count": 56
        }
      ]
    },
    {
      "cell_type": "markdown",
      "metadata": {
        "id": "gcssomRea608"
      },
      "source": [
        "## Drug Repurposing \n",
        "We use following algorithm to calculate the edge score. Note, here we use logsigmiod to make all scores < 0. The larger the score is, the stronger the $h$ will have $r$ with $t$.\n",
        "\n",
        "$\\mathbf{d} = \\gamma - ||\\mathbf{h}+\\mathbf{r}-\\mathbf{t}||_{2}$\n",
        "\n",
        "$\\mathbf{score} = \\log\\left(\\frac{1}{1+\\exp(\\mathbf{-d})}\\right)$\n",
        "\n",
        "When doing drug repurposing, here onlythe treatment related relations is used."
      ]
    },
    {
      "cell_type": "code",
      "metadata": {
        "id": "gDfmD8pnbD3h"
      },
      "source": [
        "import torch.nn.functional as fn\n",
        "\n",
        "gamma=12.0\n",
        "def transE_l2(head, rel, tail):\n",
        "    score = head + rel - tail\n",
        "    return gamma - th.norm(score, p=2, dim=-1)\n",
        "\n",
        "scores_per_disease = []\n",
        "dids = []\n",
        "for rid in range(len(treatment_embs)):\n",
        "    treatment_emb=treatment_embs[rid]\n",
        "    for disease_id in disease_ids:\n",
        "        disease_emb = entity_emb[disease_id]\n",
        "        score = fn.logsigmoid(transE_l2(drug_emb, treatment_emb, disease_emb))\n",
        "        scores_per_disease.append(score)\n",
        "        dids.append(drug_ids)\n",
        "scores = th.cat(scores_per_disease)\n",
        "dids = th.cat(dids)\n",
        "\n",
        "_, unique_indices = np.unique(dids, return_index=True)\n",
        "topk=100\n",
        "topk_indices = np.sort(unique_indices)[:topk]\n",
        "proposed_dids = dids[topk_indices]\n",
        "proposed_scores = scores[topk_indices]"
      ],
      "execution_count": null,
      "outputs": []
    },
    {
      "cell_type": "code",
      "metadata": {
        "id": "P8OoXVPpbT_2"
      },
      "source": [
        ""
      ],
      "execution_count": null,
      "outputs": []
    },
    {
      "cell_type": "markdown",
      "metadata": {
        "id": "Z_LpAyZJDI7X"
      },
      "source": [
        "### Now we output proposed treatments"
      ]
    },
    {
      "cell_type": "code",
      "metadata": {
        "id": "wOvAOIQcbXFz"
      },
      "source": [
        "_, unique_indices = np.unique(dids, return_index=True)\n",
        "topk=20\n",
        "topk_indices = np.sort(unique_indices)[:topk]\n",
        "proposed_dids = dids[topk_indices]\n",
        "proposed_scores = scores[topk_indices]"
      ],
      "execution_count": null,
      "outputs": []
    },
    {
      "cell_type": "markdown",
      "metadata": {
        "id": "HL84g6CzDYH3"
      },
      "source": [
        "Now we list the pairs of in form of (drug, treat, disease, score)\n",
        "\n",
        "We select top K relevent drugs according the edge score"
      ]
    },
    {
      "cell_type": "code",
      "metadata": {
        "id": "tmfFbRhQDi1L",
        "outputId": "2fc8b124-1c13-4fa7-c5a5-5deb1ffaf401",
        "colab": {
          "base_uri": "https://localhost:8080/"
        }
      },
      "source": [
        "for i in range(topk):\n",
        "    drug = int(proposed_dids[i])\n",
        "    score = proposed_scores[i]\n",
        "    \n",
        "    print(\"{}\\t{}\".format(entity_id_map[drug], score))"
      ],
      "execution_count": null,
      "outputs": [
        {
          "output_type": "stream",
          "text": [
            "Compound::DB00605\t-3.8274006843566895\n",
            "Compound::DB00983\t-4.29738712310791\n",
            "Compound::DB01240\t-3.494697332382202\n",
            "Compound::DB11755\t-5.209402084350586\n",
            "Compound::DB12184\t-5.523895740509033\n",
            "Compound::DB00404\t-4.078985691070557\n",
            "Compound::DB01223\t-3.7494149208068848\n",
            "Compound::DB00572\t-3.686634063720703\n",
            "Compound::DB00669\t-3.8793208599090576\n",
            "Compound::DB00494\t-4.353816509246826\n",
            "Compound::DB01092\t-3.8507630825042725\n",
            "Compound::DB13800\t-4.895904541015625\n",
            "Compound::DB08893\t-3.718799114227295\n",
            "Compound::DB13678\t-5.571781158447266\n",
            "Compound::DB12274\t-6.433506488800049\n",
            "Compound::DB13375\t-6.392390251159668\n",
            "Compound::DB00215\t-3.428067445755005\n",
            "Compound::DB00268\t-4.064221382141113\n",
            "Compound::DB00115\t-3.4984261989593506\n",
            "Compound::DB01172\t-4.276356220245361\n"
          ],
          "name": "stdout"
        }
      ]
    },
    {
      "cell_type": "markdown",
      "metadata": {
        "id": "IeK4aWzKfGjc"
      },
      "source": [
        "#Homwework Clinical Trial Drugs \n",
        "* self study of embedding algorithm\n",
        "* run same code for clinical trial drugs\n",
        "* use the node_featurizer and edge_featurizer for drug repositioning\n"
      ]
    },
    {
      "cell_type": "code",
      "metadata": {
        "id": "Mkwb9gePD4VY"
      },
      "source": [
        ""
      ],
      "execution_count": null,
      "outputs": []
    }
  ]
}